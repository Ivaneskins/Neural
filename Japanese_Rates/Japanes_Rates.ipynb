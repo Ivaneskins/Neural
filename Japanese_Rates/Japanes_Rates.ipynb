{
  "nbformat": 4,
  "nbformat_minor": 0,
  "metadata": {
    "colab": {
      "name": "Japanes_Rates.ipynb",
      "provenance": [],
      "collapsed_sections": []
    },
    "kernelspec": {
      "name": "python3",
      "display_name": "Python 3"
    }
  },
  "cells": [
    {
      "cell_type": "markdown",
      "metadata": {
        "id": "lHxEcsYqROh9",
        "colab_type": "text"
      },
      "source": [
        "Построю модель регрессии для предсказания курса японской йены на 7 дней вперед.\n",
        "Для этого возьму данные курса японской йены с сайта сбербанка за 5 лет."
      ]
    },
    {
      "cell_type": "code",
      "metadata": {
        "id": "-rUesmRYBBH2",
        "colab_type": "code",
        "colab": {}
      },
      "source": [
        "#Подгружаю библиотеки\n",
        "import pandas as pd #Библиотека Для работы с 2D таблицами\n",
        "from google.colab import files #Библиотека для работы с файлами\n",
        "import matplotlib.pyplot as plt\n",
        "%matplotlib inline"
      ],
      "execution_count": null,
      "outputs": []
    },
    {
      "cell_type": "code",
      "metadata": {
        "id": "3GeK8GIrERUi",
        "colab_type": "code",
        "colab": {}
      },
      "source": [
        "files.upload() #Загружаю файл с таблицей курса японской йены за 5 лет"
      ],
      "execution_count": null,
      "outputs": []
    },
    {
      "cell_type": "code",
      "metadata": {
        "id": "WXh_lE_AEUQP",
        "colab_type": "code",
        "colab": {}
      },
      "source": [
        "rates = pd.read_excel('RC_F01_01_2015_T16_06_2020.xlsx') #Чтение Excel таблицы"
      ],
      "execution_count": null,
      "outputs": []
    },
    {
      "cell_type": "code",
      "metadata": {
        "id": "hFg1SFOoE_dV",
        "colab_type": "code",
        "colab": {
          "base_uri": "https://localhost:8080/",
          "height": 419
        },
        "outputId": "000f35ac-c297-4d30-8b28-ba5c9623da90"
      },
      "source": [
        "rates"
      ],
      "execution_count": null,
      "outputs": [
        {
          "output_type": "execute_result",
          "data": {
            "text/html": [
              "<div>\n",
              "<style scoped>\n",
              "    .dataframe tbody tr th:only-of-type {\n",
              "        vertical-align: middle;\n",
              "    }\n",
              "\n",
              "    .dataframe tbody tr th {\n",
              "        vertical-align: top;\n",
              "    }\n",
              "\n",
              "    .dataframe thead th {\n",
              "        text-align: right;\n",
              "    }\n",
              "</style>\n",
              "<table border=\"1\" class=\"dataframe\">\n",
              "  <thead>\n",
              "    <tr style=\"text-align: right;\">\n",
              "      <th></th>\n",
              "      <th>nominal</th>\n",
              "      <th>data</th>\n",
              "      <th>curs</th>\n",
              "      <th>cdx</th>\n",
              "    </tr>\n",
              "  </thead>\n",
              "  <tbody>\n",
              "    <tr>\n",
              "      <th>0</th>\n",
              "      <td>100</td>\n",
              "      <td>2015-01-01</td>\n",
              "      <td>46.9998</td>\n",
              "      <td>Японская иена</td>\n",
              "    </tr>\n",
              "    <tr>\n",
              "      <th>1</th>\n",
              "      <td>100</td>\n",
              "      <td>2015-01-13</td>\n",
              "      <td>52.8550</td>\n",
              "      <td>Японская иена</td>\n",
              "    </tr>\n",
              "    <tr>\n",
              "      <th>2</th>\n",
              "      <td>100</td>\n",
              "      <td>2015-01-14</td>\n",
              "      <td>54.7587</td>\n",
              "      <td>Японская иена</td>\n",
              "    </tr>\n",
              "    <tr>\n",
              "      <th>3</th>\n",
              "      <td>100</td>\n",
              "      <td>2015-01-15</td>\n",
              "      <td>56.5934</td>\n",
              "      <td>Японская иена</td>\n",
              "    </tr>\n",
              "    <tr>\n",
              "      <th>4</th>\n",
              "      <td>100</td>\n",
              "      <td>2015-01-16</td>\n",
              "      <td>55.1073</td>\n",
              "      <td>Японская иена</td>\n",
              "    </tr>\n",
              "    <tr>\n",
              "      <th>...</th>\n",
              "      <td>...</td>\n",
              "      <td>...</td>\n",
              "      <td>...</td>\n",
              "      <td>...</td>\n",
              "    </tr>\n",
              "    <tr>\n",
              "      <th>1332</th>\n",
              "      <td>100</td>\n",
              "      <td>2020-06-09</td>\n",
              "      <td>62.3657</td>\n",
              "      <td>Японская иена</td>\n",
              "    </tr>\n",
              "    <tr>\n",
              "      <th>1333</th>\n",
              "      <td>100</td>\n",
              "      <td>2020-06-10</td>\n",
              "      <td>63.6199</td>\n",
              "      <td>Японская иена</td>\n",
              "    </tr>\n",
              "    <tr>\n",
              "      <th>1334</th>\n",
              "      <td>100</td>\n",
              "      <td>2020-06-11</td>\n",
              "      <td>63.9529</td>\n",
              "      <td>Японская иена</td>\n",
              "    </tr>\n",
              "    <tr>\n",
              "      <th>1335</th>\n",
              "      <td>100</td>\n",
              "      <td>2020-06-12</td>\n",
              "      <td>64.6090</td>\n",
              "      <td>Японская иена</td>\n",
              "    </tr>\n",
              "    <tr>\n",
              "      <th>1336</th>\n",
              "      <td>100</td>\n",
              "      <td>2020-06-16</td>\n",
              "      <td>65.5691</td>\n",
              "      <td>Японская иена</td>\n",
              "    </tr>\n",
              "  </tbody>\n",
              "</table>\n",
              "<p>1337 rows × 4 columns</p>\n",
              "</div>"
            ],
            "text/plain": [
              "      nominal       data     curs            cdx\n",
              "0         100 2015-01-01  46.9998  Японская иена\n",
              "1         100 2015-01-13  52.8550  Японская иена\n",
              "2         100 2015-01-14  54.7587  Японская иена\n",
              "3         100 2015-01-15  56.5934  Японская иена\n",
              "4         100 2015-01-16  55.1073  Японская иена\n",
              "...       ...        ...      ...            ...\n",
              "1332      100 2020-06-09  62.3657  Японская иена\n",
              "1333      100 2020-06-10  63.6199  Японская иена\n",
              "1334      100 2020-06-11  63.9529  Японская иена\n",
              "1335      100 2020-06-12  64.6090  Японская иена\n",
              "1336      100 2020-06-16  65.5691  Японская иена\n",
              "\n",
              "[1337 rows x 4 columns]"
            ]
          },
          "metadata": {
            "tags": []
          },
          "execution_count": 12
        }
      ]
    },
    {
      "cell_type": "code",
      "metadata": {
        "id": "90MLzBOSFAZI",
        "colab_type": "code",
        "colab": {
          "base_uri": "https://localhost:8080/",
          "height": 268
        },
        "outputId": "b883cbdd-517b-4d83-e6ef-f6128037b9c7"
      },
      "source": [
        "rates.curs.plot() #График курса японской йены за 5 лет\n",
        "plt.show()"
      ],
      "execution_count": null,
      "outputs": [
        {
          "output_type": "display_data",
          "data": {
            "image/png": "[encoded data removed]",
            "text/plain": [
              "<Figure size 432x288 with 1 Axes>"
            ]
          },
          "metadata": {
            "tags": [],
            "needs_background": "light"
          }
        }
      ]
    },
    {
      "cell_type": "markdown",
      "metadata": {
        "id": "Qrq9lFatVRTy",
        "colab_type": "text"
      },
      "source": [
        "Поставнока задачи: спрогнозировать курс йены на 7 дней вперед. <br>\n",
        "Разобью датасет курса йены за 5 лет на куски по 28 дней для входных данных и на 7 последующих дней для обучения предсказания модели."
      ]
    },
    {
      "cell_type": "code",
      "metadata": {
        "id": "UgJ10NvqHxJx",
        "colab_type": "code",
        "colab": {
          "base_uri": "https://localhost:8080/",
          "height": 510
        },
        "outputId": "384e9017-e339-4c12-99b6-e209e206601d"
      },
      "source": [
        "rates.curs[100:128] #Пример обучающих данных 28 дней"
      ],
      "execution_count": null,
      "outputs": [
        {
          "output_type": "execute_result",
          "data": {
            "text/plain": [
              "100    45.0854\n",
              "101    44.6793\n",
              "102    44.9329\n",
              "103    44.5906\n",
              "104    44.1526\n",
              "105    44.7513\n",
              "106    43.7454\n",
              "107    43.5572\n",
              "108    43.4567\n",
              "109    43.6853\n",
              "110    43.5051\n",
              "111    43.8240\n",
              "112    43.6455\n",
              "113    44.1144\n",
              "114    44.4276\n",
              "115    45.2021\n",
              "116    45.7228\n",
              "117    45.2179\n",
              "118    45.0488\n",
              "119    45.1797\n",
              "120    46.0255\n",
              "121    46.5973\n",
              "122    47.0422\n",
              "123    46.9553\n",
              "124    46.3963\n",
              "125    45.8642\n",
              "126    46.2085\n",
              "127    45.8356\n",
              "Name: curs, dtype: float64"
            ]
          },
          "metadata": {
            "tags": []
          },
          "execution_count": 12
        }
      ]
    },
    {
      "cell_type": "code",
      "metadata": {
        "id": "54rd4q78IMzC",
        "colab_type": "code",
        "colab": {
          "base_uri": "https://localhost:8080/",
          "height": 153
        },
        "outputId": "2830bfda-8ab0-40c0-901d-35259b0ecf79"
      },
      "source": [
        "rates.curs[128:135] #Пример курса японской йены на 7 дней вперед"
      ],
      "execution_count": null,
      "outputs": [
        {
          "output_type": "execute_result",
          "data": {
            "text/plain": [
              "128    45.9611\n",
              "129    45.8424\n",
              "130    45.7284\n",
              "131    45.8385\n",
              "132    46.0756\n",
              "133    46.3329\n",
              "134    46.8044\n",
              "Name: curs, dtype: float64"
            ]
          },
          "metadata": {
            "tags": []
          },
          "execution_count": 13
        }
      ]
    },
    {
      "cell_type": "code",
      "metadata": {
        "id": "t8gwRaiAIa1e",
        "colab_type": "code",
        "colab": {}
      },
      "source": [
        " past = 28 #28 примеров курс валют прошлых 28 дней\n",
        " future = 7 #7 примеров того что модель должна предсказать"
      ],
      "execution_count": null,
      "outputs": []
    },
    {
      "cell_type": "code",
      "metadata": {
        "id": "S-Q9HrN7X_zT",
        "colab_type": "code",
        "colab": {}
      },
      "source": [
        "start = past #начнем обучение с 28 дня\n",
        "end = len(rates.curs) - future # Заканчиваем рассмотрение данных на 7 дне с конца"
      ],
      "execution_count": null,
      "outputs": []
    },
    {
      "cell_type": "markdown",
      "metadata": {
        "id": "N9L1h21IXyv_",
        "colab_type": "text"
      },
      "source": [
        "Соберу лист с данными для обучающией выборки (куски данных по 28 дням и куски с данными по 7 дням)"
      ]
    },
    {
      "cell_type": "code",
      "metadata": {
        "id": "8aguJa9GYOa3",
        "colab_type": "code",
        "colab": {}
      },
      "source": [
        "dataframe = []\n",
        "for day in range(start, end):\n",
        "  past_data = list(rates.curs[(day-past):day]) #Куски 28 дней в прошлом\n",
        "  future_data = list(rates.curs[day:(day + future)]) #Куски 7 дней в будущем\n",
        "  dataframe.append(past_data + future_data) #Оба куска складываю в 1 лист \"dataframe\"  "
      ],
      "execution_count": null,
      "outputs": []
    },
    {
      "cell_type": "code",
      "metadata": {
        "id": "5RuYoNdQa_B4",
        "colab_type": "code",
        "colab": {
          "base_uri": "https://localhost:8080/",
          "height": 612
        },
        "outputId": "6e2ea58c-60f8-41f0-e36b-02c6c952eb08"
      },
      "source": [
        "dataframe[0] #28 значений в прошлом + 7 значений для будущего предсказания"
      ],
      "execution_count": null,
      "outputs": [
        {
          "output_type": "execute_result",
          "data": {
            "text/plain": [
              "[46.9998,\n",
              " 52.855,\n",
              " 54.7587,\n",
              " 56.5934,\n",
              " 55.1073,\n",
              " 55.8928,\n",
              " 55.4332,\n",
              " 54.9636,\n",
              " 55.7092,\n",
              " 55.4472,\n",
              " 53.6274,\n",
              " 55.4844,\n",
              " 57.3928,\n",
              " 56.9218,\n",
              " 58.3078,\n",
              " 58.4888,\n",
              " 59.1802,\n",
              " 57.8117,\n",
              " 55.7494,\n",
              " 58.4672,\n",
              " 56.3028,\n",
              " 55.4208,\n",
              " 55.1155,\n",
              " 55.1568,\n",
              " 55.4409,\n",
              " 54.7104,\n",
              " 52.838,\n",
              " 52.9898,\n",
              " 52.3732,\n",
              " 52.3823,\n",
              " 52.0193,\n",
              " 53.2274,\n",
              " 52.6746,\n",
              " 51.1314,\n",
              " 51.3487]"
            ]
          },
          "metadata": {
            "tags": []
          },
          "execution_count": 28
        }
      ]
    },
    {
      "cell_type": "code",
      "metadata": {
        "id": "jk-vY4jdbAgO",
        "colab_type": "code",
        "colab": {}
      },
      "source": [
        "#Создание колонок для 28 дней обучающих данных \"учебника\" для формирования датасета\n",
        "past_columns = []\n",
        "for i in range(past):\n",
        "  past_columns.append(f'past_{i}')\n",
        "past_columns"
      ],
      "execution_count": null,
      "outputs": []
    },
    {
      "cell_type": "code",
      "metadata": {
        "id": "z7Sd5MFXbBHU",
        "colab_type": "code",
        "colab": {
          "base_uri": "https://localhost:8080/",
          "height": 136
        },
        "outputId": "29234d51-689c-42c6-ddaa-1f0883a64f66"
      },
      "source": [
        "#Создание колонок для 7 дней обучающей выборки \"ответы учебника\" для формирования датасета\n",
        "future_columns = []\n",
        "for i in range(future):\n",
        "  future_columns.append(f'future_{i}')\n",
        "future_columns"
      ],
      "execution_count": null,
      "outputs": [
        {
          "output_type": "execute_result",
          "data": {
            "text/plain": [
              "['future_0',\n",
              " 'future_1',\n",
              " 'future_2',\n",
              " 'future_3',\n",
              " 'future_4',\n",
              " 'future_5',\n",
              " 'future_6']"
            ]
          },
          "metadata": {
            "tags": []
          },
          "execution_count": 31
        }
      ]
    },
    {
      "cell_type": "code",
      "metadata": {
        "id": "RMSnO7pEcbaU",
        "colab_type": "code",
        "colab": {}
      },
      "source": [
        "jpy = pd.DataFrame(dataframe, columns=past_columns + future_columns) #Сбор датасета "
      ],
      "execution_count": null,
      "outputs": []
    },
    {
      "cell_type": "code",
      "metadata": {
        "id": "6T7d43-caHLb",
        "colab_type": "code",
        "colab": {
          "base_uri": "https://localhost:8080/",
          "height": 255
        },
        "outputId": "35dea9ab-a1a4-4443-e7f5-7705585717dc"
      },
      "source": [
        "jpy.head #Как выглядит собранный датасет"
      ],
      "execution_count": null,
      "outputs": [
        {
          "output_type": "execute_result",
          "data": {
            "text/plain": [
              "<bound method NDFrame.head of        past_0   past_1   past_2  ...  future_4  future_5  future_6\n",
              "0     46.9998  52.8550  54.7587  ...   52.6746   51.1314   51.3487\n",
              "1     52.8550  54.7587  56.5934  ...   51.1314   51.3487   51.8972\n",
              "2     54.7587  56.5934  55.1073  ...   51.3487   51.8972   52.0706\n",
              "3     56.5934  55.1073  55.8928  ...   51.8972   52.0706   51.6676\n",
              "4     55.1073  55.8928  55.4332  ...   52.0706   51.6676   51.6134\n",
              "...       ...      ...      ...  ...       ...       ...       ...\n",
              "1297  68.1430  68.6642  69.3285  ...   62.8397   63.2325   62.7951\n",
              "1298  68.6642  69.3285  68.5588  ...   63.2325   62.7951   62.3657\n",
              "1299  69.3285  68.5588  69.2889  ...   62.7951   62.3657   63.6199\n",
              "1300  68.5588  69.2889  71.0186  ...   62.3657   63.6199   63.9529\n",
              "1301  69.2889  71.0186  71.5568  ...   63.6199   63.9529   64.6090\n",
              "\n",
              "[1302 rows x 35 columns]>"
            ]
          },
          "metadata": {
            "tags": []
          },
          "execution_count": 37
        }
      ]
    },
    {
      "cell_type": "code",
      "metadata": {
        "id": "Xu_OUuMYdMPK",
        "colab_type": "code",
        "colab": {}
      },
      "source": [
        "x = jpy[past_columns] #Входные данные"
      ],
      "execution_count": null,
      "outputs": []
    },
    {
      "cell_type": "code",
      "metadata": {
        "id": "KWorHN4IdNLM",
        "colab_type": "code",
        "colab": {}
      },
      "source": [
        "y = jpy[future_columns] #Выходные данные"
      ],
      "execution_count": null,
      "outputs": []
    },
    {
      "cell_type": "code",
      "metadata": {
        "id": "wdM9QqKNdnUX",
        "colab_type": "code",
        "colab": {}
      },
      "source": [
        "#Тренировочная выборка, это та, на которой мы тренируем модель, \"Учебник\"\n",
        "x_train = x[:-10] # Задачи учебника\n",
        "y_train = y[:-10] # Ответы на задачи учебника"
      ],
      "execution_count": null,
      "outputs": []
    },
    {
      "cell_type": "code",
      "metadata": {
        "id": "qznloLL7e4Uh",
        "colab_type": "code",
        "colab": {}
      },
      "source": [
        "#Проверочная выборка, это та на которой мы проверим качество обучения модели \"Экзамен\"\n",
        "x_test = x[-10:] # Задачи экзамена\n",
        "y_test = y[-10:] # Ответы на задачи экзамена"
      ],
      "execution_count": null,
      "outputs": []
    },
    {
      "cell_type": "code",
      "metadata": {
        "id": "-z3FRRE0eW7-",
        "colab_type": "code",
        "colab": {}
      },
      "source": [
        "from sklearn.linear_model import LinearRegression #Для обучения возьму модель LinearRegression из библиотеки \"sklearn\""
      ],
      "execution_count": null,
      "outputs": []
    },
    {
      "cell_type": "code",
      "metadata": {
        "id": "Zgza87lBeYVX",
        "colab_type": "code",
        "colab": {}
      },
      "source": [
        "linreg = LinearRegression()"
      ],
      "execution_count": null,
      "outputs": []
    },
    {
      "cell_type": "code",
      "metadata": {
        "id": "Ttmd1uXQw73L",
        "colab_type": "code",
        "colab": {
          "base_uri": "https://localhost:8080/",
          "height": 34
        },
        "outputId": "f8fa53db-5ea1-4408-8298-02278aeaa161"
      },
      "source": [
        "linreg.fit(x_train, y_train) #Обучение модели LinearRegression на выходных и выходных данных"
      ],
      "execution_count": null,
      "outputs": [
        {
          "output_type": "execute_result",
          "data": {
            "text/plain": [
              "LinearRegression(copy_X=True, fit_intercept=True, n_jobs=None, normalize=False)"
            ]
          },
          "metadata": {
            "tags": []
          },
          "execution_count": 45
        }
      ]
    },
    {
      "cell_type": "code",
      "metadata": {
        "id": "3GSjmaNqxNIH",
        "colab_type": "code",
        "colab": {
          "base_uri": "https://localhost:8080/",
          "height": 100
        },
        "outputId": "34fc875f-662d-48db-b109-291060e602dc"
      },
      "source": [
        "x_test.head(1)"
      ],
      "execution_count": null,
      "outputs": [
        {
          "output_type": "execute_result",
          "data": {
            "text/html": [
              "<div>\n",
              "<style scoped>\n",
              "    .dataframe tbody tr th:only-of-type {\n",
              "        vertical-align: middle;\n",
              "    }\n",
              "\n",
              "    .dataframe tbody tr th {\n",
              "        vertical-align: top;\n",
              "    }\n",
              "\n",
              "    .dataframe thead th {\n",
              "        text-align: right;\n",
              "    }\n",
              "</style>\n",
              "<table border=\"1\" class=\"dataframe\">\n",
              "  <thead>\n",
              "    <tr style=\"text-align: right;\">\n",
              "      <th></th>\n",
              "      <th>past_0</th>\n",
              "      <th>past_1</th>\n",
              "      <th>past_2</th>\n",
              "      <th>past_3</th>\n",
              "      <th>past_4</th>\n",
              "      <th>past_5</th>\n",
              "      <th>past_6</th>\n",
              "      <th>past_7</th>\n",
              "      <th>past_8</th>\n",
              "      <th>past_9</th>\n",
              "      <th>past_10</th>\n",
              "      <th>past_11</th>\n",
              "      <th>past_12</th>\n",
              "      <th>past_13</th>\n",
              "      <th>past_14</th>\n",
              "      <th>past_15</th>\n",
              "      <th>past_16</th>\n",
              "      <th>past_17</th>\n",
              "      <th>past_18</th>\n",
              "      <th>past_19</th>\n",
              "      <th>past_20</th>\n",
              "      <th>past_21</th>\n",
              "      <th>past_22</th>\n",
              "      <th>past_23</th>\n",
              "      <th>past_24</th>\n",
              "      <th>past_25</th>\n",
              "      <th>past_26</th>\n",
              "      <th>past_27</th>\n",
              "    </tr>\n",
              "  </thead>\n",
              "  <tbody>\n",
              "    <tr>\n",
              "      <th>1292</th>\n",
              "      <td>69.3106</td>\n",
              "      <td>69.6391</td>\n",
              "      <td>68.5047</td>\n",
              "      <td>68.0459</td>\n",
              "      <td>68.0877</td>\n",
              "      <td>68.143</td>\n",
              "      <td>68.6642</td>\n",
              "      <td>69.3285</td>\n",
              "      <td>68.5588</td>\n",
              "      <td>69.2889</td>\n",
              "      <td>71.0186</td>\n",
              "      <td>71.5568</td>\n",
              "      <td>69.8063</td>\n",
              "      <td>69.4035</td>\n",
              "      <td>69.4763</td>\n",
              "      <td>69.6629</td>\n",
              "      <td>69.2147</td>\n",
              "      <td>68.198</td>\n",
              "      <td>69.5323</td>\n",
              "      <td>69.6587</td>\n",
              "      <td>69.4813</td>\n",
              "      <td>68.3126</td>\n",
              "      <td>68.7585</td>\n",
              "      <td>69.1935</td>\n",
              "      <td>68.3813</td>\n",
              "      <td>68.0464</td>\n",
              "      <td>67.4196</td>\n",
              "      <td>67.1694</td>\n",
              "    </tr>\n",
              "  </tbody>\n",
              "</table>\n",
              "</div>"
            ],
            "text/plain": [
              "       past_0   past_1   past_2   past_3  ...  past_24  past_25  past_26  past_27\n",
              "1292  69.3106  69.6391  68.5047  68.0459  ...  68.3813  68.0464  67.4196  67.1694\n",
              "\n",
              "[1 rows x 28 columns]"
            ]
          },
          "metadata": {
            "tags": []
          },
          "execution_count": 46
        }
      ]
    },
    {
      "cell_type": "code",
      "metadata": {
        "id": "STN968h4y-es",
        "colab_type": "code",
        "colab": {}
      },
      "source": [
        "firstDay = x_test.head(1) #Тестовые данные для предсказания модели в определенный день"
      ],
      "execution_count": null,
      "outputs": []
    },
    {
      "cell_type": "code",
      "metadata": {
        "id": "mUFrxniezLKS",
        "colab_type": "code",
        "colab": {}
      },
      "source": [
        "firstDayReal = y_test.head(1) #Реальные значения в определенный день"
      ],
      "execution_count": null,
      "outputs": []
    },
    {
      "cell_type": "code",
      "metadata": {
        "id": "coVAyW5kxpmb",
        "colab_type": "code",
        "colab": {}
      },
      "source": [
        "prediction = linreg.predict(firstDay) #Данные предсказания мождели "
      ],
      "execution_count": null,
      "outputs": []
    },
    {
      "cell_type": "code",
      "metadata": {
        "id": "VBXhPwPYbwgk",
        "colab_type": "code",
        "colab": {
          "base_uri": "https://localhost:8080/",
          "height": 51
        },
        "outputId": "d2404c9d-8bd3-4c5d-9cc4-713ebaf19510"
      },
      "source": [
        "prediction #Данные которые предсказала модель"
      ],
      "execution_count": null,
      "outputs": [
        {
          "output_type": "execute_result",
          "data": {
            "text/plain": [
              "array([[66.94089812, 66.84511025, 66.95791925, 66.85572977, 66.67417993,\n",
              "        66.51954322, 66.4352194 ]])"
            ]
          },
          "metadata": {
            "tags": []
          },
          "execution_count": 63
        }
      ]
    },
    {
      "cell_type": "code",
      "metadata": {
        "id": "oyJEQiC-y4LL",
        "colab_type": "code",
        "colab": {
          "base_uri": "https://localhost:8080/",
          "height": 80
        },
        "outputId": "831e739b-2000-4db7-cb4e-9926f21e88ca"
      },
      "source": [
        "firstDayReal #Реальные данные "
      ],
      "execution_count": null,
      "outputs": [
        {
          "output_type": "execute_result",
          "data": {
            "text/html": [
              "<div>\n",
              "<style scoped>\n",
              "    .dataframe tbody tr th:only-of-type {\n",
              "        vertical-align: middle;\n",
              "    }\n",
              "\n",
              "    .dataframe tbody tr th {\n",
              "        vertical-align: top;\n",
              "    }\n",
              "\n",
              "    .dataframe thead th {\n",
              "        text-align: right;\n",
              "    }\n",
              "</style>\n",
              "<table border=\"1\" class=\"dataframe\">\n",
              "  <thead>\n",
              "    <tr style=\"text-align: right;\">\n",
              "      <th></th>\n",
              "      <th>future_0</th>\n",
              "      <th>future_1</th>\n",
              "      <th>future_2</th>\n",
              "      <th>future_3</th>\n",
              "      <th>future_4</th>\n",
              "      <th>future_5</th>\n",
              "      <th>future_6</th>\n",
              "    </tr>\n",
              "  </thead>\n",
              "  <tbody>\n",
              "    <tr>\n",
              "      <th>1292</th>\n",
              "      <td>65.838</td>\n",
              "      <td>66.8748</td>\n",
              "      <td>66.4528</td>\n",
              "      <td>65.9872</td>\n",
              "      <td>66.0841</td>\n",
              "      <td>65.9413</td>\n",
              "      <td>65.9539</td>\n",
              "    </tr>\n",
              "  </tbody>\n",
              "</table>\n",
              "</div>"
            ],
            "text/plain": [
              "      future_0  future_1  future_2  future_3  future_4  future_5  future_6\n",
              "1292    65.838   66.8748   66.4528   65.9872   66.0841   65.9413   65.9539"
            ]
          },
          "metadata": {
            "tags": []
          },
          "execution_count": 50
        }
      ]
    },
    {
      "cell_type": "code",
      "metadata": {
        "id": "mXVniqpozUV0",
        "colab_type": "code",
        "colab": {}
      },
      "source": [
        "from sklearn.metrics import mean_absolute_error #Метрика для определения абсолютной ошибки предсказания"
      ],
      "execution_count": null,
      "outputs": []
    },
    {
      "cell_type": "code",
      "metadata": {
        "id": "V-jYFe7Szncg",
        "colab_type": "code",
        "colab": {
          "base_uri": "https://localhost:8080/",
          "height": 34
        },
        "outputId": "6ae8760f-3260-4fa6-ba91-8483627447e0"
      },
      "source": [
        "mean_absolute_error(prediction[0], firstDayReal.iloc[0]) #Абсолютная ошибка модели в копейках"
      ],
      "execution_count": null,
      "outputs": [
        {
          "output_type": "execute_result",
          "data": {
            "text/plain": [
              "0.5936970623515399"
            ]
          },
          "metadata": {
            "tags": []
          },
          "execution_count": 65
        }
      ]
    },
    {
      "cell_type": "code",
      "metadata": {
        "id": "vHszv-P-0T1l",
        "colab_type": "code",
        "colab": {
          "base_uri": "https://localhost:8080/",
          "height": 268
        },
        "outputId": "07c89574-b36d-4ecd-df10-e48837d580bd"
      },
      "source": [
        "#График предсказания модели и реальных значений за тот же день\n",
        "plt.plot(prediction[0], label = 'Prediction')\n",
        "plt.plot(firstDayReal.iloc[0], label = 'real')\n",
        "plt.legend()\n",
        "plt.show()"
      ],
      "execution_count": null,
      "outputs": [
        {
          "output_type": "display_data",
          "data": {
            "image/png": "[encoded data removed]",
            "text/plain": [
              "<Figure size 432x288 with 1 Axes>"
            ]
          },
          "metadata": {
            "tags": [],
            "needs_background": "light"
          }
        }
      ]
    },
    {
      "cell_type": "code",
      "metadata": {
        "id": "XNuKqB7A0n5B",
        "colab_type": "code",
        "colab": {
          "base_uri": "https://localhost:8080/",
          "height": 300
        },
        "outputId": "f2acef17-0b4c-48c0-ab90-cdbef085f30f"
      },
      "source": [
        "prediction = linreg.predict([x_test.iloc[1]])\n",
        "real = y_test.iloc[1]\n",
        "mae = mean_absolute_error(prediction[0], real)\n",
        "print(f'MAE = {mae}')\n",
        "plt.plot(prediction[0], label = 'Prediction')\n",
        "plt.plot(real, label = 'real')\n",
        "plt.legend()\n",
        "plt.show()"
      ],
      "execution_count": null,
      "outputs": [
        {
          "output_type": "stream",
          "text": [
            "MAE = 0.5107929403069623\n"
          ],
          "name": "stdout"
        },
        {
          "output_type": "execute_result",
          "data": {
            "text/plain": [
              "<matplotlib.legend.Legend at 0x7f363bfe6dd8>"
            ]
          },
          "metadata": {
            "tags": []
          },
          "execution_count": 37
        },
        {
          "output_type": "display_data",
          "data": {
            "image/png": "[encoded data removed]",
            "text/plain": [
              "<Figure size 432x288 with 1 Axes>"
            ]
          },
          "metadata": {
            "tags": [],
            "needs_background": "light"
          }
        }
      ]
    },
    {
      "cell_type": "code",
      "metadata": {
        "id": "CeOHxOMM1Kib",
        "colab_type": "code",
        "colab": {}
      },
      "source": [
        "#Загрузка модели KNeighborsRegressor из sklearn\n",
        "from sklearn.neighbors import KNeighborsRegressor \n"
      ],
      "execution_count": null,
      "outputs": []
    },
    {
      "cell_type": "code",
      "metadata": {
        "id": "mjKGSZYm2yHQ",
        "colab_type": "code",
        "colab": {
          "base_uri": "https://localhost:8080/",
          "height": 68
        },
        "outputId": "ff5eedaf-bedd-4425-a821-40187ca5a539"
      },
      "source": [
        "#Обучение модели KNeighborsRegressor as knn\n",
        "knn = KNeighborsRegressor(n_neighbors=2)\n",
        "knn.fit(x_train, y_train)"
      ],
      "execution_count": null,
      "outputs": [
        {
          "output_type": "execute_result",
          "data": {
            "text/plain": [
              "KNeighborsRegressor(algorithm='auto', leaf_size=30, metric='minkowski',\n",
              "                    metric_params=None, n_jobs=None, n_neighbors=2, p=2,\n",
              "                    weights='uniform')"
            ]
          },
          "metadata": {
            "tags": []
          },
          "execution_count": 39
        }
      ]
    },
    {
      "cell_type": "code",
      "metadata": {
        "id": "mGPCfHVO20yg",
        "colab_type": "code",
        "colab": {
          "base_uri": "https://localhost:8080/",
          "height": 300
        },
        "outputId": "17185dac-f112-4364-ebe0-759ba1f25cdd"
      },
      "source": [
        "#График предсказания и реальных значениях + абсолютная ошибка между ними\n",
        "prediction = knn.predict([x_test.iloc[1]])\n",
        "real = y_test.iloc[1]\n",
        "mae = mean_absolute_error(prediction[0], real)\n",
        "print(f'MAE = {mae}')\n",
        "plt.plot(prediction[0], label = 'Prediction')\n",
        "plt.plot(real, label = 'real')\n",
        "plt.legend()\n",
        "plt.show()"
      ],
      "execution_count": null,
      "outputs": [
        {
          "output_type": "stream",
          "text": [
            "MAE = 0.4159499999999972\n"
          ],
          "name": "stdout"
        },
        {
          "output_type": "execute_result",
          "data": {
            "text/plain": [
              "<matplotlib.legend.Legend at 0x7f363b14a940>"
            ]
          },
          "metadata": {
            "tags": []
          },
          "execution_count": 40
        },
        {
          "output_type": "display_data",
          "data": {
            "image/png": "[encoded data removed]",
            "text/plain": [
              "<Figure size 432x288 with 1 Axes>"
            ]
          },
          "metadata": {
            "tags": [],
            "needs_background": "light"
          }
        }
      ]
    },
    {
      "cell_type": "code",
      "metadata": {
        "id": "ZOmtGLcV3fVb",
        "colab_type": "code",
        "colab": {}
      },
      "source": [
        "#Загрузка модели НС для глубокого обучения MLPRegressor из библиотеки sklearn\n",
        "from sklearn.neural_network import MLPRegressor"
      ],
      "execution_count": null,
      "outputs": []
    },
    {
      "cell_type": "code",
      "metadata": {
        "id": "N5priw144SX6",
        "colab_type": "code",
        "colab": {
          "base_uri": "https://localhost:8080/",
          "height": 153
        },
        "outputId": "0b953e45-08b9-48d1-e416-6aa767535ad2"
      },
      "source": [
        "#Задание параметров для модели, max_iter - сколько итерация обучения проводить\n",
        "#Сколько использовать скрытых слоев hidden_layer_sizes (глубина обучения НС)\n",
        "mlp = MLPRegressor(max_iter=1000, hidden_layer_sizes=(300,300,300))\n",
        "mlp.fit(x_train, y_train)"
      ],
      "execution_count": null,
      "outputs": [
        {
          "output_type": "execute_result",
          "data": {
            "text/plain": [
              "MLPRegressor(activation='relu', alpha=0.0001, batch_size='auto', beta_1=0.9,\n",
              "             beta_2=0.999, early_stopping=False, epsilon=1e-08,\n",
              "             hidden_layer_sizes=(300, 300, 300), learning_rate='constant',\n",
              "             learning_rate_init=0.001, max_fun=15000, max_iter=1000,\n",
              "             momentum=0.9, n_iter_no_change=10, nesterovs_momentum=True,\n",
              "             power_t=0.5, random_state=None, shuffle=True, solver='adam',\n",
              "             tol=0.0001, validation_fraction=0.1, verbose=False,\n",
              "             warm_start=False)"
            ]
          },
          "metadata": {
            "tags": []
          },
          "execution_count": 42
        }
      ]
    },
    {
      "cell_type": "code",
      "metadata": {
        "id": "3xAM3xsD4goT",
        "colab_type": "code",
        "colab": {
          "base_uri": "https://localhost:8080/",
          "height": 300
        },
        "outputId": "9b58bacf-3955-4a85-dd54-110f0e7058b1"
      },
      "source": [
        "prediction = mlp.predict([x_test.iloc[1]])\n",
        "real = y_test.iloc[1]\n",
        "mae = mean_absolute_error(prediction[0], real)\n",
        "print(f'MAE = {mae}')\n",
        "plt.plot(prediction[0], label = 'Prediction')\n",
        "plt.plot(real, label = 'real')\n",
        "plt.legend()"
      ],
      "execution_count": null,
      "outputs": [
        {
          "output_type": "stream",
          "text": [
            "MAE = 1.5884998311614769\n"
          ],
          "name": "stdout"
        },
        {
          "output_type": "execute_result",
          "data": {
            "text/plain": [
              "<matplotlib.legend.Legend at 0x7f363b0d98d0>"
            ]
          },
          "metadata": {
            "tags": []
          },
          "execution_count": 43
        },
        {
          "output_type": "display_data",
          "data": {
            "image/png": "[encoded data removed]",
            "text/plain": [
              "<Figure size 432x288 with 1 Axes>"
            ]
          },
          "metadata": {
            "tags": [],
            "needs_background": "light"
          }
        }
      ]
    },
    {
      "cell_type": "markdown",
      "metadata": {
        "id": "AByIcHwmPZ2V",
        "colab_type": "text"
      },
      "source": [
        "Вывод: Модель MLPRegressor предсказала хуже, чем KNeighborsRegressor и LinearRegression, необходимо подбирать параметры НС. Создадим сетку параметров для НС при помощи модуля GridSearchCV"
      ]
    },
    {
      "cell_type": "code",
      "metadata": {
        "id": "q_4Ry_6X4qGo",
        "colab_type": "code",
        "colab": {}
      },
      "source": [
        "# GridSearchCV\n",
        "# Поиск по сетке параметров\n",
        "max_iter: 100, 500, 1000, 3000 #Кол-во итераций\n",
        "hidden_layer_sizes: (100,), (50, 50, 50), (200, 200,) #Скрытые слои\n",
        "# CV - cross validation - обучение модели с разными стартовыми значениями"
      ],
      "execution_count": null,
      "outputs": []
    },
    {
      "cell_type": "code",
      "metadata": {
        "id": "kOF8vD7yl6uI",
        "colab_type": "code",
        "colab": {}
      },
      "source": [
        "#Загрузка GridSearchCV из библиотеки sklearn\n",
        "from sklearn.model_selection import GridSearchCV "
      ],
      "execution_count": null,
      "outputs": []
    },
    {
      "cell_type": "code",
      "metadata": {
        "id": "CBe4Qjgsl9-9",
        "colab_type": "code",
        "colab": {}
      },
      "source": [
        "#Задаю статичный выбор данных для обучения модели, чтобы нивелировать вероятность лучших стартовых данных для обучения\n",
        "mlp = MLPRegressor(random_state = 42)"
      ],
      "execution_count": null,
      "outputs": []
    },
    {
      "cell_type": "code",
      "metadata": {
        "id": "U5t848NimHOE",
        "colab_type": "code",
        "colab": {}
      },
      "source": [
        "#Настройка сетки параметров для перебора\n",
        "grid = {\n",
        "    'max_iter': [100, 250, 500, 1000],\n",
        "    'hidden_layer_sizes': [(100,), (50, 50, 50), (200, 200,)],\n",
        "    'activation': ['tanh', 'relu'],\n",
        "}"
      ],
      "execution_count": null,
      "outputs": []
    },
    {
      "cell_type": "code",
      "metadata": {
        "id": "sDmU5H64nG8T",
        "colab_type": "code",
        "colab": {}
      },
      "source": [
        "#Настройка GridSearchCV\n",
        "#mlp - модель, которая будет использоваться в GridSearchCV\n",
        "#grid - сетка параметров в виде dict - словаря\n",
        "#cv - кросс валидация, сколько раз будет начинаться обучение с разных стартовых позиций\n",
        "#n_jobs - сколько ядер будет использоваться для параллельных вычислений (значение -1 значит все доступные ядра)\n",
        "gs = GridSearchCV(\n",
        "    mlp, grid, scoring='neg_mean_absolute_error', cv=3, n_jobs=-1\n",
        "    )"
      ],
      "execution_count": null,
      "outputs": []
    },
    {
      "cell_type": "code",
      "metadata": {
        "id": "Ae22vCxVn-rK",
        "colab_type": "code",
        "colab": {
          "base_uri": "https://localhost:8080/",
          "height": 374
        },
        "outputId": "a07c2ecc-0e03-4e0d-bab2-72d6f7c6bfbc"
      },
      "source": [
        "#Перебор параметров в GridSearchCV и обучение на входных и выходных данных\n",
        "gs.fit(x_train, y_train)"
      ],
      "execution_count": null,
      "outputs": [
        {
          "output_type": "execute_result",
          "data": {
            "text/plain": [
              "GridSearchCV(cv=3, error_score=nan,\n",
              "             estimator=MLPRegressor(activation='relu', alpha=0.0001,\n",
              "                                    batch_size='auto', beta_1=0.9, beta_2=0.999,\n",
              "                                    early_stopping=False, epsilon=1e-08,\n",
              "                                    hidden_layer_sizes=(100,),\n",
              "                                    learning_rate='constant',\n",
              "                                    learning_rate_init=0.001, max_fun=15000,\n",
              "                                    max_iter=200, momentum=0.9,\n",
              "                                    n_iter_no_change=10,\n",
              "                                    nesterovs_momentum=True, power_t=0.5,\n",
              "                                    random_state=42, shuffle=True,\n",
              "                                    solver='adam', tol=0.0001,\n",
              "                                    validation_fraction=0.1, verbose=False,\n",
              "                                    warm_start=False),\n",
              "             iid='deprecated', n_jobs=-1,\n",
              "             param_grid={'activation': ['tanh', 'relu'],\n",
              "                         'hidden_layer_sizes': [(100,), (50, 50, 50),\n",
              "                                                (200, 200)],\n",
              "                         'max_iter': [100, 250, 500, 1000]},\n",
              "             pre_dispatch='2*n_jobs', refit=True, return_train_score=False,\n",
              "             scoring='neg_mean_absolute_error', verbose=0)"
            ]
          },
          "metadata": {
            "tags": []
          },
          "execution_count": 48
        }
      ]
    },
    {
      "cell_type": "code",
      "metadata": {
        "id": "W5N-kEGipB91",
        "colab_type": "code",
        "colab": {
          "base_uri": "https://localhost:8080/",
          "height": 34
        },
        "outputId": "2e8f5a39-9da8-431e-83d2-92fc4fd61ea8"
      },
      "source": [
        "#Лучший результат\n",
        "gs.best_score_"
      ],
      "execution_count": null,
      "outputs": [
        {
          "output_type": "execute_result",
          "data": {
            "text/plain": [
              "-1.1321154880437618"
            ]
          },
          "metadata": {
            "tags": []
          },
          "execution_count": 52
        }
      ]
    },
    {
      "cell_type": "code",
      "metadata": {
        "id": "trG3-i_BrfZI",
        "colab_type": "code",
        "colab": {
          "base_uri": "https://localhost:8080/",
          "height": 34
        },
        "outputId": "b96743af-b1b3-4893-ed6a-ee8602999cfd"
      },
      "source": [
        "#Лучшие параметры из предоставленной сетки парметров\n",
        "gs.best_params_"
      ],
      "execution_count": null,
      "outputs": [
        {
          "output_type": "execute_result",
          "data": {
            "text/plain": [
              "{'activation': 'relu', 'hidden_layer_sizes': (100,), 'max_iter': 250}"
            ]
          },
          "metadata": {
            "tags": []
          },
          "execution_count": 53
        }
      ]
    },
    {
      "cell_type": "code",
      "metadata": {
        "id": "Ba34cmxcrsDg",
        "colab_type": "code",
        "colab": {
          "base_uri": "https://localhost:8080/",
          "height": 153
        },
        "outputId": "a15282a7-6c4d-4a8d-c52b-95f22081e8d8"
      },
      "source": [
        "#Лучшие настройки\n",
        "gs.best_estimator_"
      ],
      "execution_count": null,
      "outputs": [
        {
          "output_type": "execute_result",
          "data": {
            "text/plain": [
              "MLPRegressor(activation='relu', alpha=0.0001, batch_size='auto', beta_1=0.9,\n",
              "             beta_2=0.999, early_stopping=False, epsilon=1e-08,\n",
              "             hidden_layer_sizes=(100,), learning_rate='constant',\n",
              "             learning_rate_init=0.001, max_fun=15000, max_iter=250,\n",
              "             momentum=0.9, n_iter_no_change=10, nesterovs_momentum=True,\n",
              "             power_t=0.5, random_state=42, shuffle=True, solver='adam',\n",
              "             tol=0.0001, validation_fraction=0.1, verbose=False,\n",
              "             warm_start=False)"
            ]
          },
          "metadata": {
            "tags": []
          },
          "execution_count": 54
        }
      ]
    }
  ]
}