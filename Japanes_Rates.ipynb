{
  "nbformat": 4,
  "nbformat_minor": 0,
  "metadata": {
    "colab": {
      "name": "Japanes_Rates.ipynb",
      "provenance": [],
      "collapsed_sections": []
    },
    "kernelspec": {
      "name": "python3",
      "display_name": "Python 3"
    }
  },
  "cells": [
    {
      "cell_type": "markdown",
      "metadata": {
        "id": "lHxEcsYqROh9",
        "colab_type": "text"
      },
      "source": [
        "Построю модель регрессии для предсказания курса японской йены на 7 дней вперед.\n",
        "Для этого возьму данные курса японской йены с сайта сбербанка за 5 лет."
      ]
    },
    {
      "cell_type": "code",
      "metadata": {
        "id": "-rUesmRYBBH2",
        "colab_type": "code",
        "colab": {}
      },
      "source": [
        "#Подгружаю библиотеки\n",
        "import pandas as pd #Библиотека Для работы с 2D таблицами\n",
        "from google.colab import files #Библиотека для работы с файлами\n",
        "import matplotlib.pyplot as plt\n",
        "%matplotlib inline"
      ],
      "execution_count": null,
      "outputs": []
    },
    {
      "cell_type": "code",
      "metadata": {
        "id": "3GeK8GIrERUi",
        "colab_type": "code",
        "colab": {
          "resources": {
            "http://localhost:8080/nbextensions/google.colab/files.js": {
              "data": "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",
              "ok": true,
              "headers": [
                [
                  "content-type",
                  "application/javascript"
                ]
              ],
              "status": 200,
              "status_text": ""
            }
          },
          "base_uri": "https://localhost:8080/",
          "height": 109
        },
        "outputId": "cb41930e-755c-4065-a5fc-68cfc290d01a"
      },
      "source": [
        "files.upload() #Загружаю файл с таблицей курса японской йены за 5 лет"
      ],
      "execution_count": null,
      "outputs": [
        {
          "output_type": "display_data",
          "data": {
            "text/html": [
              "\n",
              "     <input type=\"file\" id=\"files-f7ce7034-9ef8-455b-80aa-bbd12efef29d\" name=\"files[]\" multiple disabled\n",
              "        style=\"border:none\" />\n",
              "     <output id=\"result-f7ce7034-9ef8-455b-80aa-bbd12efef29d\">\n",
              "      Upload widget is only available when the cell has been executed in the\n",
              "      current browser session. Please rerun this cell to enable.\n",
              "      </output>\n",
              "      <script src=\"/nbextensions/google.colab/files.js\"></script> "
            ],
            "text/plain": [
              "<IPython.core.display.HTML object>"
            ]
          },
          "metadata": {
            "tags": []
          }
        },
        {
          "output_type": "stream",
          "text": [
            "Saving RC_F01_01_2015_T16_06_2020.xlsx to RC_F01_01_2015_T16_06_2020.xlsx\n"
          ],
          "name": "stdout"
        },
        {
          "output_type": "execute_result",
          "data": {
            "text/plain": [
              "{'RC_F01_01_2015_T16_06_2020.xlsx': b'PK\\x03\\x04\\x14\\x00\\x00\\x00\\x08\\x00\\xc5N\\xd1P\\x12\\xf8\\x15\\xe8\\xcd\\x00\\x00\\x00E\\x01\\x00\\x00\\x0f\\x00\\x1c\\x00xl/workbook.xml \\xa2\\x18\\x00(\\xa0\\x14\\x00\\x00\\x00\\x00\\x00\\x00\\x00\\x00\\x00\\x00\\x00\\x00\\x00\\x00\\x00\\x00\\x00\\x00\\x00\\x00\\x00\\x8dP\\xb1N\\x031\\x0c\\xfd\\x15\\xcb;\\xcd\\x95\\x01\\xa1S\\xaf\\x1d\\nC\\x07@b`\\x0f9\\xa7\\x17\\xf5\\x12Gv\\n\\xf7\\xf9\\xa4)\\xa2+\\xdb{\\xb2\\xdf\\xf3\\xf3\\xdb\\xec\\x968\\xc3\\x17\\x89\\x06N\\x03\\xaeW\\x1d\\x02%\\xc7cH\\xc7\\x01\\xcf\\xc5\\xdf=\\xe2n\\xbbY\\xfao\\x96\\xd3\\'\\xf3\\t\\xea~\\xd2^\\x06\\x9cJ\\xc9\\xbd1\\xea&\\x8aVW\\x9c)\\xd5\\x99g\\x89\\xb6T*G\\xc3\\xde\\x07GO\\xec\\xce\\x91R1\\xf7]\\xf7`\\x84f[\\xea-\\x9dBV\\xfcu[\\xfe\\xe3\\xa6Y\\xc8\\x8e:\\x11\\x958_\\xcd\\xa2\\r\\t/\\xe9|\\x98\\xe9\\xe3\\xfa\\x04\\xd8\\x9c_m\\xa4\\x01_\\x82\\x13V\\xf6\\x05\\xdeZ\\x10x^\\x1c\\xcd\\x08\\xe6\\xa2h>\\xfa\\x87 5\\xc9\\xfb\\x1e\\xa1\\xf1\\xc3X\\xcb@\\x90>T \\x87q\\xddd\\xe6\\xa63\\xb7J\\xb6?PK\\x03\\x04\\n\\x00\\x00\\x00\\x00\\x00\\xc5N\\xd1P\\xb8)\\n\\xea\\x08\\x02\\x00\\x00\\x08\\x02\\x00\\x00\\x0b\\x00\\x1c\\x00_rels/.rels \\xa2\\x18\\x00(\\xa0\\x14\\x00\\x00\\x00\\x00\\x00\\x00\\x00\\x00\\x00\\x00\\x00\\x00\\x00\\x00\\x00\\x00\\x00\\x00\\x00\\x00\\x00\\xef\\xbb\\xbf<?xml version=\"1.0\" encoding=\"utf-8\"?><Relationships xmlns=\"http://schemas.openxmlformats.org/package/2006/relationships\"><Relationship Type=\"http://schemas.openxmlformats.org/officeDocument/2006/relationships/officeDocument\" Target=\"/xl/workbook.xml\" Id=\"R9f8d54efb1904b41\" /><Relationship Type=\"http://schemas.openxmlformats.org/package/2006/relationships/metadata/core-properties\" Target=\"/package/services/metadata/core-properties/b1b0d0a3750f40b7852755863480818c.psmdcp\" Id=\"Rc9d933f7dd2d4fd8\" /></Relationships>PK\\x03\\x04\\x14\\x00\\x00\\x00\\x08\\x00\\xc5N\\xd1PU\\x02e\\xday\\x01\\x00\\x00*\\x04\\x00\\x00\\r\\x00\\x1c\\x00xl/styles.xml \\xa2\\x18\\x00(\\xa0\\x14\\x00\\x00\\x00\\x00\\x00\\x00\\x00\\x00\\x00\\x00\\x00\\x00\\x00\\x00\\x00\\x00\\x00\\x00\\x00\\x00\\x00\\xa5S\\xcbn\\xc3 \\x10\\xfc\\x15D\\xaem\\xb0\\xad$\\xaa\\xa289D\\x8a\\xd4K/\\xe9\\xa1Wlc\\x1b\\x89\\x97\\x80Dv\\xbf\\xbe`\\xec\\xd8\\x8eZUM\\xb90\\xfb\\x98\\xd9e\\x81\\xdd\\xa1\\xe1\\x0c\\\\\\x896T\\x8a\\x14\\xc6\\xcb\\x08\\x02\"rYPQ\\xa5\\xf0b\\xcb\\xe7\\x17x\\xd8\\xef\\x9a\\xad\\xb1-#\\xe7\\x9a\\x10\\x0b\\x1cC\\x98m\\x93\\xc2\\xdaZ\\xb5E\\xc8\\xe45\\xe1\\xd8,\\xa5\"\\xc2\\xc5J\\xa99\\xb6\\xce\\xd4\\x152J\\x13\\\\\\x18O\\xe3\\x0c%Q\\xb4A\\x1cS\\x01\\xbd\\xa2\\xb8\\xf0\\x13\\xb7f\\x84 l\\xaf\\x85\\xebc\\xb3\\x82 \\x08\\x1deAR\\xb8xZ,\\\\k\\xe8\\x87\\xec\\xf57\\xd9\\xcb\\xc8\\xad\\x8e\\x82f\\xc5J)F\\xd0\\x1d\\xed\\x13\\\\1s2q_ \\x97Lj`\\xdd\\xa9\\x9c\\xd6\\xe0\\x14\\x98\\x93\\x90w\\xc4\\x8cf\\x9a\\xf6\\xfe\\x12s\\xca\\xda\\x10I\\x06\\x81\\x1ak\\xe3&\\x15\\x9c\\xd1\\xaaww\\x83\\xeaE8\\x15R\\x0f\\xdd\\x85N\\xd0\\xb47\\xca\\xd8\\r\\xf8]ak\\x89\\x16\\'g\\x82\\x1e\\xbf\\xb7\\xca\\xf5\\'\\xa4 7\\x9d>\\xf9WR\\xa5q\\x1b\\'\\xeb9\\x0fM\\xcafR\\x17\\xeeQ\\x8c\\xd0#FJ\\x1bN\\xa2iU\\xf7\\xd0J\\x15@&\\xad\\x95<\\xe0\\x82\\xe2J\\n\\xccz\\xfdA\\x02\\xcd\\x84s\\xc2\\xd8\\xd9?\\xab\\x8f\\xb2\\xb3\\x9brr\\xa7\\xb7\\x9b\\xbb\\xcf\\xf2\\xf6\\x0f\\x04?\\xbd\\x91{\\x17Ofq\\xac\\x14k\\xdf.<#\\xfa\\xd4=\\x9c\\xf1\\xa2g\\xacx\\xf5\\x18m3\\xe7\\xf9\\xb9\\xfe\\xaf\\xf2#\\n\\xe1[\\xfcI\\x02M\\x06\\x8c\\xa6\\xbf~\\xff\\x05PK\\x03\\x04\\x14\\x00\\x00\\x00\\x08\\x00\\xc5N\\xd1P\\x02BsN\\xd1\\x00\\x00\\x00\\xb0\\x01\\x00\\x00\\x1a\\x00\\x1c\\x00xl/_rels/workbook.xml.rels \\xa2\\x18\\x00(\\xa0\\x14\\x00\\x00\\x00\\x00\\x00\\x00\\x00\\x00\\x00\\x00\\x00\\x00\\x00\\x00\\x00\\x00\\x00\\x00\\x00\\x00\\x00\\xb5\\x90KN\\x031\\x0c\\x86\\xaf\\x12y\\xcf83\\xd0\\x16P\\xd3n\\xd8t[\\xf5\\x02!\\xe3y\\xa83I\\x14\\xbb\\xaf\\xb3u\\xc1\\x91\\xb8\\x02\\x01!`$\\x16lXY\\xfem\\x7f\\xfa\\xe4\\xd7\\xeb\\xcbr}\\x1e\\x07u\\xa4\\xc4}\\xf0\\x06\\xcaB\\x83\"\\xefB\\xdd\\xfb\\xd6\\xc0A\\x9a\\x9b{X\\xaf\\x96[\\x1a\\xac\\xe4\\r\\xee\\xfa\\xc8*\\x9fx6\\xd0\\x89\\xc4GDv\\x1d\\x8d\\x96\\x8b\\x10\\xc9\\xe7I\\x13\\xd2h%\\xb7\\xa9\\xc5h\\xdd\\xde\\xb6\\x84\\x95\\xd6sL?\\x190e\\xaa\\xdd%\\xd2_\\x88\\xa1izGO\\xc1\\x1dF\\xf2\\xf2\\x0b\\x18Y.\\x031\\xa8\\x9dM-\\x89\\x01<\\x0f\\x9fY\\x91Y\\xa06\\xb5\\x81\\xed\\x83]\\xe8g}[-\\xcayuG3\\x0b\\n\\xffM\\xe8\\x14\\xd2\\x9e;\"\\x99:}\\xc5Y\\xf9\\xbd\\x94\\xdfziS\\x97\\x1fF8\\xf9\\xfb\\xea\\rPK\\x03\\x04\\x14\\x00\\x00\\x00\\x08\\x00\\xc5N\\xd1P\\xa8\\x05\\x80\\xacC\\x7f\\x00\\x00\\xa1 \\x05\\x00\\x18\\x00\\x1c\\x00xl/worksheets/sheet1.xml \\xa2\\x18\\x00(\\xa0\\x14\\x00\\x00\\x00\\x00\\x00\\x00\\x00\\x00\\x00\\x00\\x00\\x00\\x00\\x00\\x00\\x00\\x00\\x00\\x00\\x00\\x00\\xbc\\xdd_\\xee,\\xcb\\x91\\x1f\\xf6\\xad\\x10\\xf7\\xdd\\xc5\\xca\\x88\\xc8\\xc8\\xcc\\x818\\x82]\\xb5\\x03?\\xf8\\x99 )\\r!\\xfe\\x19\\xf0\\xde\\x99\\xe1\\xabW\\xe0\\xa5X/\\x02\\x04\\x03\\xb2\\xb7p\\xb5#g\\xfd.OOGG|\\xc9\\t\\x08\\xa1\\xa7\\x19\\x82U\\xe70Nwg~\\xb3*3>\\xff\\xee\\xdf\\xff\\xf9\\xf7\\xbf\\xfb\\xd9?\\xff\\xe6O\\xdf\\xff\\xf6\\x8f\\x7f\\xf8\\xc5w\\xed8\\xbf\\xfb\\xd9o\\xfe\\xf0\\xab?\\xfe\\xfa\\xb7\\x7f\\xf8\\x8f\\xbf\\xf8\\xee\\x9f~\\xf8\\x0f\\xff\\xcb\\xfc\\xee\\xdf\\xff\\xfd\\xbf\\xfb\\xf3\\xdf\\xfd\\xcb\\x1f\\xff\\xf4\\x9f\\xbe\\xff\\x87\\xdf\\xfc\\xe6\\x87\\x9f\\xed\\x1b\\xfe\\xf0\\xfd\\xdf\\xfd\\xf9\\x17\\xdf\\xfd\\xc3\\x0f?\\xfc\\xe3\\xdf\\xfd\\xfc\\xe7\\xdf\\xff\\xea\\x1f~\\xf3\\xfb_~\\x7f\\xfc\\xf1\\x1f\\x7f\\xf3\\x87\\xfd\\xdf\\xfd\\x87?\\xfe\\xe9\\xf7\\xbf\\xfca\\xff\\xc7?\\xfd\\xc7\\x9f\\x7f\\xff\\x8f\\x7f\\xfa\\xcd/\\x7f\\xfdu\\xdb\\xef\\x7f\\xf7s:O\\xfd\\xf9\\xef\\x7f\\xf9\\xdb?|\\xf7\\xfc\\x81\\xbf\\xfa\\xe3\\xef\\xbe\\xff\\xcb\\xff\\xfd\\xd9\\xef\\x7f\\xfb\\xfc\\xdd\\xdf\\xfd\\xec\\xf7\\xbf\\xfc\\xf3\\xd7\\xff\\xfd\\x97\\xdf\\xfe\\xfa\\x87\\x7f\\xf8\\xc5w\\xf3\\xbb\\x9f\\xfd\\xea\\x9f\\xbe\\xff\\xe1\\x8f\\xbf\\xff?~\\xfa\\xcf\\xfb\\xbf\\xf9\\xb9\\xb9\\x85\\xfer\\x0b\\xbdni\\xedo\\xdd\\xc3\\x7f\\xb9\\x87\\xff\\xc6_\\xf3\\xf3\\x7f\\xfd\\x9f\\xf8U\\xc0\\xfd\\xcb\\x1f~\\xf9\\xfc\\x87?\\xfd\\xf1_~\\xf6\\xa7\\xe7\\xa2\\xaf?\\xf5\\xf9\\x7f\\xff\\xd7}\\xc3\\xf7\\xbf\\xf8n\\xff\\xcb\\xfd\\xf0\\x8b\\xef~\\xfb\\x87\\xdf\\xfd\\xf6\\x0f\\xbf\\xf9\\xdf\\x7f\\xf8\\xd3\\xd7\\x7f\\xff\\xdb\\xaf\\xfb\\x7f\\xf8\\xfb?\\xfcq\\xff\\xdd\\xbf\\xfc\\xdd\\xf3\\x87\\xfe\\xf0\\xf5G?\\xff\\xc5\\xf37\\xbc\\xfe\\x90\\xff\\xedo\\xff!\\xbf\\xde\\xff\\x0b\\xfe\\xca\\x9fp\\xfd\\xed?\\xe1W\\xff\\xf4\\xa7\\xef\\xff\\xca\\x9fp\\xff\\x1b\\xfe\\x84_\\xff9\\xfa\\x03~\\xfe\\xf5\\xef\\xf2\\xf6\\xcfCo\\xff<\\xf4\\xf5\\xa7\\xf2\\xd7\\x9f\\xfa\\xd3g\\xff\\xcf\\x7f\\xdf\\xce\\xf3\\xb9\\xe9\\x9f?\\xff\\x15~\\xbaV\\xfer\\x95\\xec\\xafL\\x8f\\xae\\xbb~\\xba\\xae\\x9b?S\\xf4Xk\\xcd\\xe8\\xfa\\x9b\\xfefe?\\xfe\\xdf?\\xfe\\x7f?\\xfe\\xbf?\\xfe\\xb7\\xff\\xfe\\x7f\\xfe\\xf8\\xff\\xfc\\xf8\\x9f\\xff\\xfb\\xff\\xf5\\xb3\\x1f\\xff\\xeb\\x8f\\xff\\xe5\\xc7\\xff\\xf6\\xe3\\x7f\\xfe7\\xd5\\xcbo\\xf5r\\xa2^\\xfe\\xac\\xb7\\x8d\\xb0^\\x0e\\xea\\xedt\\xcc\\xde\\xc3?\\xf7\\xe6\\xe2z\\xe5\\xad^I\\xd4+\\xae\\xde\\xf0\\xf3\\xba$\\xaaW\\x8e\\xd1g\\xf8\\xefsKq\\xbd\\xfd\\xad\\xde\\x9e\\xa8\\xb7\\xbbzWXo\\x8f\\xea\\xd5\\xa3/\\x96\\xb0\\xde^\\\\\\xaf\\xbe\\xd5\\xab\\x89z\\xf5\\xb3^\\n\\xaf\\xbb4\\xaa\\xb7\\x1f\\xed\\x1c\\x1c\\xd6\\xab\\xc5\\xf5\\x8e\\xb7zG\\xa2\\xde\\xe1\\xeama\\xbd#\\xaew.\\x8a\\xc7\\xabQ\\\\\\xef|\\xabw&\\xea\\x9d\\xae\\xde\\xf0\\xfby\\xcd\\xb8^a\\xa6\\xb0\\xdeY\\\\\\xefz\\xabw%\\xea]\\xae\\xdex>Z\\xf1x\\xb5\\x945\\xacw\\x15\\xd7\\xdb\\xce\\xf7|r&*\\xfe\\xcb\\xc5\\xef%\\x87%\\\\\\x7f\\xb9\\xd0}\\xc6\\xe3\\\\\\xf1g\\xfc\\x97\\x1b\\n\\x8b6\\xa1\\xace\\x8an\\xae\\xe8x\\x1e\\xfe\\xcb\\x85\\xfe\\x8b-\\x03\\x14\\xfd\\xb73\\xd5\\xff`\\xd1\\xefQ\\xabe\\xb2Vsa+\\x1e\\x8c\\xae\\x16\\xa5\\xad\\xce\\x87\\xd2\\x88g\\xa7V\\x1d\\xb7\\xda{\\xdej\\x99\\xc0\\xd5\\\\\\xe2\\xe2x\\xc4na\\xe4\\xda\\x9f\\xf4\\x14Ptu\\xe6j\\xef\\xa1\\xabeRWs\\xb1+\\x1e\\x86\\xaf\\x16\\xe6\\xaeq0\\x9a\\xa7Zu\\xf0j\\xef\\xc9\\xabe\\xa2Ws\\xd9\\x8b\\xc3lq5\\x10\\xbe\\x16\\xc5\\xe1\\xf4n\\xd5\\xe9\\xab\\xbd\\xc7\\xaf\\x96\\xc9_\\xcd\\x05\\xb08@^-L`\\xf3\\xe0s\\x80\\xa2\\xab#X{\\xcf`-\\x13\\xc2\\x9aKa\\x1c\\xcf\\xd2-\\x8cas\\xff\\xa6\\'(\\xba:\\x87\\xb5\\xf7 \\xd62I\\xac\\xb9(\\xc6`\\xf4\\x0e\\xb3\\xd8:\\xda<\\xc1\\x94U\\x1d\\xc6\\xda{\\x1ak\\x998\\xd6\\\\\\x1e\\xe3x=\\xd5\\xc2@6\\x8e\\xd9\\xe2\\x05\\xf6\\xdd\\xaa\\x13\\x19\\xbd\\'2\\xca$2r\\x89L\\xe2E\\x15\\xa1D&+\\x9e\\xb2\\xa8:\\x91\\xd1{\"\\xa3L\"#\\x97\\xc8$\\x9e\\xa7)Ld\\xfb7\\xad \\x91Qu\"#\\xf3\\xf0+\\xf5\\xf4\\xcb%2\\x89\\xe7i\\n\\x13\\x99\\xee\\xd1\\x1b\\xcc\\xd3T\\x9d\\xc8\\xe8=\\x91Q&\\x91\\x91Kd\\x02\\x9e\\xf9\\xa1DF\\'(\\xba:\\x91\\xd1{\"\\xa3L\"#\\x97\\xc8$^eQ\\x98\\xc8\\xfa\\xd1Z\\x0f\\xff\\x95n\\xaaNd\\xf4\\x9e\\xc8(\\x93\\xc8\\xc8%2\\x89WY\\x14&\\xb2]tW\\xf0IW\\'2zOd\\x94Id\\xe4\\x12\\x99\\xc4\\xf34\\x81gb\"g8\\xc7\\xddT\\x9d\\xc8\\xe8=\\x91Q&\\x91\\x91Kd\\x12\\xcf\\xd3\\x14&29F;\\xc1\\x94U\\x9d\\xc8\\xe8=\\x91Q&\\x91\\x91Kd\\x1d\\x8c\\xdea\"\\xa3c\\xf2\\x8c\\x9f\\xe6Su\"\\xa3\\xf7DF\\x99DF.\\x91\\xf5x\\x95Ea\"\\xa3cM\\xf4\\xca\\xa6:\\x91\\xf1{\"\\xe3L\"c\\x97\\xc8z\\xbc\\xca\\xe20\\x91\\xd1\\xc1\\x03<\\x07\\xe5\\xeaD\\xc6\\xef\\x89\\x8c3\\x89\\x8c]\"\\x8bg\\xa0\\x8b\\xc3D\\xb6\\x8b\\x9e\\x14?\\xdc\\xe7\\xeaD\\xc6\\xef\\x89\\x8c3\\x89\\x8c]\"\\xeb\\xf1<\\xcda\"\\xa3\\xe3l\\x0b\\x14]\\xfeJ\\xd2\\xbc\\x93L\\xbd\\x94t\\x89L\\xe3\\x05\\x07\\x87\\x89\\x8c\\x0fB\\x0f\\x06\\xb9:\\x91\\xf1{\"\\xe3L\"c\\x97\\xc84^pp\\x98\\xc8\\xe8\\xd0\\x11G\\xb8\\x9b\\xab\\x13\\x19\\xbf\\'2\\xce$2v\\x89L\\xe3)\\x8b\\xc3D\\xd6\\x8e\\xc6\\r|\\xd2\\xd5\\x89\\x8c\\xdf\\x13\\x19g\\x12\\x19\\xbbD\\xa6\\xf1\\x94\\xc5a\"k\\x07\\x0bx\\x0b\\xcd\\xd5\\x89\\x8c\\xdf\\x13\\x19g\\x12\\x19\\xbbD\\xa6` \\x0b\\x13Y;\\xe6\\x02\\xebi\\xaeNd\\xfc\\x9e\\xc88\\x93\\xc8\\xd8%2\\x05\\xdb+@\";\\xc7\\t~\\xd3\\xd5\\x89\\x8c\\xdf\\x13\\x19g\\x12\\x19\\xbbD\\x16/\\x9a.\\x0e\\x13Y;T\\x07(\\xba:\\x91\\xc9{\"\\x93L\"\\x13\\x97\\xc84^pH\\x98\\xc8v\\xd1\\r\\xec\\xb4\\x90\\xeaD&\\xef\\x89L2\\x89L\\\\\"\\x1b\\xf1<-Q\"\\x93u,\\x9aq8\\x91\\xeaD&\\xef\\x89L2\\x89L\\\\\"\\x8b\\xb3\\xc6%\\xe1\\x1e\\xb1u\\xcc\\x06\\xdeOKu\"\\x93\\xf7D&\\x99D&.\\x91\\x8d8{K\\x98\\xc8\\x9e\\xdft\\xbc\\x91\\xee\\x96\\xf2\\x9dbf\\xabXj\\xaf\\x98Kd\\xf1\\xb8tI\\x98\\xc8\\xce\\x83\\xa9\\x81\\xa2\\xab\\x13\\x99\\xbc\\'2\\xc9$2q\\x89l\\xc4S\\x96\\x84\\x89\\xec<z;\\xc3\\xdczKu\"\\x93\\xf7D&\\x99D&.\\x91\\xc5\\x0fB.\\x01\\x89\\x8cx\\x82O\\xba:\\x91\\xc9{\"\\x93L\"\\x13\\x97\\xc8f\\xbc\\xe0\\x900\\x91\\x9d\\xc7D\\x9b\\x8b\\xa4:\\x91\\xc9{\"\\x93L\"\\x13\\x97\\xc8f\\xbc\\xe0\\x900\\x91\\xed\\xaf\\xf7\\x02\\xdb/\\xa4:\\x91\\xc9{\"\\x93L\"\\x13\\x97\\xc8\\xe2i\\xf7\\x92(\\x91\\xed)\\xab\\xf3\\x02\\xbf\\xe9\\xeaD\\xd6\\xdf\\x13Y\\xcf$\\xb2\\xee\\x12\\xd9\\x8c\\xe7\\xe9\\x1e%\\xb2]\\xb4\\x0e\\xf0\\x08\\xb8W\\'\\xb2\\xfe\\x9e\\xc8z&\\x91u\\x97\\xc8\\xe2\\x95\\xe2\\xd5A\"\\x93\\x19\\xff\\x1e\\xee^\\x9d\\xc8\\xfa{\"\\xeb\\x99D\\xd6]\"\\x8bwS\\\\\\x1d$\\xb2\\xa6\\x04\\x8a\\xaeNd\\xfd=\\x91\\xf5L\"\\xeb.\\x91M\\xb0\\xb3;Jd2\\x8e\\xa5-\\xfeM\\xf7\\xeaD\\xd6\\xdf\\x13Y\\xcf$\\xb2\\xee\\x12\\xd9\\x8a\\xe7\\xe9\\x1e%\\xb2]\\xb4\\xd2\\x88\\xdfe\\xf5\\xf2\\r\\xfcf\\x07\\x7fj\\x0b\\xbfKd\\xf1`|\\xf5(\\x91\\xc9\\xdc14\\xde\\x04\\x7f\\xf7\\xeaD\\xd6\\xdf\\x13Y\\xcf$\\xb2\\xee\\x12Y\\xbc\\x85\\xe4\\xeaQ\"\\xdbEO\\x8a7\\xa9\\xdc\\xbd:\\x91\\xf5\\xf7D\\xd63\\x89\\xac\\xbbD\\xb6\\xe2UV\\x8f\\x12\\xd9\\xf3\\x9b\\x9e+~0\\xd8\\xab\\x13Y\\x7fOd=\\x93\\xc8\\xbaKd+^e\\xf5(\\x91\\xedO\\xba/Ttu\"\\xeb\\xef\\x89\\xacg\\x12Yw\\x89,\\xae\\xe1\\xeaa\"\\xdb\\x03\\x99\\x82\\x87\\xfd\\xbd:\\x91\\xe9{\"\\xd3L\"S\\x97\\xc8\\xe27\\xaf\\x97\\x86\\x89l\\x1c\\xd2\\xc0i3\\xadNd\\xfa\\x9e\\xc84\\x93\\xc8\\xf43\\x91\\x81\\xe5\\xf1\\xa5a\"\\xdbEO\\xf0\\x08X\\xab\\x13\\x99\\xbe\\'2\\xcd$2\\xfdLd-\\xde\\xeay)8G\\xd9(\\xdemwku\"\\xd3\\xf7D\\xa6\\x99D\\xa6\\x9f\\x89\\xac\\x9d\\xf1*K\\xc3D\\xd6\\x8f\\x93\\xe3\\xc3y\\xb7V\\'2}Od\\x9aId\\xfa\\x99\\xc8\\xc0\\xbe\\x99K\\xc3D\\xc6\\x87N\\xf0\\xdc[\\xab\\x13\\x99\\xbe\\'2\\xcd$2\\xfdLd\\r\\x9c\\x12\\xd60\\x91\\xd1!\\x1co1\\xbc\\xb5\\xfc\\\\\\xa59X\\x99:Y\\xf9\\x99\\xc8Z\\xbc\\xeb\\xf1\\xd20\\x91\\xf1\\x1e\\xbd\\xd1\\xd9\\xca\\xeaD\\xa6\\xef\\x89L3\\x89L?\\x13Y\\x8b\\xf7\\xc2]\\x1a&2>x\\xc5\\xbb\\xe2o\\xadNd\\xfa\\x9e\\xc84\\x93\\xc8\\xf43\\x91\\xb5\\x16\\xaf\\xb24Ldt\\x90\\x80-UZ\\x9d\\xc8\\xf4=\\x91i&\\x91\\xe9g\"k\\xf1\\xf2\\xf8\\xd20\\x91\\xb5C%>z{ku\"\\x1b\\xef\\x89ld\\x12\\xd9\\xf8Ld\\xad\\xc5\\xf3\\xf4\\x08\\x13\\x19\\x1d\\xbd\\x81G\\xc0\\xa3:\\x91\\x8d\\xf7D62\\x89l\\xb8D\\x16\\xbf\\xa5\\xb9F\\x98\\xc8\\x9e\\xdf4\\xd8\\x05<\\xaa\\x13\\xd9xOd#\\x93\\xc8\\x86Kd-^e\\x8d0\\x91}\\x9d\\x8c\\x8f\\xb3\\xf7\\xa8Nd\\xe3=\\x91\\x8dL\"\\x1b.\\x91\\x81\\xee\\x16#LdrL\\x95x\\xca\\x1a\\xd5\\x89l\\xbc\\'\\xb2\\x91Id\\xc3%2\\xd0\\xe2b\\x80Dv\\x128\\x817\\xaa\\x13\\xd9xOd#\\x93\\xc8\\x86Kd\\xa0\\xcf\\xc5\\x00\\x89l\\x7f\\xbd\\xe3\\xec=\\xaa\\x13\\xd9xOd#\\x93\\xc8\\x86Kd\\xf1c\\xeck\\x80D\\xd64\\xdeWy\\x8f\\xf2v\\x17\\xa6\\xdfE\\xaa\\xe1\\x85Kd\\xf1\\xa6\\xdek\\x80D\\xb6\\x1a\\xfaMW\\'\\xb2\\xf1\\x9e\\xc8F&\\x91\\r\\x97\\xc8@\\xdb\\x8b\\x11&\\xb2\\x9d\\xbd\\xc1\\x91\\xbd{T\\'\\xb2\\xf1\\x9e\\xc8F&\\x91\\r\\x97\\xc8@\\xef\\x8b\\x11&\\xb2=\\x90\\xf1\\x88\\x13\\xd9\\xa8Nd\\xf3=\\x91\\xcdL\"\\x9b.\\x91q\\x9c\\xbdg\\x98\\xc8\\x9e\\xd1;~%r\\xcf\\xeaD6\\xdf\\x13\\xd9\\xcc$\\xb2\\xe9\\x12\\x19\\xe8\\x890\\xc3D\\xd6\\x8eA\\xf1^\\xe9{V\\'\\xb2\\xf9\\x9e\\xc8f&\\x91M\\x97\\xc8@O\\x84\\x19&\\xb2\\xbd\\xca\\x02\\x83\\xc0=\\xab\\x13\\xd9|Od3\\x93\\xc8\\xa6Kd\\xa0\\'\\xc2\\x0c\\x13\\xd9.z\\x82\\x87\\x08\\xb3:\\x91\\xcd\\xf7D63\\x89l\\xbaD\\xc6q\\x0c\\x9da\"\\xa3=z\\x83-U\\xb3:\\x91\\xcd\\xf7D63\\x89l\\xbaD\\x06\\xda\\x03\\xcc0\\x91\\xb5\\x83;x?=\\xab\\x13\\xd9|Od3\\x93\\xc8\\xa6Kd\\xa0=\\xc0\\x0c\\x13\\xd9sZ\\'>\\x9cy\\xcf\\xeaD6\\xdf\\x13\\xd9\\xcc$\\xb2\\xe9\\x12\\x19h\\x0f0\\xc3D\\xd6\\x8e)\\xe0!\\xc2,\\xefBf\\xda\\x90\\xa5\\xfa\\x90\\xb9D\\x16\\xa7\\xcak\\x86\\x89\\xac\\x1d\\x8d@\\xf6\\x9e\\xd5\\x89l\\xbe\\'\\xb2\\x99Id\\xd3%\\xb2x/\\xdc5\\xc3Dv\\x1ek\\x80W\\xb5\\xb3:\\x91\\xad\\xf7D\\xb62\\x89l\\xb9D\\x06\\xda\\x03\\xac0\\x915\\xbc\\xbbhU\\'\\xb2\\xf5\\x9e\\xc8V&\\x91-\\x97\\xc8@{\\x80\\x05\\x12\\x19-\\x10NVu\"[\\xef\\x89le\\x12\\xd9r\\x89\\x0c\\xb4\\x07Xa\"\\xdbE\\x83-\\x86\\xf7\\xaaNd\\xeb=\\x91\\xadL\"[.\\x91\\xc5\\xef\\xd8\\xaf\\x15&\\xb2\\xfd\\x9b^\\xa0=\\xc0\\xaaNd\\xeb=\\x91\\xadL\"[.\\x91\\xf5x\\xc1\\xb1\\xc2D\\xd6\\xf6*\\x0b\\xb4\\xfcX\\xd5\\x89l\\xbd\\'\\xb2\\x95Id\\xcb%2\\xd0\\x1e`\\x81D&\\x1aoG\\xbaWu\"[\\xef\\x89le\\x12\\xd9r\\x89\\x0c\\xb4\\x07X \\x91\\xb5\\x19\\xf7\\xf2\\xbaWu\"[\\xef\\x89le\\x12\\xd9r\\x89\\x0c\\xb4\\x07Xa\"\\xa3c\\x0c\\xd0\\xb0iU\\'\\xb2\\xf5\\x9e\\xc8V&\\x91-\\x97\\xc8:\\x18\\xbd\\xc1[\\xcb\\xae\\xe8\\x93.o\\x0ek\\xba\\xc3\\xa6\\xda\\xc3\\xbaD\\xd6\\xe3U\\xd6\\n\\x13\\x19\\x1d\\xeb\\x04=\\x11V}\\x87X\\xdb\"6\\xd7#\\xd6\\x85\\xb2\\x0e\\xfa\\xb0\\x9d\\xe0\\xcd\\xe5 \\xb0\\xad\\xea\\xdb\\x1d\\x95\\x95\\x9b>\\xb1g\\xaaQ\\xec\\xe9\\x92\\x19\\xe8\\x8d\\xf0\\xedJ\\xf7R\\x8b\\xd1\\x8b\\xeaowTVn\\x9a\\xc5\\x9e\\xa9n\\xb1\\xa7\\x8bg\\xa0A\\xc2\\xb7+\\xfd\\x06\\xab\\x19\\x8f\\x83\\xf7\\xb7;*+7\\x1dc\\xcfT\\xcb\\xd8\\xd3e4\\x05M5O\\xf0\"S\\x07\\xe8\\x02\\xf2\\xed\\x8e\\xca\\xcaM\\xdb\\xd83\\xd57\\xf6tAMAg\\xcd3Ljr,\\xa68\\x9e~\\xbb\\xa3\\xb2r\\xd3;\\xf6L5\\x8f=]Z\\x03\\xfd\\x12\\xbe]\\xe9*\\xef\\x0b\\x8ep\\xe5\\xfdcO\\xd3@\\xf6Lu\\x90=]d\\x03M\\x13\\xbe]\\xe9*\\xdf\\xc1\\x16U^\\xdeD\\xf64]d\\xcfT\\x1b\\xd9\\xd3\\xe5\\xb6\\xf8\\x05\\xd6\\xf5\\xedJW\\xf9\\xe8\\r\\xfd\\xce\\xcb;\\xc9\\x9e\\xa6\\x95\\xec\\x99\\xea%{\\xba\\xf0\\x167\\xfb\\xb8\\xbe]\\xe9\\xde{\\r\\x81c{y;\\xd9\\xd3\\xf4\\x93=S\\reO\\x97\\xe0\\xe2\\x17\\x1c\\xd7\\xb7+]\\xe5\\xbd\\xa3\\xd6\\xefgy\\x86\\xb3m\\xfes}\\xfe]\\xa3\\xff\\x06\\x1a)\\xb4\\xb0\\xd3\\xff\\xf3V\\xbb\\xc7#\\xc3\\xdd\\xfe\\'\\xb4\\xfa\\xb7\\xbd\\xfes\\xcd\\xfe]\\x86\\x03\\xdd\\x14Z\\xd8\\xee\\xffk\\xd7t\\xbc\\x8c\\xbd[}\\xbf\\x7f\\xdb\\xf0?\\xd7\\xf1\\xdf\\xb5\\xfco\\xf1^\\xa3\\xab\\x85=\\xff\\x9fo\\xfb\\x19?\\xaa\\xb9[}\\xd3\\x7f\\xdb\\xf5?\\xd7\\xf6\\xdf\\xf5\\xfdo\\xf1\\x86\\xa3\\xab\\x85\\x8d\\xffw\\xe5\\xf0D[\\xab\\xef\\xfco[\\xff\\xe7z\\xff\\xbb\\xe6\\xff\\r4Wha\\xf7\\xff\\xe7\\xdb.\\xa0\\xd7l\\xabo\\xffo\\xfb\\xff\\xe7\\x00\\x00\\'\\x004\\xd0a\\xa1\\x85\\x04\\xc0\\x93d\\xc0\\x1b\\x96\\xbb\\xd5\\x1b\\x00\\x16\\x01\\xc8)\\x00\\x8e\\x01h\\xa0\\xcdB\\x0b\\x1d\\x80]\\xb9\\x10h\\x02\\xd5\\xea!\\x00+\\x01\\xe4(\\x00g\\x01\\xb4\\xb83\\xc8\\xd5B\\x0c`\\xafR\\x91\\xe1t\\xb7z\\r\\xc0r\\x009\\x0f\\xc0\\x81\\x00m\\x82\\x15K(\\x02\\xec\\xca\\x07!\\xe5\\xa3\\x9e\\x04\\xb0&@\\x0e\\x05p*@\\x03]\\x17Z\\xc8\\x02<\\x9f9\\x98\\r\\xeeV\\xee\\x024\\x03\\x03\\xb4\\x94\\x0c\\xd0\\x1c\\r\\xd0@\\xeb\\x85\\x16\\xda\\x00\\xcf3\\x19A\\xf4E9\\x0e\\xd0\\x8c\\x0e\\xd0R<@s>@\\x03\\xfd\\x17Z\\x08\\x04<;\\xea\\xd1\\xcb\\xf0V.\\x044C\\x04\\xb4\\x94\\x11\\xd0\\x1c\\x12\\x00\\xfa\\x99]-T\\x02D\\x8f\\x93\\xd0|^\\xce\\x044\\xe3\\x04\\xb4\\x14\\x14\\xd0\\x9c\\x14\\x00z\\xeb^-\\xa4\\x02\\xe4\\xf1\\x14\\xc1\\xf6\\xb5Vn\\x054\\x83\\x05\\xb4\\x94\\x16\\xd0\\x1c\\x17\\xd0@;\\x86\\x16z\\x012\\xf6\\xef\\x1c\\xec\\x82h\\xe5`@3b@K\\x91\\x01\\xcd\\x99\\x01\\r\\xf4dh!\\x1a\\xf0\\x98\\xb0\\x1d\\xad\\xd5\\xca\\xd5\\x80f\\xd8\\x80\\x96r\\x03\\x9a\\x83\\x03\\x1ah\\xcc\\xd0B9`W\\xce+nl{\\xb7r:\\xa0\\x19;\\xa0\\xa5\\xf0\\x80\\xe6\\xf4\\x80\\xb6\\xd0\\xd8\\x0e2\\xdc\\xd4\\x18N\\xb9[\\xb9\\x1f\\xd0\\x0c \\xd0R\\x82@s\\x84\\x00\\xc5W^-4\\x04\\xf6gN\\'\\xe8\\x84\\xd7\\xca\\x11\\x81f\\x14\\x81\\x96b\\x04\\x9as\\x04\\x08\\xf4ih!$\\xf0|\\xe6\\x1c\\xb7f\\xbf[\\xb9$\\xd0\\x0c%\\xd0R\\x96@s\\x98\\x00\\x81f\\r-\\xd4\\x04v\\xe5\\xb0\\x95T+\\xe7\\x04\\x9a\\xf1\\x04Z\\n\\x14hN\\x14 \\xd0\\xb1\\xa1\\x85\\xa4\\xc0\\xf3\\x99\\x0b\\xd8\\xe6\\xd6\\xcaM\\x81fP\\x81\\x96R\\x05\\x9ac\\x05\\xc0\\xdb\\xf0\\xab\\x85\\xae\\xc0\\xd7Z\\r\\xecuk\\xe5\\xb0@c\\xabo\\xa62\\x9c\\xb3\\x05\\xe8\\x04k\\xb5\\x10\\x17\\xf8\\xfa\\x9d\\xa3\\x11\\xae\\\\\\x17h\\x86\\x17h)_\\xa09`\\x00\\xeca\\xbbZ(\\x0c<\\xb9}\\xa0\\x11\\xae\\x9c\\x18h\\xc6\\x18h)d\\xa09e\\x80@\\x17\\x87\\x162\\x03O\\x92\\x81o\\x91\\xcb\\x9d\\x81f\\xa0\\x81\\x96\\x92\\x06\\x9a\\xa3\\x06\\x08\\xb4rh\\xa15\\xb0+\\x9f\\'\\xe4f\\xcb3\\x9c\\xd1\\x06Z\\x8a\\x1bh\\xce\\x1b\\xa0\\xf8\\xcd\\xe8\\xd5Bp\\xe0i\\xb1\\xc5\\xf1\\x8a\\xfen\\xe5\\xe2@3\\xe4@K\\x99\\x03\\xcd\\xa1\\x03\\x14\\x13\\x19W\\x0b\\xd5\\x01\\x99\\x18\\xbfj\\xe5\\xec@3\\xee@K\\xc1\\x03\\xcd\\xc9\\x03\\xa0\\xff\\xf6\\xd5Bz\\xe0i\\x95(\\xa0\\xc3X+\\xb7\\x07\\x9a\\xc1\\x07ZJ\\x1fh\\x8e\\x1f \\xd0\\xde\\xa1\\x85\\xfe\\xc0\\xfe\\xb6w\\xd0\\x8c\\xedn\\xe5\\x00A3\\x02AK\\x11\\x04\\xcd\\x19\\x04\\x04z<\\xb4\\x18!\\x98G\\x1f\\xb0\\xf2\\xf2\\x0cg\\x18\\x82\\x96r\\x08\\x9a\\x83\\x08@\\x9b\\xcf\\xab\\x85\\x12\\xc1\\xd3\\x9f\\x1e\\xb4e\\xbb[9E\\xd0\\x8cE\\xd0R\\x18As\\x1a\\x01\\xc5oL\\xae\\x16s\\x04\\xe7\\x93^Q\\xe5\\xe5\\x19\\xce\\x80\\x04-%\\x124G\\x12\\x10h\\xf9\\xd0\\x90I \\xf0\\x1dK9J\\xd0\\x8cJ\\xd0R,As.\\x01\\x81\\xbe\\x0f-\\x86\\t\\xda\\xd1:8\\xa8\\xd2\\xcae\\x82fh\\x82\\x96\\xb2\\t\\x9a\\xc3\\t\\x084\\x7fhH\\'h=~~u\\xb7r\\x9e\\xa0\\x19\\x9f\\xa0\\xa5\\x80\\x82\\xe6\\x84\\x02\"4\\xb6\\x034jH\\xdc>\\xe1n\\xe5FA3HAK)\\x05\\xcd1\\x05\\xe0W{5\\xe4\\x14hGI\\xa6\\x1c*hF*h)\\xaa\\xa09\\xab\\x80\\xe2\\x95\\xd7\\xd5B\\xac\\xa0\\xd3\\x81~\\x1fw+\\xd7\\n\\x9a\\xe1\\nZ\\xca+h\\x0e, \\xd0\\xfa\\xa3\\x85b\\xc1\\xe3\\xc2\\xcdx\\x7f\\xc9\\xdd\\xca\\xc9\\x82f\\xcc\\x82\\x96B\\x0b\\x9aS\\x0b\\x08\\xf4\\xffh![\\xf0\\xf5\\x99\\x83\\xae\\'\\xad\\xdc-h\\x06.h)\\xb9\\xa09\\xba\\x80\\xe2n\\xa8W\\x0b\\xed\\x82G}d\\xd0\\xce\\xa8\\x95\\xe3\\x05\\xcd\\xe8\\x05-\\xc5\\x174\\xe7\\x17P|\\xfa\\xeaj!`\\xf0\\x13\\xdc\\x0b\\x9e\\xc3\\x95\\x0b\\x06\\xcd\\x10\\x06-e\\x184\\x87\\x18P\\xdc\\xfe\\xe0j\\xa1b\\xf0T~\\xc6\\xa7\\xbc\\xeeV\\xce\\x184\\xe3\\x18\\xb4\\x14d\\xd0\\x9cd@\\xa0\\x11J\\x0b)\\x83\\xce\\xc7\\x1ah\\xc7o\\xb9e\\xd0\\x0cf\\xd0R\\x9aAs\\x9c\\x01\\x81n(-\\xf4\\x0c\\x1e\\x85\\x1d@Ew+\\x07\\r\\x9a\\x11\\rZ\\x8a4h\\xce4\\x00\\x9d\\xbd\\xaf\\x16\\xa2\\x06}\\x1e\\xa3\\xa3\\x9d\\x03\\xe5\\xaaA3\\xacAK\\xb9\\x06\\xcd\\xc1\\x06\\x14\\xbf\\x13\\xbeZ(\\x1b\\xec\\xca\\x85\\xc11\\xdcVN\\x1b4c\\x1b\\xb4\\x14n\\xd0\\x9cn@\\xa09J\\x0by\\x83>\\x8e\\x05W,\\xe5\\xbeA3\\xc0AK\\t\\x07\\xcd\\x11\\x07\\x04:\\xa4\\xb4\\xd08\\xe8z\\x9c+~rw\\xb7r\\xe4\\xa0\\x19\\xe5\\xa0\\xa5\\x98\\x83\\xe6\\x9c\\x03\\x02mRZ\\x08\\x1d\\xec\\x11\\xee\\x04\\xbd\\xb5\\xefV.\\x1d4C\\x1d\\xb4\\x94u\\xf0\\xed\\xea\\xf7\\xca\\xc1\\xd8\\x1ej\\x07O\\xe5\\x84v\\x02\\x96s\\x07\\xcdx\\x07-\\x05\\x1e4\\'\\x1e\\x90\\x80\\xb5ZH\\x1et9:\\xc7=(\\xeeVn\\x1e4\\x83\\x1e\\xb4\\x94z\\xd0\\x1c{@\\xa0kJ\\x0b\\xdd\\x83\\xfd\\x99\\xeb\\x04\\xfd\\x9fZ9|\\xd0\\x8c|\\xd0R\\xf4As\\xf6\\x01\\x81\\xd6)-\\xc4\\x0fv\\xe5\\xe3\\x8c\\xbf%w+\\xd7\\x0f\\x9a\\xe1\\x0fZ\\xca?h\\x0e@ \\xd0?\\xa5\\x85\\x02\\xc2\\x1e\\xdb\\xa7\\x02\\xac\\xbe\\x95\\x13\\x08\\xcd\\x18\\x08-\\x85 4\\xa7 \\x80\\xfd\\xbbW\\x0b\\x19\\x84=\\x9f\\xb3\\xc6\\x8d\\xe5\\xefV\\xee 4\\x03!\\xb4\\x94\\x84\\xd0\\x1c\\x85@\\xf1\\x0e\\x88\\xab\\x85\\x16\\xc2\\xae\\x9c\\x16\\xda\\tX\\x8e!4\\xa3!\\xb4\\x14\\x87\\xd0\\x9c\\x87@\\xa0\\x9dJ\\x0bA\\x84\\'\\xc9p|\\n\\xe2n\\xe5\"B3$BK\\x99\\x08\\xcd\\xa1\\x08\\x04z\\xaa\\xb4PE\\xd8\\x95\\xebB\\xcf^\\xcbY\\x84f\\\\\\x84\\x96\\x82\\x11\\x9a\\x93\\x11\\x08uU\\ti\\x84]\\xb9\\x00z\\xf3n\\xe56B38BK\\xe9\\x08\\xcd\\xf1\\x08\\xa4`l\\x0f}\\x84]yg\\xf4d\\xa2\\x1cHhFHh)\"\\xa19#\\x81\\xe2=\\xdbW\\x0b\\x91\\x84]9\"\\x9f\\xeeV\\xae$4\\xc3$\\xb4\\x94\\x93\\xd0\\x1c\\x94@\\xa8\\xabJ(%\\xec\\xf4:V\\xdc\\xbd\\xf8n\\xe5TB3VBKa\\t\\xcdi\\t\\x84\\xba\\xaa\\x84\\\\\\xc2\\xae\\xfcT\\xb4g\\xa2\\xdcKh\\x06Lh)1\\xa192\\x81PW\\x95\\xd0L\\xd8\\x95/\\x8aO/\\xdf\\xad\\x1cMhFMh)6\\xa197\\x81\\x14\\x8d\\xeda\\x86\\xfb\\xe2\\xe9\\xd0g^\\x9e\\xe1\\x0c\\x9d\\xd0RvBsx\\x02\\xc5\\x92\\xcd\\xd5B=aW\\xdeV\\xdc\\xc6\\xf9n\\xe5|B3~BK\\x01\\n\\xcd\\t\\n\\x84\\xfa\\xc9\\x84\\x84\\xc2\\xf3m\\x17\\xb4V+7\\x14\\x9aA\\x14ZJQh\\x8eQ \\xd4O&t\\x14\\xf6g\\xce+>\\xd5x\\xb7rH\\xa1\\x19I\\xa1\\xa5(\\x85\\xe6,\\x05B\\xfddBLa\\x7f\\xe6\\xcc\\xe84G\\xb9\\xa6\\xd0\\x0c\\xa7\\xd0R\\x9eBs\\xa0\\x02\\xe8 p\\xb5PT\\xd8\\x95\\xcb\\x02]][9\\xa9\\xd0\\x8c\\xa9\\xd0R\\xa8Bs\\xaa\\x02\\r\\xb0V\\x0bY\\x85\\xfdm\\xdf7\\x80\\xdfy\\xb9\\xab\\xd0\\x0c\\xac\\xd0R\\xb2Bs\\xb4\\x02\\xb0\\xab\\xae\\x16\\xda\\nO\\x86kh}^\\x8e+4\\xa3+\\xb4\\x14\\xaf\\xd0\\x9c\\xaf\\x00d\\xfb\\xab\\x85\\xc0\\xc2\\xae\\xbc):\\x97Z.,4C,\\xb4\\x94\\xb1\\xd0\\x1c\\xb2\\x00\\x12\\xd9\\xd5BeaW>W\\xdc\\x99\\xe2n\\xe5\\xccB3\\xceBKA\\x0b\\xcdI\\x0b4\\xd1\\xd8\\x1ef89\\x14\\xee{-\\xb7\\x16\\x9a\\xc1\\x16ZJ[h\\x8e[\\x00\\xa7\\xcf\\xae\\x16z\\x0b\\xcf\\xb7\\x1d\\x80\\x87w+\\x07\\x17\\x9a\\x11\\x17Z\\x8a\\\\h\\xce\\\\ \\xd4O&D\\x17\\x9e\\xbdQ\\x02G\\xb8\\xf2\\x0cg\\xd8\\x85\\x96r\\x17\\x9a\\x83\\x17\\x08\\xf5\\x93\\t\\xe5\\x85\\xde\\x8e\\x05\\xcf\\x9f\\x97\\xd3\\x0b\\xcd\\xd8\\x0b-\\x85/4\\xa7/\\x10\\xea\\'\\x13\\xf2\\x0b\\xbb\\xf2\\xf3\\x8cG\\x86\\xbb\\x95\\xfb\\x0b\\xcd\\x00\\x0c-%04G0\\x80}}W\\x0b\\r\\x86~\\x1es\\xa2\\xfd\\xed\\xe5\\x08C3\\nCK1\\x0c\\xcd9\\x0c\\xb4\\xc0Z-\\x84\\x18\\xbe\\xbe\\xedh\\x95Z.14C1\\xb4\\x94\\xc5\\xd0\\x1c\\xc6@\\xa8\\x9fL\\xa81\\xf4\\xafv\\xf5\\xa8\\xf2\\xf2\\x0cg<\\x86\\x96\\x02\\x19\\x9a\\x13\\x19\\x08\\xf5\\x93\\tI\\x86\\xfe\\xd5\\xb3\\x1e<u.7\\x19\\x9aA\\x19ZJeh\\x8ee \\xd4O&t\\x19\\xf6\\xb7\\xbd\\x83N\\xd0w+\\x87\\x19\\x9a\\x91\\x19Z\\x8afh\\xcef\\x00{?\\xae\\x16\\xe2\\x0c\\xbbr\\x99\\xf1\\x93\\xbb\\xbb\\x95\\xeb\\x0c\\xcd\\xf0\\x0c-\\xe534\\x074P\\xfc\\x0c\\xf9j\\xa1\\xd0\\xf05\\xc2\\xc5{\\x8a\\xeeVN44c4\\xb4\\x14\\xd2\\xd0\\x9c\\xd2@\\xa8\\x9fL\\xc84<\\x19\\x8e\\xe3\\xfd\\xa2w+w\\x1a\\xc88\\r\\x94r\\x1a\\xc89\\r\\x0c\\xfa\\xc9P\\xe84\\xec\\xcae\\x00\\xc4\\x95\\xca\\x9d\\x062N\\x03\\xa5\\x9c\\x06rN\\x03\\x83~2\\x14:\\r\\xcf\\xef\\x1cy$T\\xee4\\x90q\\x1a(\\xe54\\x90s\\x1a8~?xQ\\xe84<\\xa7\\xb6\\xc0\\xae\\xc9\\x9b\\xca\\x9d\\x062N\\x03\\xa5\\x9c\\x06rN\\x03\\x9f\\xf1Z\\x8dB\\xa7\\xe1I2\\x0cN\\xe4R\\xb9\\xd3@\\xc6i\\xa0\\x94\\xd3@\\xcei`\\xd0O\\x86B\\xa7a\\xaf\\xcfi\\x80~2T\\xee4\\x90q\\x1a(\\xe54\\x90s\\x1a\\x18\\xf4\\x93\\xa1\\xd0i\\xe8\\xfch\\x05q\\x86\\xa3r\\xa7\\x81\\x8c\\xd3@)\\xa7\\x81\\x9c\\xd3\\xc0\\xa0\\x9f\\x0c\\x85N\\xc3\\xae\\x9cA\\x87\\xd8\\x9b\\xca\\x9d\\x062N\\x03\\xa5\\x9c\\x06rN\\x03xcrQ\\xe84<\\'x\\xc0\\xd3\\xda\\x9b\\xca\\x9d\\x062N\\x03\\xa5\\x9c\\x06rN\\x03\\xc7\\xfb\\xfa.\\n\\x9d\\x86]\\xf9D\\\\ \\x95;\\rd\\x9c\\x06J9\\r\\xe4\\x9c\\x06\\x06]U(t\\x1av\\xe5\\r\\x08\\xc87\\x95;\\rd\\x9c\\x06J9\\r\\xe4\\x9c\\x06\\x06]U(t\\x1a\\x9e\\xf4\\xda\\xe31\\xf1\\xa6r\\xa7\\x81\\x8c\\xd3@)\\xa7\\x81\\x9c\\xd3\\x00v@\\\\\\x14:\\r\\xbbr^\\xe0\\xfd9\\x95;\\rd\\x9c\\x06J9\\r\\xe4\\x9c\\x06n\\xf1\\x8a\\x85B\\xa7\\xa1\\x7f\\xe9\\xf4\\xf1\\x13H*w\\x1a\\xc88\\r\\x94r\\x1a\\xc89\\r\\x0c\\xba\\xaaP\\xe84<+\\x16\\x01O\\x9d\\xa9\\xdci \\xe34P\\xcai \\xe740\\xe8\\xaaB\\xa1\\xd3\\xb0\\xe7s\\xe2x\\x07\\xddM\\xe5N\\x03\\x19\\xa7\\x81RN\\x039\\xa7\\x81AW\\x15\\n\\x9d\\x86g\\xcf\\xc4\\t\\x9eLP\\xb9\\xd3@\\xc6i\\xa0\\x94\\xd3@\\xcei`Bc;x\\x97\\xdaN NQ\\xb9\\xd3@\\xc6i\\xa0\\x94\\xd3@\\xcei\\xe0\\xd8\\x0c\\xbb(t\\x1a\\x9e\\xdcN\\xe0L\\x03\\x95;\\rd\\x9c\\x06J9\\r\\xe4\\x9c\\x06\\x06]U(t\\x1a\\xbe\\x9e:\\x83}2T\\xee4\\x90q\\x1a(\\xe54\\x90s\\x1a\\x18tU\\xa1\\xd0ix\\xba-\\x0c\\xa0\\x92P\\xb9\\xd3@\\xc6i\\xa0\\x94\\xd3@\\xcei\\x00\\xfd,/\\n\\x9d\\x86\\xe7\\xc9\\x04\\\\\\xa5\\x96;\\rd\\x9c\\x06J9\\r\\xe4\\x9c\\x06f0\\xb6\\x87N\\xc33\\xab\\x8dx\\xbf\\xe8M\\xe5N\\x03\\x19\\xa7\\x81RN\\x039\\xa7\\x81\\xe3\\xdd\\xea\\x17\\x85N\\xc3\\xae\\xbc\\x83\\x7f\\xab\\x9b\\xca\\x9d\\x062N\\x03\\xa5\\x9c\\x06rN\\x03\\x83\\xae*\\x14:\\r_\\x95\\xc7\\x16\\xddM\\xe5N\\x03\\x19\\xa7\\x81RN\\x039\\xa7\\x81AW\\x15\\n\\x9d\\x86\\xa7r\\xf4.\\x95\\xca\\x9d\\x062N\\x03\\xa5\\x9c\\x06rN\\x03\\x83\\xae*\\x14:\\rO\\x92!\\xd0=\\x89\\xca\\x9d\\x062N\\x03\\xa5\\x9c\\x06rN\\x03\\xc7\\xfb\\x00.\\n\\x9d\\x86\\'\\xbd\\x12\\xd8\\xd9O\\xe5N\\x03\\x19\\xa7\\x81RN\\x039\\xa7\\x81c!\\xef\\xa2\\xd0ix\\xfa\\xc94E\\x95\\x97g8\\xe34P\\xcai \\xe740\\xe8\\xaaB\\xa1\\xd3\\xf0<oo\\xf1\\t\\xb7\\x9b\\xca\\x9d\\x062N\\x03\\xa5\\x9c\\x06rN\\x03\\x83\\xae*\\x14:\\r\\xcf\\xee\\xcf\\x11?\\xbf\\xba\\xa9\\xdci \\xe34P\\xcai \\xe74\\x80\\xce_\\x17\\x85N\\xc3s\\x8e\\x05\\xbc\\x89\\xbb\\xa9\\xdci \\xe34P\\xcai \\xe74\\xb0\\x80\\xb1=t\\x1av\\xe5\\xf0t&\\x95;\\rd\\x9c\\x06J9\\r\\xe4\\x9c\\x06\\x16\\xb0V\\x0b\\x9d\\x86\\xae\\x07\\xc3\\xa7\\xce\\xe5N\\x03\\x19\\xa7\\x81RN\\x039\\xa7\\x81AW\\x15\\n\\x9d\\x86\\xa7\\xf2\\x8e\\x9eF\\x95;\\rd\\x9c\\x06J9\\r\\xe4\\x9c\\x06\\x06]U(t\\x1a\\x9e>\\x13\\x84f\\xb5r\\xa7\\x81\\x8c\\xd3@)\\xa7\\x81\\x9c\\xd3\\xc0\\xa0\\xab\\n\\x85N\\xc3s\\xf2~\\xc6\\x82\\xcbM\\xe5N\\x03\\x19\\xa7\\x81RN\\x039\\xa7\\x81\\xe3\\xb3\\x19\\x17\\x85NC\\x1f\\xc7\\\\\\xc0\\xd4\\xa3r\\xa7\\x81\\x8c\\xd3@)\\xa7\\x81\\x9c\\xd3\\xc0\\xb1\\xe3~Q\\xe84\\xf4yh\\x8b\\xdfM\\xdcT\\xee4\\x90q\\x1a(\\xe54\\x90s\\x1a\\x18tU\\xa1\\xd0i\\xd8\\x9f\\xf9\\xe8h}^\\xee4\\x90q\\x1a(\\xe54\\x90s\\x1a\\x80\\x9cuQ\\xe84<\\x95\\x9f\\xc0\\xc2\\xa6r\\xa7\\x81\\x8c\\xd3@)\\xa7\\x81\\x9c\\xd3\\xc0\\xa0\\xab\\n\\x85N\\xc3\\xfe\\xb6w\\x01\\x9dn\\xa9\\xdci \\xe34P\\xcai \\xe74p\\xdc\\xff\\xea\\xa2\\xd0ix~\\xe7\\x13=\\x93)w\\x1a\\xc88\\r\\x94r\\x1a\\xc89\\r\\xac`\\xad\\x16;\\rO\\x07Lp\"\\x97\\xca\\x9d\\x062N\\x03\\xa5\\x9c\\x06rN\\x03\\x83\\xae*\\x14;\\r\\xcf\\xd8\\x0e\\xdc%*w\\x1a\\xc88\\r\\x94r\\x1a\\xc89\\r\\x0c\\xba\\xaaP\\xec4<#\\x1c\\xcap\\xe5N\\x03\\x19\\xa7\\x81RN\\x039\\xa7\\x01\\xbc\\x13\\xbe(v\\x1a\\xe6\\xc1\\x0b\\xf8\\xe7T\\xee4\\x90q\\x1a(\\xe54\\x90s\\x1a\\xc0\\x9a\\xf3\\xa2\\xd8ix\\xdc%\\xb4g\\xa2\\xdci \\xe34P\\xcai \\xe74p\\xfc\\xdd\\xbd(t\\x1a\\xf4<\\xf6\\xcf\\x19\\xfd\\xce\\xcb3\\x9cq\\x1a(\\xe54\\x90s\\x1a\\x18tU\\xa1\\xd0i\\xd8\\x95\\xf7\\x13tI\\xa3r\\xa7\\x81\\x8c\\xd3@)\\xa7\\x81\\x9c\\xd3\\xc0\\xa0\\xab\\n\\x85N\\xc3S\\xf9\\x8c\\xf7\\x08\\xdfT\\xee4\\x90q\\x1a(\\xe54\\x90s\\x1a8~opQ\\xe84\\xa8\\xec\\xca\\xd1\\xce\\x81r\\xa7\\x81\\x8c\\xd3@)\\xa7\\x81\\x9c\\xd3\\xc0\\xf1i\\xf2\\x8bB\\xa7A\\x9fN:\\xa03\\x1e\\x95;\\rd\\x9c\\x06J9\\r\\xe4\\x9c\\x06\\x06\\'\\xef)t\\x1a\\xf49y\\x0fzyS\\xb9\\xd3@\\xc6i\\xa0\\x94\\xd3@\\xcei`p\\xf2\\x9eB\\xa7aW\\xbe\\xc0\\xb3\\x8c\\x9b\\xca\\x9d\\x062N\\x03\\xa5\\x9c\\x06rN\\x03p_/\\n\\x9d\\x86\\xe7\\xdb~\\xa2\\x13<\\xe5N\\x03\\x19\\xa7\\x81RN\\x039\\xa7\\x81\\xe3\\xae\\x8e\\x17\\x85N\\x83\\xea\\xb1&\\xda-R\\xee4\\x90q\\x1a(\\xe54\\x90s\\x1a\\x80\\x01zQ\\xe84\\xec\\xca{G\\xefX\\xca\\x9d\\x062N\\x03\\xa5\\x9c\\x06rN\\x03\\x83\\x93\\xf7\\x14:\\r\\xbas\\xfbDo\\x14\\xcb\\x9d\\x062N\\x03\\xa5\\x9c\\x06rN\\x03\\x83\\x93\\xf7\\x14:\\r\\xa3\\xed\\x15\\x0b8\\x85M\\xe5N\\x03\\x19\\xa7\\x81RN\\x039\\xa7\\x81\\xc1\\xc9{\\n\\x9d\\x86\\xfd\\x99\\x13\\xc5\\xa7\\x1ao*w\\x1a\\xc88\\r\\x94r\\x1a\\xc89\\r\\x1c[B\\x17\\x85N\\xc3\\x1e\\xdb\\x07\\xc8\\xbb7\\x95;\\rd\\x9c\\x06J9\\r\\xe4\\x9c\\x06^\\xe0\\xd9k\\xe84\\xe8z\\xf6\\xb7\\x83\\xdc^\\xee4\\x90q\\x1a(\\xe54|\\xbb\\xfa\\xbdr\\xb0>\\x0f\\x9d\\x86=\\xb6\\xcf\\x16\\x8f\\x0c\\xf7\\xb7;*+7\\x19.\\xe54\\x90s\\x1a\\x18\\x9c\\xbc\\xa7\\xd0i\\xd8\\xdf\\xf6s\\xa1\\xf4Z\\xee4\\x90q\\x1a(\\xe54\\x90s\\x1a\\x18\\x9c\\xbc\\xa7\\xd0i\\xd0G\\x96\\x8b\\xf7\\x91\\xddT\\xee4\\x90q\\x1a(\\xe54\\x90s\\x1a$>Y|Q\\xe84\\xec\\xca\\xd7Bo\\x1a\\xca\\x9d\\x062N\\x03\\xa5\\x9c\\x06rN\\x83\\xc4\\xef\\x84/\\n\\x9d\\x86\\xaf\\xf59\\xe8\\xb0A\\xe5N\\x03\\x19\\xa7\\x81RN\\x039\\xa7A\\xd0\\xc9\\xfb\\xd0i\\xd8#\\xdc9Awc*w\\x1a\\xc88\\r\\x94r\\x1a\\xc89\\r\\x82N\\xde\\x87N\\xc3\\xd7*\\x15\\x9d\\xd4+w\\x1a\\xc88\\r\\x94r\\x1a\\xc89\\r\\x82N\\xde\\x87N\\xc3\\xfe\\xcc\\xdb\\x8c\\xdf\\xb8\\xdfT\\xee4\\x90q\\x1a(\\xe54\\x90s\\x1a$>Y|Q\\xe84\\xecYM\\x1b\\x90\\xe5\\xa8\\xdci \\xe34P\\xcai \\xe74H\\x03k\\xb5\\xd0ix\\xd6j\\xa0\\xa3\\xdcM\\xe5N\\x03\\x19\\xa7\\x81RN\\x039\\xa7A\\xd0\\xc9\\xfb\\xd0i\\xd8\\x95\\xaf\\x19\\x8f\\x0c7\\x95;\\rd\\x9c\\x06J9\\r\\xe4\\x9c\\x06A\\'\\xefC\\xa7a\\x9c\\x87\\x8e\\xf8Y\\xc6M\\xe5N\\x03\\x19\\xa7\\x81RN\\x039\\xa7A\\xe2\\x13\\x87\\x17\\x85N\\xc3\\xae|\\x9c\\xe8Dn\\xb9\\xd3@\\xc6i\\xa0\\x94\\xd3@\\xcei\\x90\\xb8\\x87\\xe9E\\xa1\\xd3\\xf0\\xfc\\xce;\\xda\\x0fW\\xee4\\x90q\\x1a(\\xe54\\x90s\\x1a\\xa4\\x81\\xb5Z\\xe84\\xecYM\\x15\\xbdK-w\\x1a\\xc88\\r\\x94r\\x1a\\xc89\\r\\x82z\\x0e\\x84N\\xc3\\xfe\\xcce\\xa0=\\x13\\xe5N\\x03\\x19\\xa7\\x81RN\\x039\\xa7AP\\xcf\\x81\\xd0i\\xd8\\x9f9\\xc3\\xfd\\xed\\xe5N\\x03\\x19\\xa7\\x81RN\\x039\\xa7AP\\xcf\\x81\\xd0i\\xd0q(P\\xf8n*w\\x1a\\xc88\\r\\x94r\\x1a\\xc89\\r\\x82z\\x0e\\x84N\\xc3\\xfe\\xb6\\xf7\\x06\\xecL*w\\x1a\\xc88\\r\\x94r\\x1a\\xc89\\r\\x82N\\xde\\x87N\\xc3\\xae\\xbc\\xc1$S\\xee4\\x90q\\x1a(\\xe54\\x90s\\x1a\\x04\\x9d\\xbc\\x0f\\x9d\\x86\\xa7\\xf2\\x8e\\x9e:\\x97;\\rd\\x9c\\x06J9\\r\\xe4\\x9c\\x06A\\'\\xefC\\xa7\\xe1y\\xbbDh\\xc5R\\xee4\\x90q\\x1a(\\xe54\\x90s\\x1a\\x84\\xc1\\x08\\x17:\\r{\\x84k\\x03\\xed\\x16)w\\x1a\\xc88\\r\\x94r\\x1a\\xc89\\r\\xc2h\\x84\\x0b3\\\\\\xdf\\xf39P\\xc6\\xa8\\xdci \\xe34P\\xcai \\xe74\\x08:y\\x1f:\\r*\\x87\\x9c\\xf1\\xbf\\xd5M\\xe5N\\x03\\x19\\xa7\\x81RN\\x039\\xa7A\\xd0\\xc9\\xfb\\xd0i\\xd8\\x95\\xcf\\x13u\\xcc*w\\x1a\\xc88\\r\\x94r\\x1a\\xc89\\r\\x82N\\xde\\x87N\\x83>\\x9dt\\xd0\\xee\\xcfr\\xa7\\x81\\x8c\\xd3@)\\xa7\\x81\\x9c\\xd3\\x00v4^\\x14:\\rO\\xe5\\r\\x9d\\xe0)w\\x1a\\xc88\\r\\x94r\\x1a\\xc89\\r\\x82Na\\x87N\\x83\\xd2\\xa1\\'\\xe8\\xe5M\\xe5N\\x03\\x19\\xa7\\x81RN\\x039\\xa7A\\xd0)\\xec\\xd0i\\xd0v\\x8c\\x89\\xde(\\x96;\\rd\\x9c\\x06J9\\r\\xe4\\x9c\\x06\\x89;\\xf6^\\x14:\\r\\xbbr\\x1d\\xe8Dn\\xb9\\xd3@\\xc6i\\xa0\\x94\\xd3@\\xcei\\x90\\xb8\\xf3\\xd7E\\xa1\\xd3\\xb0\\xbf\\xed\\x82zyS\\xb9\\xd3@\\xc6i\\xa0\\x94\\xd3@\\xcei\\x10t\\n;t\\x1a\\x9e\\xca\\x17z&S\\xee4\\x90q\\x1a(\\xe54\\x90s\\x1a\\x04\\x9d\\xc2\\x0e\\x9d\\x86\\xfdm\\x97\\x16\\x9f\\xd5\\xbf\\xa9\\xdci \\xe34P\\xcai \\xe74\\x08:\\x85\\x1d:\\r\\xfa\\xd5\\xc5\\x1c<\\x93)w\\x1a\\xc88\\r\\x94r\\x1a\\xc89\\r\\x12?a\\xb9(t\\x1a\\x9e\\xb1]Q\\'\\x9dr\\xa7\\x81\\x8c\\xd3@)\\xa7\\x81\\x9c\\xd3 \\x1d\\xe4\\xf6\\xd0i\\xd0s\\xa7\\xd7X\\xe1\\xbb\\xa9\\xdci \\xe34P\\xcai \\xe74\\x08:\\x85\\x1d:\\r\\xbb\\xf2\\xd6\\xe21\\xf1\\xa6r\\xa7\\x81\\x8d\\xd3\\xc0)\\xa7\\x81\\x9d\\xd3 \\xe0\\x146\\x87N\\xc3\\xfe\\xb6\\x9f\\x03\\xbcE\\xe6r\\xa7\\x81\\x8d\\xd3\\xc0)\\xa7\\x81\\x9d\\xd3 \\xe0\\x146\\x87N\\xc3s\\x8eE\\xe3\\x1dt7\\x97;\\rl\\x9c\\x06N9\\r\\xec\\x9c\\x06\\xe9\\xf1\\xd8\\xce\\xb1\\xd3\\xb0\\x8e\\x01v\\xd0\\xdd\\\\\\xee4\\xb0q\\x1a8\\xe54\\xb0s\\x1a\\xa4\\xc7k5\\x0e\\x9d\\x86\\xfd\\x99\\xcb\\x02B\\x05\\x97;\\rl\\x9c\\x06N9\\r\\xec\\x9c\\x06\\x01\\xa7\\xb09t\\x1av\\xe5|\\x82S\\xd8\\\\\\xee4\\xb0q\\x1a8\\xe54\\xb0s\\x1a\\x04\\x9c\\xc2\\xe6\\xd0ix*g\\xd0\\xe3\\x97\\xcb\\x9d\\x066N\\x03\\xa7\\x9c\\x06vN\\x83\\x80S\\xd8\\x1c;\\r\\xeb\\xf1\\xd5\\xe2\\xa7\\xce\\\\\\xee4\\xb0q\\x1a8\\xe54\\xb0s\\x1a$~\\xcepq\\xe84\\xe8\\xa3\\x8c\\x81\\xe7\\xed\\\\\\xee4\\xb0q\\x1a8\\xe54\\xb0s\\x1a\\xc0\\x9e\\xed\\x8bC\\xa7a\\xaf\\xd5x\\xc0\\xca\\xab3\\x1c\\x1b\\xa7\\x81SN\\x03;\\xa7A\\xc0)l\\x0e\\x9d\\x86]\\xf9\\x89\\xce\\xa5r\\xb9\\xd3\\xc0\\xc6i\\xe0\\x94\\xd3\\xc0\\xcei\\x10p\\n\\x9bC\\xa7\\xe1Y\\x9f\\x83?\\xfb\\xe6r\\xa7\\x81\\x8d\\xd3\\xc0)\\xa7\\x81\\x9d\\xd3 \\xe0\\x146\\x87N\\xc3\\xfe\\x9d\\xaf\\x06\\xbcT.w\\x1a\\xd88\\r\\x9cr\\x1a\\xd89\\r2\\xc0\\xd8\\x1e:\\r\\xcf\\xb7}\\xc4\\xab\\xbb\\x9b\\xcb\\x9d\\x066N\\x03\\xa7\\x9c\\x06vN\\x83\\x8cx\\xad\\xc6\\xa1\\xd3\\xb0?sF=~\\xb9\\xdci`\\xe34p\\xcai`\\xe74H\\\\\\xc7\\xc5\\xa1\\xd3\\xf0t[@\\x8e\"\\x97;\\rl\\x9c\\x06N9\\r\\xec\\x9c\\x06\\x19`>\\x0f\\x9d\\x86\\xe7\\xc9\\xc4\\x02;\\x84\\xb8\\xdci`\\xe34p\\xcai`\\xe74H\\xdc\\x87\\xfe\\xe2\\xd0ixV,@L\\xbf\\xb9\\xdci`\\xe34p\\xcai`\\xe74H,g]\\x1c:\\r\\xca\\xc7\\xc9@\\xa8\\xe0r\\xa7\\x81\\x8d\\xd3\\xc0)\\xa7\\x81\\x9d\\xd3 \\xf1\\xd9\\x8c\\x8bC\\xa7\\xe1y\\x1a5\\xe3\\xbej7\\x97;\\rl\\x9c\\x06N9\\r\\xec\\x9c\\x06\\x01\\x1d68t\\x1av\\xe5z\\x82\\xbd\\xce\\\\\\xee4\\xb0q\\x1a8\\xe54\\xb0s\\x1a\\x04t\\xd8\\xe0\\xd8iX\\x07\\r\\xb0\\xe3\\x97\\xcb\\x9d\\x066N\\x03\\xa7\\x9c\\x06vN\\x83\\x80\\x0e\\x1b\\x1c;\\r\\xebX\\xe0\\x14\\xc4\\xcd\\xe5N\\x03\\x1b\\xa7\\x81SN\\x03;\\xa7Ab\\x15\\xf1\\xe2\\xd8i\\xd8\\x95s<\\x0f\\xde\\\\\\xee4\\xb0q\\x1a8\\xe54\\xb0s\\x1a$>\\x95rq\\xec4\\xec\\xca;\\xe8\\x1b\\xc5\\xe5N\\x03\\x1b\\xa7\\x81SN\\x03;\\xa7A@\\x87\\r\\x8e\\x9d\\x86y\\xa8\\x80s\\xa9\\\\\\xee4\\xb0q\\x1a8\\xe54\\xb0s\\x1a\\x04t\\xd8\\xe0\\xd0ixf\\xb5\\x05\\xfa\\xc9p\\xb9\\xd3\\xc0\\xc6i\\xe0\\x94\\xd3\\xc0\\xcei\\x10\\xd0a\\x83C\\xa7aW\\x0eOas\\xb9\\xd3\\xc0\\xc6i\\xe0\\x94\\xd3\\xc0\\xcei\\x10\\xd0m\\x81C\\xa7a\\xaf\\xd5&\\xea\\xb6\\xc0\\xe5N\\x03\\x1b\\xa7\\x81SN\\x03;\\xa7A@\\xb7\\x05\\x0e\\x9d\\x86g\\x95:A\\x8f_.w\\x1a\\xd88\\r\\x9cr\\x1a\\xd89\\r\\x02\\xba-p\\xe84<\\x9f9\\xea!\\xc4\\xe5N\\x03\\x1b\\xa7\\x81SN\\x03;\\xa7\\x01\\xecV\\xbf8t\\x1a\\xbeV\\xa9\\xc0E\\xe6r\\xa7\\x81\\x8d\\xd3\\xc0)\\xa7\\x81\\x9d\\xd3\\xd0A\\xcf\\x01\\x0e\\x9d\\x86]\\xf9\\x1a@\\xa2\\xe1r\\xa7\\x81\\x8d\\xd3\\xc0)\\xa7\\x81\\x9d\\xd3\\x00\\xce\\xdd]\\x1c;\\r\\xebP /\\xde\\\\\\xee4\\xb0q\\x1a8\\xe54\\xb0s\\x1a@\\xff\\xab\\x8bc\\xa7aW\\xbe\\x80\\xbb\\xc4\\xe5N\\x03\\x1b\\xa7\\x81SN\\x03;\\xa7\\x01(\\xc7\\x17\\xc7N\\xc3:\\xc6\\x89\\xde\\x9f\\x97;\\rl\\x9c\\x06N9\\r\\xec\\x9c\\x86\\x0e\\xe4w\\x8e\\x9d\\x86\\xb9\\xd7j(\\xbd\\x96;\\rl\\x9c\\x06N9\\r\\xec\\x9c\\x86\\x0ez\\x0ep\\xec4,,Bs\\xb9\\xd3\\xc0\\xc6i\\xe0\\x94\\xd3\\xc0\\xcei\\xe8\\xa0\\xe7\\x00\\x87N\\xc3\\x93^\\'\\xca\\xed\\xe5N\\x03\\x1b\\xa7\\x81SN\\x03;\\xa7\\x01tc\\xbf8t\\x1a\\x9e\\x15\\xcb\\x00\\xe7\\xcf\\xb9\\xdci`\\xe34p\\xcai`\\xe74t`\\xdes\\xe84\\xec\\x0c\\xd7@\\xde\\xbd\\xb9\\xdci`\\xe34p\\xcai`\\xe74t`\\xdes\\xe84\\xec\\xca\\xa9\\xa1\\xf4Z\\xee4\\xb0q\\x1a8\\xe54\\xb0s\\x1a:\\xe89\\xc0\\xb1\\xd3\\xb0\\x8ey.\\xf0m/w\\x1a\\xd88\\r\\x9cr\\x1a\\xd89\\r\\x1d\\xf4\\x1c\\xe0\\xd8iX\\x07)\\xda3Q\\xee4\\xb0q\\x1a8\\xe54\\xb0s\\x1a:\\xe89\\xc0\\xa1\\xd3\\xf05\\xc2\\xa1\\xf5y\\xb9\\xd3\\xc0\\xc6i\\xe0\\x94\\xd3\\xc0\\xcei\\xe8\\xe0\\xfc9\\xc7N\\xc3:\\xe4\\x04\\x1d\\xb3\\xb8\\xdci`\\xe34p\\xcai`\\xe74t`\\xdes\\xec4\\xec\\xca\\x19\\xb8K\\\\\\xee4\\xb0q\\x1a8\\xe54\\xb0s\\x1az|*\\xe5\\xe2\\xd0ixv\\xfc\\x82y\\xf0\\xe6r\\xa7\\x81\\x8d\\xd3\\xc0)\\xa7\\x81\\x9d\\xd3\\xd0\\t\\xcc\\xe7\\xb1\\xd3\\xb0g5EO&\\xca\\x9d\\x066N\\x03\\xa7\\x9c\\x06vNC\\x07\\xdd\\x168v\\x1a\\xbeN\\xf0\\xa0\\xca\\xcb3\\x9cq\\x1a8\\xe54\\xb0s\\x1a:0\\xef9v\\x1av\\xe5\\x1d\\x9cW\\xe3r\\xa7\\x81\\x8d\\xd3\\xc0)\\xa7\\x81\\x9d\\xd3\\xd0\\x81y\\xcf\\xb1\\xd3p\\x1e2@\\xa7[.w\\x1a\\xd88\\r\\x9cr\\x1a\\xd89\\r\\x1dt[\\xe0\\xd8i\\xd8\\x95\\x83S\\x107\\x97;\\rl\\x9c\\x06N9\\r\\xec\\x9c\\x86\\x0e\\xba-p\\xe84<o\\x14\\t\\xbd?/w\\x1a\\xd88\\r\\x9cr\\x1a\\xd89\\r\\xc0\\x06\\xbc8v\\x1a\\xf6g\\xaehoT\\xb9\\xd3\\xc0\\xc6i\\xe0\\x94\\xd3\\xc0\\xcei\\xe8@~\\xe7\\xd8i\\xa0\\x9d\\xe1P\\x92)w\\x1a\\xd88\\r\\x9cr\\x1a\\xd89\\r=\\xeeC\\x7fq\\xec4\\xb4c\\xc1\\x9d\\x80\\xe5N\\x03\\x1b\\xa7\\x81SN\\x03;\\xa7\\x01\\xccQ\\x17\\xc7N\\x03\\x1f4\\xe31\\xf1\\xe6r\\xa7\\x81\\x8d\\xd3\\xc0)\\xa7\\x81\\x9d\\xd3\\x00v@\\\\\\x1c;\\rt\\x8c\\x01\\x0c\\x1e.w\\x1a\\xd88\\r\\x9cr\\x1a\\xd89\\r\\x1d\\xc8\\xef\\x1c:\\r\\xcf\\xbb\\xd4\\x13\\x9dc)w\\x1a\\xd88\\r\\x9cr\\x1a\\xd89\\r\\x1d\\xc8\\xef\\x1c;\\r;\\xc3\\xad\\xf8\\xb4\\xd3\\xcd\\xe5N\\x03\\x1b\\xa7\\x81SN\\x03;\\xa7\\xa1\\x83>\\x13\\x1c;\\r\\xed8O4\\xc2\\x95;\\rl\\x9c\\x06N9\\r\\xec\\x9c\\x86\\x0e\\xfaLp\\xec4\\xb4\\xbdJ\\x05=\\x07\\xb8\\xdci`\\xe34p\\xcai\\xf8v\\xf5{\\xe5`>\\x8f\\x9d\\x06>\\x14\\xec\\x11\\xbe\\xbf\\xddQY\\xb9\\xc9p)\\xa7\\x81\\x9d\\xd3\\xd0\\x81\\xfc\\xce\\xb1\\xd3\\xc0\\x8f\\x14\\x8b*/\\xcfp\\xc6i\\xe0\\x94\\xd3\\xc0\\xcei\\xe8@~\\xe7\\xd8i\\xe0\\x83G\\xdc{\\xe7\\xe6r\\xa7\\x81\\x8d\\xd3\\xc0)\\xa7\\x81\\x9d\\xd3\\xd0A\\x9f\\tFN\\xc3^\\xa4\\x82\\xf5y\\xb9\\xd3\\xc0\\xc6i\\xe0\\x94\\xd3\\xc0\\xcei\\xe8\\xa0\\xcf\\x04\\xc7N\\xc3s^\\r\\x9di(w\\x1a\\xd88\\r\\x9cr\\x1a\\xd89\\r\\x1d\\xf4\\x99\\xe0\\xd8ixNg\\xa2\\xf4Z\\xee4\\xb0q\\x1a8\\xe54\\xb0s\\x1a:\\x90\\xdf9v\\x1ah\\xcf\\xe7\\x03\\xfd\\xce\\xcb3\\x9cq\\x1a8\\xe54\\xb0s\\x1a:\\x90\\xdf9v\\x1a\\xf8h+\\xde5ys\\xb9\\xd3\\xc0\\xc6i\\xe0\\x94\\xd3\\xc0\\xcei\\xe8\\xa8\\xcfD\\xec4\\xc8qv\\xf4\\x99\\x97;\\rl\\x9c\\x06N9\\r\\xec\\x9c\\x86\\x8e\\xfaL\\xc4N\\x03\\xef\\x11\\x0e\\x18<\\\\\\xee4\\xb0q\\x1a8\\xe54\\xb0s\\x1a:\\xea3\\x11;\\r|\\xec\\xe59x\\x7f^\\xee4\\xb0q\\x1a8\\xe54\\xb0s\\x1a:\\x90\\xdf9t\\x1a\\x1ewI\\xe33?7\\x97;\\rl\\x9c\\x06N9\\r\\xec\\x9c\\x86\\x0e\\xe4w\\x0e\\x9d\\x86\\xe7i\\x14\\xea\\xdf\\xce\\xe5N\\x03\\x1b\\xa7\\x81SN\\x03;\\xa7\\xa1\\xa3>\\x13\\xb1\\xd3\\xf0\\xbcW\\x8b\\xf7\\x1a\\xdc\\\\\\xee4\\xb0q\\x1a8\\xe54\\xb0s\\x1a:\\xea3\\x11;\\r\\xe7A->\\xb1~s\\xb9\\xd3\\xc0\\xc6i\\xe0\\x94\\xd3\\xc0\\xcei\\xe8\\xa8\\xcfD\\xe84<\\xfb^\\xc1\\xbb\\x89\\x9b\\xcb\\x9d\\x066N\\x03\\xa7\\x9c\\x06vNC\\x07\\xf2;\\x87N\\xc3\\xb3\\xef\\x15\\x9cp\\xbb\\xb9\\xdci`\\xe34p\\xcai`\\xe74\\x80\\\\rq\\xe84<\\xbb?g\\xdc\\xa5\\xe0\\xe6r\\xa7\\x81\\x8d\\xd3\\xc0)\\xa7\\x81\\x9d\\xd3\\xd0Q\\x9f\\x89\\xd0i\\xd8\\x95\\xf7\\x11\\xe7\\xdd\\x9b\\xcb\\x9d\\x066N\\x03\\xa7\\x9c\\x06vNCG}&B\\xa7\\xe1\\xf9\\x9dOt:\\xb3\\xdci`\\xe34p\\xcai`\\xe74t\\xd4g\"v\\x1a\\xcec\\x81\\xf3\\x9c7\\x97;\\rl\\x9c\\x06N9\\r\\xec\\x9c\\x86>\\xc0\\xd8\\x1e;\\r\\xed9\\xa9\\x87*/\\xcfp\\xc6i\\xe0\\x94\\xd3\\xc0\\xcei\\xe8q\\'\\xcf\\x8bc\\xa7a\\xafR\\t=u.w\\x1a\\xd88\\r\\x9cr\\x1a\\xd89\\r\\x1d\\xf5\\x99\\x88\\x9d\\x06:zC\\x19\\xae\\xdci`\\xe34p\\xcai`\\xe74t\\xd4g\"v\\x1a\\xf6g\\xde\\xe2n$7\\x97;\\rl\\x9c\\x06N9\\r\\xec\\x9c\\x86\\x8e\\xfaL \\xa7\\xa1/\\xd0\\xdd\\x98\\xcb\\x9d\\x066N\\x03\\xa7\\x9c\\x06vNC\\x8f\\x9f\\xa4^\\x8c\\x9c\\x06A\\xa6\\x1e\\x97;\\rl\\x9c\\x06N9\\r\\xec\\x9c\\x86>\\xc1Z-v\\x1a\\xfa1;\\x9c\\xcf\\xcb3\\x9cq\\x1a8\\xe54\\xb0s\\x1a:\\xea3\\x11;\\rz\\x9cg\\xfc\\x14\\xe7\\xe6r\\xa7\\x81\\x8d\\xd3\\xc0)\\xa7\\x81\\x9d\\xd3\\xd0Q\\x9f\\x89\\xd8i\\xe8\\x87,t^\\xad\\xdci`\\xe34p\\xcai`\\xe74t\\xd4g\"v\\x1a\\xe4\\x98\\xb0\\xc7o\\xb9\\xd3\\xc0\\xc6i\\xe0\\x94\\xd3\\xc0\\xcei\\xe8\\xb1\\xb4qq\\xec4\\xf0\\xa1\\r\\x08\\x15\\\\\\xee4\\xb0q\\x1a8\\xe54\\xb0s\\x1az\\xbc\\xeb\\xe5\\xe2\\xd8i\\xe0\\x83O\\xb4\\xef\\xb5\\xdci`\\xe34p\\xcai`\\xe74\\xf4\\xf8$\\xd2\\xc5\\xb1\\xd3\\xc0\\xc7jh\\x95Z\\xee4\\xb0q\\x1a8\\xe54\\xb0s\\x1az\\xdc)\\xe4\\xe2\\xd8i\\x90\\x9d\\xdba\\xe5\\xe5\\x19\\xce8\\r\\x9cr\\x1a\\xd89\\r\\x1d\\xf5\\x16\\x89\\x9d\\x06>\\xce\\x0e|5.w\\x1a\\xd88\\r\\x9cr\\x1a\\xd89\\r}\\xa1\\xb1=\\xccp|\\xf43~\\x1fus\\xb9\\xd3\\xc0\\xc6i\\xe0\\x94\\xd3\\xc0\\xcei\\xe8\\xb1\\xb4qq\\xec4\\xf01@\\xcf\\xcc\\x9b\\xcb\\x9d\\x061N\\x83\\xa4\\x9c\\x06qN\\x83\\xc6W^\\x12;\\r\\xcfg\\x0e\\xce(J\\xb9\\xd3 \\xc6i\\x90\\x94\\xd3 \\xceiP\\xd0UEb\\xa7\\x81\\x0f\\x99`\\xb7\\x88\\x94;\\rb\\x9c\\x06I9\\r\\xe2\\x9c\\x06\\x05]U$t\\x1a\\x9ew\\xa9-\\xf6\\x8an)w\\x1a\\xc48\\r\\x92r\\x1a\\xc49\\r\\x1a\\x8b\\xb7\\x97\\xc4N\\xc3\\xf3;\\x07\\x1d0\\xa5\\xdci\\x10\\xe34H\\xcai\\x10\\xe74h\\xdc\\x93\\xfc\\x92\\xd8i\\x90C\\xd1[d)w\\x1a\\xc48\\r\\x92r\\x1a\\xc49\\r\\n\\xba\\xaaH\\xec4\\xec\\xca\\'8\\x9d)\\xe5N\\x83\\x18\\xa7ARN\\x838\\xa7AAW\\x15\\t\\x9d\\x86]\\xf9 \\xa0\\tJ\\xb9\\xd3 \\xc6i\\x90\\x94\\xd3 \\xceiP\\xd0UEb\\xa7A\\x0e\\xe9\\r}\\xdb\\xab3\\x9c\\x18\\xa7ARN\\x838\\xa7A\\xe3:.\\x89\\x9d\\x86\\xbdJ\\x1d`\\x9f\\x8c\\x94;\\rb\\x9c\\x06I9\\r\\xe2\\x9c\\x06\\x8d\\xbb4_\\x12;\\r{\\x95\\xba@\\xe7z)w\\x1a\\xc48\\r\\x92r\\x1a\\xc49\\r\\n\\xba\\xaaH\\xec4\\xf0A-V\\xf8n)w\\x1a\\xc48\\r\\x92r\\x1a\\xc49\\r\\n\\xba\\xaaH\\xec4\\xd0\\xb1V\\xbc;\\xfa\\x96r\\xa7A\\x8c\\xd3 )\\xa7A\\x9c\\xd3\\xa0\\xa0\\xab\\x8a\\xc4N\\xc3\\xce\\xed\\xe0\\xdd\\xc4-\\xe5N\\x83\\x18\\xa7ARN\\x838\\xa7A\\xe3\\x13\\n\\x97\\xc4N\\x03\\x1d\\xda\\x81J\"\\xe5N\\x83\\x18\\xa7ARN\\x838\\xa7A\\t\\xac\\xd5b\\xa7\\x81\\x8e\\xc1@%\\x91r\\xa7A\\x8c\\xd3 )\\xa7A\\x9c\\xd3\\xa0\\xa0\\xab\\x8a\\xc4N\\xc3\\x1e\\xdbA_\\xb5[\\xca\\x9d\\x061N\\x83\\xa4\\x9c\\x06qN\\x03\\xe8\\x08tI\\xec4\\xf0q\\xa2g2R\\xee4\\x88q\\x1a$\\xe54\\x88s\\x1a\\x14tU\\x91\\xd8ix\\xce\\xb1\\xa0\\xf9\\xbc\\xdci\\x10\\xe34H\\xcai\\x10\\xe74(\\xa1\\xb1\\x1df8\\xf4L\\xa6\\xdci\\x10\\xe34H\\xcai\\x10\\xe74h\\xdc\\xf3\\xec\\x92\\xd8i\\xd8\\x9538\\x97*\\xe5N\\x83\\x18\\xa7ARN\\x838\\xa7AAW\\x15\\t\\x9d\\x86\\'\\xc9\\x08\\xd0\\x81\\xa5\\xdci\\x10\\xe34H\\xcai\\x10\\xe74(\\xe8\\xaa\"\\xa1\\xd3\\xf0|\\xe6+\\xce>\\xb7\\x94;\\rb\\x9c\\x06I9\\r\\xe2\\x9c\\x06\\x05]U$t\\x1a~z\\xea\\x0c\\xd6j\\xe5N\\x83\\x18\\xa7ARN\\x838\\xa7A\\xe37&\\x97\\x84N\\xc3S\\xf9\\x88\\xc7\\xc4[\\xca\\x9d\\x061N\\x83\\xa4\\x9c\\x06qN\\x03\\xd0\\xcc/\\t\\x9d\\x86\\xe7\\xdb\\x8e\\xde.I\\xb9\\xd3 \\xc6i\\x90\\x94\\xd3 \\xceiP\\x06k\\xb5\\xd8i`\\xdcmA\\xca\\x9d\\x061N\\x83\\xa4\\x9c\\x06qN\\x83\\x82~2\\x12;\\r\\xbb\\xf2\\x89\\xe6\\xf3r\\xa7A\\x8c\\xd3 )\\xa7A\\x9c\\xd3\\xa0\\xa0\\x9f\\x8c\\xc4N\\xc3\\xf3\\x99\\xc7\\xcf,o)w\\x1a\\xc48\\r\\x92r\\x1a\\xc49\\r*hl\\x07\\x19n\\xa0\\x13<R\\xee4\\x88q\\x1a$\\xe54\\x88s\\x1a4>G\\x7fI\\xec4\\xf0A+>\\xedtK\\xb9\\xd3 \\xc6i\\x90\\x94\\xd3 \\xceiP\\xd0OFb\\xa7\\xe1y\\xa3\\x08\\xf6:K\\xb9\\xd3 \\xc6i\\x90\\x94\\xd3 \\xceiP\\xd0OFb\\xa7\\x81\\x0e\\x12pvI\\xca\\x9d\\x061N\\x83\\xa4\\x9c\\x06qN\\x83\\x82~2\\x12:\\r_\\xcfd\\xc0\\t\\x1e)w\\x1a\\xc48\\r\\x92r\\x1a\\xc49\\r\\x1a\\xbf\\x13\\xbe$t\\x1a\\xb4\\xed\\xdc\\x0e\\xfa:K\\xb9\\xd3 \\xc6i\\x90\\x94\\xd3 \\xcei\\xd0\\xf8\\xe9\\xf9%\\xa1\\xd3\\xf0\\xd5C\\x08\\xa8$R\\xee4\\x88q\\x1a$\\xe54\\x88s\\x1a\\x14\\xf4\\x93\\x91\\xd0i\\xd0\\xf3\\xe9\\'\\x03\\x92L\\xb9\\xd3 \\xc6i\\x90\\x94\\xd3 \\xceiP\\xd0OFB\\xa7\\xe19\\x97J\\xc0i\\x90r\\xa7A\\x8c\\xd3 )\\xa7A\\x9c\\xd3\\xa0\\xa0\\x9f\\x8c@\\xa7\\xe1\\x8c\\xcf\\xfc\\xdcR\\xee4\\x88q\\x1a$\\xe54\\x88s\\x1a\\xb4\\xa3\\xb1\\x1d8\\r\\xd2A\\'\\x1d)w\\x1a\\xc48\\r\\x92r\\x1a\\xc49\\r\\x1awo\\xbd$t\\x1a\\x9e\\x9e\\xfd\\x0b\\x9ci\\x90r\\xa7A\\x8c\\xd3 )\\xa7A\\x9c\\xd3\\xa0\\xa0\\x9f\\x8c\\xc4N\\xc3\\xfe\\xcc\\x17\\xe8\\xb0!\\xe5N\\x83\\x18\\xa7ARN\\x838\\xa7AA?\\x19\\t\\x9d\\x86\\xe7t\\xa6\\x82\\xd3\\x99R\\xee4\\x88q\\x1a$\\xe54\\x88s\\x1a\\x14\\xf4\\x93\\x91\\xd0ix>s\\x8ew\\xca\\xdeR\\xee4\\x88q\\x1a$\\xe54\\x88s\\x1a4~z~\\tr\\x1a\\xb4\\xa1\\x15K\\xb9\\xd3 \\xc6i\\x90\\x94\\xd3 \\xceiP\\x05k\\xb5\\xd0i\\xf8il\\x07O \\xcb\\x9d\\x061N\\x83\\xa4\\x9c\\x06qN\\x83\\x82~2\\x12:\\r_#\\\\\\xfc,\\xe3\\x96r\\xa7A\\x8c\\xd3 )\\xa7A\\x9c\\xd3\\xa0\\xa0\\x9f\\x8c \\xa7\\xa1\\xc1\\x1dB\\xe5N\\x83\\x18\\xa7ARN\\x838\\xa7AA?\\x19\\x89\\x9d\\x86]\\xb9\\x80s\\xa9R\\xee4\\x88q\\x1a$\\xe54\\x88s\\x1a@o\\xc3KB\\xa7\\xe1+\\xc9\\x803\\x8aR\\xee4\\x88q\\x1a$\\xe54\\x88s\\x1aT\\xc1Z-t\\x1a\\x1e\\x8f\\xa5\\xc1\\xf9\\xbc<\\xc3\\x19\\xa7ARN\\x838\\xa7AA?\\x19\\t\\x9d\\x86\\xaf~2\\xe8\\x8db\\xb9\\xd3 \\xc6i\\x90\\x94\\xd3 \\xceiP\\xd0OF\\x90\\xd3@=\\xd6\\xb3o)w\\x1a\\xc48\\r\\x92r\\x1a\\xc49\\r\\n\\xfa\\xc9\\x08r\\x1a\\x86\\x80^aR\\xee4\\x88q\\x1a$\\xe54\\x88s\\x1a4^y]\\x82\\x9c\\x06\"\\xd0\\rQ\\xca\\x9d\\x061N\\x83\\xa4\\x9c\\x06qN\\x83\\xc6]#.\\x89\\x9d\\x86gV\\x8b\\x9f\\xd0\\xdfR\\xee4\\x88q\\x1a$\\xe54\\x88s\\x1a\\x14\\xf4\\x93\\x11\\xe44\\x90\\xc4\\xcf2n)w\\x1a\\xc48\\r\\x92r\\x1a\\xc49\\r\\n\\xfa\\xc9H\\xec4\\xb4c0:\\xc1S\\xee4\\x88q\\x1a$\\xe54\\x88s\\x1a\\xc0y\\x9cKb\\xa7\\xa1\\x1d\\xad\\xa3\\xdd\\x9f\\xe5N\\x83\\x18\\xa7ARN\\x838\\xa7A\\xe3:.AN\\xc3I\\xb1iqK\\xb9\\xd3 \\xc6i\\x90\\x94\\xd3 \\xceiP\\xd0UE\\x90\\xd30\\x07PC\\xa5\\xdci\\x10\\xe34H\\xcai\\x10\\xe74(\\xe8\\xaa\"\\xa1\\xd3\\xf0\\xb8K\\x82\\xf6\\xb7\\x97;\\rb\\x9c\\x06I9\\r\\xe2\\x9c\\x06 \\xe4]\\x82\\x9c\\x86\\xc6(\\xb7\\x97;\\rb\\x9c\\x06I9\\r\\xdf\\xae~\\xaf\\x1c\\xacXb\\xa7aW~\\xc6{\\x84\\xefowTVn2\\\\\\xcai\\x10\\xe74h\\xfc\\x0c\\xf9\\x92\\xd8i8\\x9f\\x93z\\xe0\\td\\xb9\\xd3 \\xc6i\\x90\\x94\\xd3 \\xceiP\\xd0UEB\\xa7\\xe1\\x91\\xdfA\\xe7\\xc8[\\xca\\x9d\\x061N\\x83\\xa4\\x9c\\x06qN\\x83\\x82\\xae*\\x12:\\rO\\x1f\\xc8\\x16\\xef\\x11\\xbe\\xa5\\xdci\\x10\\xe34H\\xcai\\x10\\xe74(\\xe8\\xaa\"\\xa1\\xd3\\xb0?\\xf31\\xd1\\xc9\\xfbr\\xa7A\\x8c\\xd3 )\\xa7A\\x9c\\xd3\\xa0\\xb1f~I\\xe84\\xec\\xca\\xcf\\x81v\\x85\\x95;\\rb\\x9c\\x06I9\\r\\xe2\\x9c\\x06\\x8d\\xbb@]\\x12:\\r}<\\xefX\\xd0|^\\x9e\\xe1\\x8c\\xd3 )\\xa7A\\x9c\\xd3\\xa0\\xa0\\xab\\x8a\\x84N\\xc3\\xae\\\\9~rwK\\xb9\\xd3 \\xc6i\\x90\\x94\\xd3 \\xceiP\\xd0UEB\\xa7\\xa1\\xeb\\xb1P\\x974)w\\x1a\\xc48\\r\\x92r\\x1a\\xc49\\r\\x03uU\\t\\x9d\\x86\\xfd\\x993<\\xa9W\\xee4\\x88q\\x1a$\\xe54\\x88s\\x1aF\\xac\\x9f^\\x12:\\r\\xcf\\x08\\x07;l\\x94;\\rb\\x9c\\x06I9\\r\\xe2\\x9c\\x86\\x11?O\\xbc$t\\x1a\\xf6g>\\xe1\\xf3\\xf6r\\xa7A\\x8c\\xd3 )\\xa7A\\x9c\\xd30PW\\x95\\xd0ix*\\x1fhWX\\xb9\\xd3 \\xc6i\\x90\\x94\\xd3 \\xcei\\x18\\xa8\\xabJ\\xe84\\xf4\\xbes{\\xbc\\xd7\\xe0\\x96r\\xa7A\\x8c\\xd3 )\\xa7A\\x9c\\xd3\\x00\\xbaF\\\\\\x12:\\r{l\\xa7\\x85\\x92L\\xb9\\xd3 \\xc6i\\x90\\x94\\xd3 \\xcei\\x18\\r\\x8d\\xeda\\x86\\xd3\\xe3$\\xb4J-w\\x1a\\xc48\\r\\x92r\\x1a\\xc49\\r\\xa3\\x81\\xb5Z\\xec4\\xec\\xca\\'\\xda\\xd9_\\xee4\\x88q\\x1a$\\xe54\\x88s\\x1a\\xc0xuI\\xec4\\xf4c\\t\\x81\\x15K\\xb9\\xd3 \\xc6i\\x90\\x94\\xd3 \\xcei\\x18\\xa8\\xabJ\\xec4\\xf4cJ<\\x1b\\xdcR\\xee4\\x88q\\x1a$\\xe54\\x88s\\x1a\\x06\\xea\\xaa\\x12;\\r}\\x8fph\\x95Z\\xee4\\x88q\\x1a$\\xe54\\x88s\\x1a\\xc0\\x9a\\xf3\\x92\\xd0i\\xe8\\xfc\\xfc\\xceA\\x86+w\\x1a\\xc48\\r\\x92r\\x1a\\xc49\\r#\\xde\\xa7\\x7fI\\xe84t:\\x16p\\xc3o)w\\x1a\\xc48\\r\\x92r\\x1a\\xc49\\r\\x03uU\\t\\x9d\\x86]\\xf9lqO\\x8e[\\xca\\x9d\\x061N\\x83\\xa4\\x9c\\x06qN\\xc3@]UB\\xa7aW\\xce-\\xee\\x81}K\\xb9\\xd3 \\xc6i\\x90\\x94\\xd3 \\xcei\\x18\\xa8\\xabJ\\xe84\\xec\\xca\\xe9\\x8cg\\x83[\\xca\\x9d\\x061N\\x83\\xa4\\x9c\\x06qN\\xc3\\x88g\\xe7KB\\xa7\\xa1\\x7f\\xf5\\x10Bc{y\\x863N\\x83\\xa4\\x9c\\x06qN\\xc3^\\x80\\x80\\xca\\xc3\\x0c\\xb7\\xbf\\xed\\'\\xea\\x86X\\xee4\\x88q\\x1a$\\xe54\\x88s\\x1a@\\x07\\x81KB\\xa7\\xa1\\xb7\\xe7M\\x03\\xd8\\tX\\xee4\\x88q\\x1a$\\xe54\\x88s\\x1a\\xc0;\\xe1KB\\xa7aW>\\x08\\x9d?/w\\x1a\\xc48\\r\\x92r\\x1a\\xc49\\r\\x03uU\\t\\x9d\\x86]\\xf9<\\x81\\x91+\\xe5N\\x83\\x18\\xa7ARN\\x838\\xa7a\\xc4\\xe7k/\\t\\x9d\\x86\\xfe\\xe5\"\\x83\\xb1\\xbd\\xdci\\x10\\xe34H\\xcai\\x10\\xe74\\x0c\\x06k\\xb5\\xd0ix~\\xe7\\xc8]\\x92r\\xa7A\\x8c\\xd3 )\\xa7A\\x9c\\xd30PW\\x95\\xd0i\\xd8\\x95\\xf7\\x05\\xcc{)w\\x1a\\xc48\\r\\x92r\\x1a\\xc49\\r\\x03uU\\t\\x9d\\x86g\\x84\\xeb\\xe8\\x1cK\\xb9\\xd3 \\xc6i\\x90\\x94\\xd3 \\xcei\\x18\\xa8\\xabJ\\xe84<#\\x1c\\xa3\\'\\x13\\xe5N\\x83\\x18\\xa7ARN\\x838\\xa7a\\x08\\xaa<\\xccp\\xedh\\rV^\\x9e\\xe1\\x8c\\xd3 )\\xa7A\\x9c\\xd30\\x04$\\x99\\xd0i\\xf8\\xfa\\xb6\\xa3\\xd3\\x99\\xe5N\\x83\\x18\\xa7ARN\\x838\\xa7a\\xa0\\x9e\\x03\\xa1\\xd3\\xf0\\x8c\\xed\\x84\\xba\\x98\\x97;\\r\\xdd8\\r=\\xe54t\\xe74\\x0c\\xd0s\\xa0\\x87N\\xc3\\x9e\\xcf\\x9b\\x80\\xbe\\xce\\xbd\\xdci\\xe8\\xc6i\\xe8)\\xa7\\xa1;\\xa7a\\x80\\x9e\\x03=t\\x1a\\x9eo\\xfb\\x02O {\\xb9\\xd3\\xd0\\x8d\\xd3\\xd0SNCwN\\xc3\\x88O\\x9f]=t\\x1a\\x9e\\xf5\\xf9\\x8ag\\x83\\xbb\\x97;\\r\\xdd8\\r=\\xe54t\\xe74\\x8c\\x1e\\'\\x99\\x1e:\\r\\xbbr\\x19\\xe0LC/w\\x1a\\xbaq\\x1az\\xcai\\xe8\\xcei\\x18\\xa0\\xe7@\\x0f\\x9d\\x86\\xaf\\xf59\\xe8\\x8c\\xd7\\xcb\\x9d\\x86n\\x9c\\x86\\x9er\\x1a\\xbas\\x1a\\x06\\xe89\\xd0C\\xa7\\xe1\\xf9\\x9d\\xa3\\xdc\\xde\\xcb\\x9d\\x86n\\x9c\\x86\\x9er\\x1a\\xbas\\x1a\\x06\\xe89\\xd0C\\xa7\\xe1\\x99\\xd5\\xf0\\xb7\\xbd:\\xc3u\\xe34\\xf4\\x94\\xd3\\xd0\\x9d\\xd30\\xe2^\\xc5W\\x0f\\x9d\\x86\\xe7\\xdb\\xbe\\xc0|\\xde\\xcb\\x9d\\x86n\\x9c\\x86\\x9er\\x1a\\xbas\\x1aF|\\xca\\xf4\\xea\\xa1\\xd3\\xf0\\x8c\\xed\\xe0\\xe4\\xcb\\xdd\\xcb\\x9d\\x86n\\x9c\\x86\\x9er\\x1a\\xbas\\x1a\\x06\\xe89\\xd0C\\xa7\\xe1y21\\xe3.\\x82w/w\\x1a\\xbaq\\x1az\\xcai\\xe8\\xcei\\x18\\xa0\\xe7@\\x0f\\x9d\\x86gV\\x13\\xe0\"\\xf7r\\xa7\\xa1\\x1b\\xa7\\xa1\\xa7\\x9c\\x86\\xee\\x9c\\x86\\x01z\\x0e\\xf4\\xd0ix*?A\\xcf\\x81^\\xee4t\\xe34\\xf4\\x94\\xd3\\xd0\\x9d\\xd30\\xe27\\xa3W\\x0f\\x9d\\x86g\\x84\\x03}\\xd5\\xee^\\xee4t\\xe34\\xf4\\x94\\xd3\\xd0\\x9d\\xd30b\\xfd\\xf4\\xea\\xa1\\xd3\\xf0\\xbcQ\\x04=9\\xee^\\xee4t\\xe34\\xf4\\x94\\xd3\\xd0\\x9d\\xd30@\\xcf\\x81\\x1e:\\r\\x9d\\x8f6\\x81\\x9d\\xd9\\xcb\\x9d\\x86n\\x9c\\x86\\x9er\\x1a\\xbas\\x1a\\x06\\xe89\\xd0C\\xa7\\xe1\\xa9|\\x80\\x1dB\\xbd\\xdci\\xe8\\xc6i\\xe8)\\xa7\\xa1;\\xa7a\\x80\\x9e\\x03=t\\x1a\\xbeF\\xb8\\xf8\\x8d\\xfb\\xdd\\xcb\\x9d\\x86n\\x9c\\x86\\x9er\\x1a\\xbas\\x1aF\\xfc\\xde\\xe0\\xea\\xa1\\xd3\\xf0<\\x99@;\\x07z\\xb9\\xd3\\xd0\\x8d\\xd3\\xd0SNCwN\\xc3\\x88\\r\\xd0\\xab\\x87NC\\x7f\\x84\\n\\xb0\\xe3\\xb7\\x97;\\r\\xdd8\\r=\\xe54t\\xe74\\x0c\\xd0s\\xa0\\x87N\\xc3\\xb3C\\x88\\xe2\\x15\\xfd\\xdd\\xcb\\x9d\\x86n\\x9c\\x86\\x9er\\x1a\\xbas\\x1a\\x06\\xe89\\xd0C\\xa7a\\x7f\\xe6\\x9d@?\\x99^\\xee4t\\xe34\\xf4\\x94\\xd3\\xd0\\x9d\\xd30@\\xcf\\x81\\x1e:\\r_O\\x9d\\xd1\\x13\\xc8r\\xa7\\xa1\\x1b\\xa7\\xa1\\xa7\\x9c\\x86\\xee\\x9c\\x861\\xc1\\xd8\\x1e:\\r\\xcf\\x9b\\x86\\x13\\xbcW\\xeb\\xe5NC7NCO9\\r\\xdd9\\r#>S}\\xf5\\xd0i\\xe8\\xe71\\xc7\\x00\\xb3Z\\xb9\\xd3\\xd0\\x8d\\xd3\\xd0SNCwN\\xc3\\x00\\xdd\\x16z\\xe84\\xc8:\\xfa\\x8cO\\xbe\\xdc\\xbd\\xdci\\xe8\\xc6i\\xe8)\\xa7\\xa1;\\xa7a\\x80n\\x0b=t\\x1a\\xfa\\xd3C\\x08\\x9c\\xe0\\xe9\\xe5NC7NCO9\\r\\xdd9\\r\\x03t[\\xe8\\xa1\\xd3\\xb0+_\\r\\xf4\\x1c\\xe8\\xe5NC7NCO9\\r\\xdd9\\r#\\xce%W\\x0f\\x9d\\x86=\\xc2\\xf1BO \\xcb\\x9d\\x86n\\x9c\\x86\\x9er\\x1a\\xbas\\x1aF\\xbc\\x97\\xf3\\xea\\xa1\\xd3\\xf0|\\xe6+>\\xf3s\\xf7r\\xa7\\xa1\\x1b\\xa7\\xa1\\xa7\\x9c\\x86\\xee\\x9c\\x86\\x01\\xba-\\xf4\\xd0i\\xd8\\x95\\x8f\\x16\\xcf\\x83w/w\\x1a\\xbaq\\x1az\\xcai\\xe8\\xcei\\x18\\x0b\\xfc\\xceC\\xa7\\xe1\\xd9\\'\\x83<\\x96^\\xee4t\\xe34\\xf4\\x94\\xd3\\xd0\\x9d\\xd30\\xe2\\xddmW\\x0f\\x9d\\x86\\xa7r`\\xcb\\xde\\xbd\\xdci\\xe8\\xc6i\\xe8)\\xa7\\xa1;\\xa7a\\x80\\x93\\xf7=t\\x1av\\xe5\\xd2\\xc0Y\\xe4^\\xee4t\\xe34\\xf4\\x94\\xd3\\xd0\\x9d\\xd30\\xc0\\xc9\\xfb\\x1e:\\r_\\xfbd\\x80\\x91\\xdb\\xcb\\x9d\\x86n\\x9c\\x86\\x9er\\x1a\\xbas\\x1a\\x068y\\xdfC\\xa7\\xe1\\xeb\\xdb\\x1e\\xef)\\xba{\\xb9\\xd3\\xd0\\x8d\\xd3\\xd0SNCwN\\xc3<An\\x0f\\x9d\\x86g>\\x17\\xf4\\xec\\xb5\\xdci\\xe8\\xc6i\\xe8)\\xa7\\xa1;\\xa7a\\x9e \\xb7\\x87N\\xc3\\xf3m\\x07\\xcf2\\xee^\\xee4t\\xe34\\xf4\\x94\\xd3\\xd0\\x9d\\xd30\\xc1\\xf9\\xf3\\x1e:\\r\\xcfgN@\\x13\\xec\\xe5NC7NCO9\\r\\xdd9\\r\\x13\\x9c?\\xef\\xa1\\xd3\\xf0T~\\x82S[\\xbd\\xdci\\xe8\\xc6i\\xe8)\\xa7\\xa1;\\xa7a\\xc6Z\\xda\\xd5c\\xa7\\xe1I2(\\xc3\\x95;\\r\\xdd8\\r=\\xe54t\\xe74\\xcc\\xd8w\\xbez\\xe84\\xec\\xca\\x89\\x81\\x08\\xdd\\xcb\\x9d\\x86n\\x9c\\x86\\x9er\\x1a\\xbas\\x1a&8\\x7f\\xdeC\\xa7\\xe1\\xf9\\xcc\\x05e\\xb8r\\xa7\\xa1\\x1b\\xa7\\xa1\\xa7\\x9c\\x86\\xee\\x9c\\x86\\t\\xce\\x9f\\xf7\\xd0ix~\\xe7\\x13\\xcdj\\xe5NC7NCO9\\r\\xdd9\\r\\x13\\x9c?\\xef\\xa1\\xd3\\xf0S\\x86\\x03\\xe9\\xb5\\xdci\\xe8\\xc6i\\xe8)\\xa7\\xa1;\\xa7a60\\xb6\\x87N\\xc3\\xf3\\x04\\x12\\xe6\\xf6r\\xa7\\xa1\\x1b\\xa7\\xa1\\xa7\\x9c\\x86\\xee\\x9c\\x86\\x19\\xf7$\\xbfz\\xe84<\\xebs\\x05g\\x14{\\xb9\\xd3\\xd0\\x8d\\xd3\\xd0SNCwN\\xc3\\x04\\xe7\\xcf{\\xe84\\xfct\\x9a\\x03\\xacX\\xca\\x9d\\x86n\\x9c\\x86\\x9er\\x1a\\xbas\\x1a&8\\x7f\\xdeC\\xa7\\xe1\\xa9\\\\\\x80\\x97\\xda\\xcb\\x9d\\x86n\\x9c\\x86\\x9er\\x1a\\xbas\\x1a&8\\x7f\\xdec\\xa7\\xa1\\x1dz\\xc6#\\xc3\\xdd\\xcb\\x9d\\x86n\\x9c\\x86\\x9er\\x1a\\xbas\\x1a\\xc0\\xb3\\xa5\\xab\\xc7N\\xc3s:\\x13h\\x82\\xbd\\xdci\\xe8\\xc6i\\xe8)\\xa7\\xa1;\\xa7a\\xc6}q\\xae\\x1e;\\r\\xed\\x90\\x8ev\\x85\\x95;\\r\\xdd8\\r=\\xe54t\\xe74Lp\\xfe\\xbc\\x87N\\xc3\\xd7Z\\r\\xc8r\\xbd\\xdci\\xe8\\xc6i\\xe8)\\xa7\\xa1;\\xa7a\\x82\\xf3\\xe7=v\\x1a\\xbe:\\xdd\\x82\\x0cW\\xee4t\\xe34\\xf4\\x94\\xd3\\xd0\\x9d\\xd30\\xc1\\xf9\\xf3\\x1e:\\r\\xbb\\xf2\\xb3\\xa1\\xf4Z\\xee4t\\xe34\\xf4\\x94\\xd3\\xd0\\x9d\\xd30\\t\\x8c\\xed\\xa1\\xd3\\xb0+\\xe7\\t\\xcc\\xfb^\\xee4t\\xe34\\xf4\\x94\\xd3\\xd0\\x9d\\xd30\\x19\\xac\\xd5B\\xa7\\xe1Y\\xa5\\x9ehoT\\xb9\\xd3\\xd0\\x8d\\xd3\\xd0SNCwN\\xc3\\x04\\xe7\\xcf{\\xe84\\xf4G\\x19\\x03\\x1d0{\\xb9\\xd3\\xd0\\x8d\\xd3\\xd0SNCwN\\xc3\\x04\\xe7\\xcf{\\xe84\\xf4G\\x07\\x06\\x1d\\xad{\\xb9\\xd3\\xd0\\x8d\\xd3\\xd0SNCwN\\x03\\xf8\\xd5^=t\\x1a\\x9e\\xf9|\\x82n\\x88\\xbd\\xdci\\xe8\\xc6i\\xe8)\\xa7\\xa1;\\xa7a\\xc6k\\xce\\xab\\x87N\\xc3\\xd73\\x19\\xf4\\xa6\\xa1\\xdci\\xe8\\xc6i\\xe8)\\xa7\\xa1;\\xa7\\x01\\x9c\\xcd\\xb8z\\xec4<\\x9f9p\\x91{\\xb9\\xd3\\xd0\\x8d\\xd3\\xd0SNCwN\\xc3\\x8c\\x9f!_=t\\x1a\\x9e\\xdc\\xce\\xf1\\x9f}\\xf7r\\xa7\\xa1\\x1b\\xa7\\xa1\\xa7\\x9c\\x86oW\\xbfW\\x0e\\xe6\\xf3\\xd0ix\\xce\\xabq|\\xb6\\xef\\xfevGe\\xe5&\\xc3\\xa5\\x9c\\x86\\xee\\x9c\\x86\\x19\\xaf?\\xae\\x1e:\\r\\xcfg~\\xa2\\xa7\\xce\\xe5NC7NCO9\\r\\xdd9\\r3\\xee\\x97q\\xf5\\xd8i\\xd8\\x9f\\xf9\\t\\xba!\\xf6r\\xa7\\xa1\\x1b\\xa7\\xa1\\xa7\\x9c\\x86\\xee\\x9c\\x86)`\\xad\\x16;\\r{\\x84#\\xf4\\xec\\xb5\\xdci\\xe8\\xc6i\\xe8)\\xa7\\xa1;\\xa7a\\x82\\x0e\\x1b=v\\x1a\\x9e\\xf7\\xe7hoT\\xb9\\xd3\\xd0\\x8d\\xd3\\xd0SNCwN\\xc3\\x04\\x1d6z\\xec4\\xec\\xdf9\\xb0\\xe2\\xef^\\xee4t\\xe34\\xf4\\x94\\xd3\\xd0\\x9d\\xd30A\\x87\\x8d\\x1e;\\r\\xfb\\xdb\\xbe\\xd0Z\\xad\\xdci\\xe8\\xc6i\\xe8)\\xa7\\xa1;\\xa7av4\\xb6\\x83\\xfdp\\xab\\x01M\\xb0\\x97;\\r\\xdd8\\r=\\xe54t\\xe74\\xccx\\xbf\\xcf\\xd5c\\xa7\\xe1<\\xfaBo\\x14\\xcb\\x9d\\x86n\\x9c\\x86\\x9er\\x1a\\xbas\\x1a&\\xea\\xb0\\x11;\\r\\xe7\\xa1\\x14\\xafk\\xef^\\xee4t\\xe34\\xf4\\x94\\xd3\\xd0\\x9d\\xd30Q\\x87\\x8d\\xd8ihG\\xd3\\xf8\\xac\\xfe\\xdd\\xcb\\x9d\\x86n\\x9c\\x86\\x9er\\x1a\\xbas\\x1a&\\xea\\xb0\\x11;\\r\\xbbr\\xf0\\x9c\\xfa\\xee\\xe5NC7NCO9\\r\\xdd9\\r`\\xb5}\\xf5\\xd8i8\\x8f\\xb1\\xd0\\x0e\\xa1r\\xa7\\xa1\\x1b\\xa7\\xa1\\xa7\\x9c\\x86\\xee\\x9c\\x86\\x89\\xfaL\\xc4N\\xc3\\x1e\\xdbO \\xbf\\xf7r\\xa7\\xa1\\x1b\\xa7\\xa1\\xa7\\x9c\\x86\\xee\\x9c\\x86\\x89\\xfaL\\xc4NC;NF]U\\xca\\x9d\\x86n\\x9c\\x86\\x9er\\x1a\\xbas\\x1a&\\xea3\\x11;\\r\\xcf\\xb9\\xd4x\\xa7\\xec\\xdd\\xcb\\x9d\\x86n\\x9c\\x86\\x9er\\x1a\\xbas\\x1a@7\\xf6\\xab\\xc7N\\xc3\\x97\\x97\\x8aF\\xb8\\xf2\\x0cg\\x9c\\x86\\x9er\\x1a\\xbas\\x1a&\\xea9\\x10;\\r\\xe7\\xf3\\xec\\x15<\\x99(w\\x1a\\xbaq\\x1az\\xcai\\xe8\\xcei\\x98\\xa8\\xe7@\\xec4\\x9c\\x07)\\xe8t\\xdb\\xcb\\x9d\\x86n\\x9c\\x86\\x9er\\x1a\\xbas\\x1a&0\\xef{\\xe84\\xc8#\\xbf\\xa3o{\\xb9\\xd3\\xd0\\x8d\\xd3\\xd0SNCwN\\xc3\\x04\\xe6}\\x0f\\x9d\\x86\\xe7\\x8cbG\\xfdd\\xca\\x9d\\x86n\\x9c\\x86\\x9er\\x1a\\xbas\\x1a&\\xea9\\x10;\\r\\xe7!p\\x9fL\\xb9\\xd3\\xd0\\x8d\\xd3\\xd0SNCwN\\xc3D=\\x07b\\xa7\\xa1=N\\x03\\xc8\\xed\\xe5NC7NCO9\\r\\xdd9\\r\\x13\\xf5\\x1c\\x88\\x9d\\x86v\\xd0\\x8aOA\\xdc\\xbd\\xdci\\xe8\\xc6i\\xe8)\\xa7\\xa1;\\xa7a\\x02\\xf3\\xbe\\xc7N\\xc3sR/\\x16V\\xef^\\xee4t\\xe34\\xf4\\x94\\xd3\\xd0\\x9d\\xd30\\xe3\\xd3\\xe4W\\x8f\\x9d\\x86\\xf3\\x98\\x04?\\xf3\\xf2\\x0cg\\x9c\\x86\\x9er\\x1a\\xbas\\x1a\\xc0>\\xfd\\xab\\xc7N\\xc3\\x9e\\xcf\\x170xz\\xb9\\xd3\\xd0\\x8d\\xd3\\xd0SNCwN\\xc3D=\\x07b\\xa7\\xe1<\\x9a\\xa2\\x9e\\x03\\xe5NC7NCO9\\r\\xdd9\\r\\x13\\xf5\\x1c@N\\xc3\\t\\xf6\\x1a\\xdc\\xbd\\xdci\\xe8\\xc6i\\xe8)\\xa7\\xa1;\\xa7aN0\\xb6\\xc7N\\xc3^\\x9f\\x13\\xea\\x86X\\xee4t\\xe34\\xf4\\x94\\xd3\\xd0\\x9d\\xd30\\'X\\xab\\xc5N\\xc3S9\\x9a\\xcf\\xcb\\x9d\\x86n\\x9c\\x86\\x9er\\x1a\\xbas\\x1a&\\xea9\\x80\\x9c\\x86\\xc6\\xf1\\xea\\xee\\xee\\xe5NC7NCO9\\r\\xdd9\\r\\x13\\xf5\\x1c\\x88\\x9d\\x86\\xa7\\xab\\n\\xda3Q\\xee4t\\xe34\\xf4\\x94\\xd3\\xd0\\x9d\\xd30Q\\xcf\\x81\\xd8ix\\xe6s\\xb4J-w\\x1a\\xbaq\\x1az\\xcai\\xe8\\xcei\\x98\\xf1.\\xd6\\xab#\\xa7\\x81(\\xdeeq\\xf7r\\xa7\\xa1\\x1b\\xa7\\xa1\\xa7\\x9c\\x86\\xee\\x9c\\x86\\x19g\\xd1\\xab#\\xa7A\\xc1\\x1dw/w\\x1a\\xbaq\\x1az\\xcai\\xe8\\xcei\\x98\\xa8\\xcf\\x04r\\x1a&\\xc5R\\xd3\\xdd\\xcb\\x9d\\x86n\\x9c\\x86\\x9er\\x1a\\xbas\\x1a&\\xea3\\x81\\x9c\\x86\\xfdO\\x85\\xe6\\xf3\\xea\\x0c\\xa7\\xc6i\\xd0\\x94\\xd3\\xa0\\xcei\\x98\\xa0\\xcf\\x84\\xc6N\\xc3\\xfe\\xb6+\\xf8\\xcc\\xb5\\xdciP\\xe34h\\xcaiP\\xe74\\xac\\xf8\\xcaK\\x91\\xd3\\xa0\\x1d\\xeco\\xd7r\\xa7A\\x8d\\xd3\\xa0)\\xa7A\\x9d\\xd3\\x00\\x9e3\\\\\\x1a;\\r\\xcf\\xa9\\xadx\\x7f\\xc9\\xad\\xe5N\\x83\\x1a\\xa7ASN\\x83:\\xa7a\\x81n\\x0b\\n\\x9d\\x86\\x06\\xf6\\xbdj\\xb9\\xd3\\xa0\\xc6i\\xd0\\x94\\xd3\\xa0\\xceiXq\\xb7\\xb7Kc\\xa7\\xa1=\\xe6=\\xaa\\xbc:\\xc3\\xa9q\\x1a4\\xe54\\xa8s\\x1a@\\xff\\xabKc\\xa7\\x81\\x8e\\x06\\xf6\\x0e\\xdeZ\\xee4\\xa8q\\x1a4\\xe54\\xa8s\\x1a\\x160\\xef5v\\x1a\\xf6\\xb7}\\x81S[Z\\xee4\\xa8q\\x1a4\\xe54\\xa8s\\x1a\\x16\\xe83\\xa1\\xb1\\xd3\\xc0\\xc7\\x02z\\xf6\\xad\\xe5N\\x83\\x1a\\xa7ASN\\x83:\\xa7a\\x81>\\x13\\x1a;\\r\\xb2\\xbf\\xed\\xf1\\x98xk\\xb9\\xd3\\xa0\\xc6i\\xd0\\x94\\xd3\\xa0\\xceiX\\xa0\\xcf\\x84\\xc6N\\x03\\x1fJ\\xf1\\x1b\\xf7[\\xcb\\x9d\\x065N\\x83\\xa6\\x9c\\x06uN\\xc3\\x02\\xe6\\xbd\"\\xa7a\\n\\xb03\\xb5\\xdciP\\xe34h\\xcaiP\\xe74\\x80}}\\x97\"\\xa7a\\x80\\xf7Q\\xb7\\x96;\\rj\\x9c\\x06M9\\r\\xea\\x9c\\x86\\x05\\xfaLh\\xec4|u\\xaeG\\x9fyy\\x863N\\x83\\xa6\\x9c\\x06uN\\xc3\\x02}&\\x149\\r2\\xc1i\\x0e-w\\x1a\\xd48\\r\\x9ar\\x1a\\xd49\\r\\x0b\\xf4\\x99P\\xe44\\x9c-\\xfe\\xb7\\xba\\xb5\\xdciP\\xe34h\\xcaiP\\xe74,`\\xdek\\xec4\\xd0A\\x02\\xde4h\\xb9\\xd3\\xa0\\xc6i\\xd0\\x94\\xd3\\xa0\\xceiX\\xc0\\xbcW\\xe44\\xf0\\xb9\\xe2S[Z\\xee4\\xa8q\\x1a4\\xe54\\xa8s\\x1a\\x16\\xe83\\xa1\\xc8i\\xd8\\x93\\x1aH\\xaf\\xe5N\\x83\\x1a\\xa7ASN\\x83:\\xa7a\\x81>\\x13\\x1a;\\r{l\\xef\\x0b$\\x99r\\xa7A\\x8d\\xd3\\xa0)\\xa7A\\x9d\\xd3\\xb0@\\x9f\\t\\x85N\\x03\\xe8\\xfe}k\\xb9\\xd3\\xa0\\xc6i\\xd0\\x94\\xd3\\xa0\\xceiX\\xc0\\xbcW\\xe44L\\x02=\\x84\\xb4\\xdciP\\xe34h\\xcaiP\\xe74,`\\xdek\\xec4\\xeco;\\xa3\\xcf\\xbc\\xdciP\\xe34h\\xcaiP\\xe74,\\xd0gBc\\xa7\\x81\\x0f\\x11\\xb0\\xe3W\\xcb\\x9d\\x065N\\x83\\xa6\\x9c\\x06uN\\xc3\\x02}&4v\\x1a\\xf8\\xa0\\x1e\\x7fKn-w\\x1a\\xd48\\r\\x9ar\\x1a\\xd49\\r\\x0b\\xf4\\x99\\xd0\\xd0ix~\\xe7\\x0c?\\xf3\\xf2\\x0cg\\x9c\\x06M9\\r\\xea\\x9c\\x86\\x05\\xcc{\\x8d\\x9d\\x86=\\x9fw\\xf0FQ\\xcb\\x9d\\x065N\\x83\\xa6\\x9c\\x06uN\\x03P\\x8e/\\x8d\\x9d\\x86g}\\x0e\\xf6Fi\\xb9\\xd3\\xa0\\xc6i\\xd0\\x94\\xd3\\xa0\\xceiX\\xa0\\xcf\\x84\\xc6N\\xc3\\xae\\xbc\\xc7I\\xff\\xd6r\\xa7A\\x8d\\xd3\\xa0)\\xa7A\\x9d\\xd3\\xb0@\\x9f\\t\\x8d\\x9d\\x06::8\\xe7uk\\xb9\\xd3\\xa0\\xc6i\\xd0\\x94\\xd3\\xa0\\xceiX\\xa0\\xcf\\x84\\xc6N\\x03\\x1d\\x83\\x81\\x97\\xaa\\xe5N\\x83\\x1a\\xa7ASN\\x83:\\xa7a\\xc5\\x89\\xec\\xd2\\xd8i\\xe0c\\x9e\\xf13\\xcb[\\xcb\\x9d\\x065N\\x83\\xa6\\x9c\\x06uN\\xc3\\x8aO\\x16_\\x1a;\\r|\\x0c\\x8d\\xf7\\x1a\\xdcZ\\xee4\\xa8q\\x1a4\\xe54\\xa8s\\x1a\\x16\\xe83\\xa1\\xb1\\xd3\\xc0G\\x1f\\xe8y{\\xb9\\xd3\\xa0\\xc6i\\xd0\\x94\\xd3\\xa0\\xceiX\\xa0\\xcf\\x84\\xc6N\\x03\\x1f\\xbc\\xc0\\x19E-w\\x1a\\xd48\\r\\x9ar\\x1a\\xd49\\r\\x0b\\xf4\\x99\\xd0\\xd8i\\xd8\\x9f\\xb9\\xc4;\\xe8n-w\\x1a\\xd48\\r\\x9ar\\x1a\\xd49\\r`\\xd7\\xcb\\xa5\\xb1\\xd3 ;\\xb7\\x83\\x13\\xb9Z\\xee4\\xa8q\\x1a4\\xe54\\xa8s\\x1aV\\xbc\\xa3\\xf1\\xd2\\xd8i\\xd8\\x95/\\xf8\\x99\\x97g8\\xe34h\\xcaiP\\xe74,\\xd0gBc\\xa7A\\x0e]\\xe8\\td\\xb9\\xd3\\xa0\\xc6i\\xd0\\x94\\xd3\\xa0\\xceiX\\xa0\\xcf\\x84\\xc6N\\x83\\x1c\\xab\\x81~2Z\\xee4\\xa8q\\x1a4\\xe54\\xa8s\\x1a\\xc0H}i\\xec4\\xc81&p\\x91\\xb5\\xdciP\\xe34h\\xcaiP\\xe74\\xac\\xf8]\\xd1\\xa5\\xb1\\xd3\\xb0\\x7f\\xe7\\xa8\\x7f\\xbb\\x96;\\rj\\x9c\\x06M9\\r\\xea\\x9c\\x86\\x15w\\x81\\xba4v\\x1av\\xe5\\x1a\\xbfw\\xbe\\xb5\\xdciP\\xe34h\\xcaiP\\xe74\\xacX3\\xbf4v\\x1a\\xf6\\x08\\'\\xa0\\xe7\\x80\\x96;\\rj\\x9c\\x06M9\\r\\xea\\x9c\\x86\\x05:lh\\xec4\\xc8!\\x0bt\\xb4\\xd6r\\xa7A\\x8d\\xd3\\xa0)\\xa7A\\x9d\\xd3\\xb0@\\x87\\r\\x8d\\x9d\\x86\\xbe\\x7f\\xe7\\xe0\\xa4\\x9e\\x96;\\rj\\x9c\\x06M9\\r\\xea\\x9c\\x86\\x15\\xefb\\xbd4v\\x1a\\xf6g>\\xd0\\xdb\\xa5r\\xa7A\\x8d\\xd3\\xa0)\\xa7A\\x9d\\xd3\\xb0\\xe2\\x1d\\x10\\x97\\xc6N\\xc3\\x1e\\xe1&\\x1c\\xe1\\xca3\\x9cq\\x1a4\\xe54\\xa8s\\x1a\\x96\\x82\\xb5Z\\xec4\\xec\\xf5\\xf9\\x00}\\x9d\\xb5\\xdciP\\xe34h\\xcaiP\\xe74\\xac8\\x97\\\\\\x1a;\\r|L\\x01\\x1d\\xb3\\xb4\\xdciP\\xe34h\\xcaiP\\xe74\\x80\\xf3\\xb5\\x97\\xc6N\\xc3\\xfe\\x9d7\\xb47\\xaa\\xdciP\\xe34h\\xcaiP\\xe74,\\x05c{\\xec4\\xec\\xdf\\xf9\\x00\\x82\\xa4\\x96;\\rj\\x9c\\x06M9\\r\\xea\\x9c\\x865\\xc0Z-v\\x1a\\xf8X\\xe0\\x84\\xdb\\xad\\xe5N\\x83\\x1a\\xa7ASN\\x83:\\xa7\\x01\\xf8\\xce\\x97\\xc6N\\x83\\x1cg\\x8f\\x15\\xbe[\\xcb\\x9d\\x065N\\x83\\xa6\\x9c\\x06uN\\xc3\\x02]U4v\\x1av\\xe5\\xa0K\\xc1\\xad\\xe5N\\x83\\x1a\\xa7ASN\\x83:\\xa7a\\x81\\xae*\\x1a;\\r\\xfb\\xdb.\\xf1i\\xa7[\\xcb\\x9d\\x065N\\x83\\xa6\\x9c\\x06uN\\xc3\\x8a\\xfb\\xe2\\\\\\x1a;\\r\\xcf^g\\xd0\\xfbS\\xcb\\x9d\\x065N\\x83\\xa6\\x9c\\x06uN\\x03\\xe8\\xf0wi\\xec4\\xec\\xcf\\\\\\xe3\\xecsk\\xb9\\xd3\\xa0\\xc6i\\xd0\\x94\\xd3\\xa0\\xceiX\\xa0\\xab\\x8a\\xc6N\\x03?\"4H\\xaf\\xe5N\\x83\\x1a\\xa7ASN\\x83:\\xa7a\\x81\\xae*\\x1a;\\r\\xb4g5p\\n[\\xcb\\x9d\\x065N\\x83\\xa6\\x9c\\x06uN\\xc3\\x02]U4v\\x1a\\xe8\\x18\\x82\\xd6j\\xe5N\\x83\\x1a\\xa7ASN\\x83:\\xa7\\x01\\xe8*\\x97\\xc6N\\x03\\x1d\\xf3\\x8c\\xf7\\x0e\\xdeZ\\xee4\\xa8q\\x1a4\\xe54\\xa8s\\x1aV\\xdc\\x87\\xfe\\xd2\\xd8ixv\\x08\\xa1\\xf7\\xe7\\xe5N\\x83\\x1a\\xa7ASN\\xc3\\xb7\\xab\\xdf+\\x07k\\xb5\\xd8i\\xf8\\xfa\\xb6\\x83\\xdfy\\xb9\\xd3\\xa0\\xc6i\\xd0\\x94\\xd3\\xa0\\xceiX\\xa0\\xab\\x8a\\xc6N\\x03\\x1d\\xc2h\\xc5R\\xee4\\xa8q\\x1a4\\xe54\\xa8s\\x1a\\x16\\xe8\\xaa\\xa2\\xb1\\xd3\\xb0\\xc7\\xf6\\x1e\\x7fKn-w\\x1a\\xd48\\r\\x9ar\\x1a\\xd49\\r\\xe0-\\xd9\\xa5\\xb1\\xd3\\xb0\\xbf\\xed\\'z\\x97Z\\xee4\\xa8q\\x1a4\\xe54\\xa8s\\x1aV<G]\\x1a;\\rt\\xd0\\x89\\xce\\xa5\\x96;\\rj\\x9c\\x06M9\\r\\xea\\x9c\\x86\\x05\\xba\\xaah\\xec4\\xec\\xdf\\xb9\\xc0\\xca\\xcb3\\x9cq\\x1a4\\xe54\\xa8s\\x1a\\x16\\xe8\\xaa\\xa2\\xb1\\xd3@\\x07K\\xfc\\xde\\xf9\\xd6r\\xa7A\\x8d\\xd3\\xa0)\\xa7A\\x9d\\xd3\\xb0@W\\x15\\x8d\\x9d\\x86\\xf6\\xa4WTyy\\x863N\\x83\\xa6\\x9c\\x06uN\\xc3\\x8aw._\\x1a;\\r\\x8f\\x8b\\x8cvy\\x97;\\rj\\x9c\\x06M9\\r\\xea\\x9c\\x86\\xb5\\xc0Z-v\\x1a\\xe88)\\xf6\\rn-w\\x1a\\xd48\\r\\x9ar\\x1a\\xd49\\rk\\x81\\xb5Z\\xec4\\xd0\\xd1F\\xbc/\\xfc\\xd6r\\xa7A\\x8d\\xd3\\xa0)\\xa7A?\\x9d\\x06>Q?\\x19\\xe44\\x0cEo\\x91\\xcb\\x9d\\x065N\\x83\\xa6\\x9c\\x06\\xfdt\\x1av\\xe5`>\\x8f\\x9d\\x86/S\\x0f\\xfd\\xce\\xcb3\\x9cq\\x1a4\\xe54\\xe8\\xa7\\xd3\\xb0+\\x07c{\\xec4\\xb4\\x83O\\xb4\\xb3\\xbf\\xdciP\\xe34h\\xcai\\xd0O\\xa7aW\\x0e\\xd6j\\xc8i\\xe8g\\xdc\\x8d\\xe4\\xd6r\\xa7A\\x8d\\xd3\\xa0)\\xa7A?\\x9d\\x86]9X\\xab\\xc5N\\xc3\\xfe\\xb63\\xea\\'S\\xee4\\xa8q\\x1a4\\xe54\\xe8\\xa7\\xd3\\xc0\\xe0\\x13\\xbc\\x149\\r\\x93\\xd1\\x9e\\x89r\\xa7A\\x8d\\xd3\\xa0)\\xa7A?\\x9d\\x86]9\\x9a\\xcfA\\x86\\xd3\\x13\\xbdi(w\\x1a\\xd48\\r\\x9ar\\x1a\\xf4\\xd3i\\xd8\\x1f \\x18\\xdbc\\xa7\\xe1\\xd1\\x87\\x80\\x0e\\xac\\xe5N\\x83\\x1a\\xa7ASN\\x83~:\\r\\xbbr\\xb0V\\x0b\\x9d\\x86\\xaf\\x0e\\x98\\xc0K\\xd5r\\xa7A\\x8d\\xd3\\xa0)\\xa7A?\\x9d\\x86]9X\\xab\\x85N\\xc33\\xabQ\\xfc\\xfc\\xea\\xd6r\\xa7A\\x8d\\xd3\\xa0)\\xa7A?\\x9d\\x86]9\\x98\\xcfc\\xa7\\xa1=\\x06\\x0f\\xaa\\xbc<\\xc3\\x19\\xa7ASN\\x83~:\\r\\xbbr0\\x9f#\\xa7\\xa1\\x9d(\\xc3\\x95;\\rj\\x9c\\x06M9\\r\\xfa\\xe94\\xec\\xca\\xc1\\xd8\\x8e\\x9c\\x86\\xd1\\xd1\\x89\\xdcr\\xa7A\\x8d\\xd3\\xa0)\\xa7A?\\x9d\\x86]9X\\xab\\xc5N\\xc3\\xd3\\xe9\\x16H\\xb1Z\\xee4\\xa8q\\x1a4\\xe54\\xe8\\xa7\\xd3\\xc0\\'\\xea\\'\\x13;\\r;\\xbd\\x0e\\xd0\\xe3W\\xcb\\x9d\\x065N\\x83\\xa6\\x9c\\x06\\xfdt\\x1av\\xe5h>\\x07\\x19\\x8eA\\'\\xe8[\\xcb\\x9d\\x065N\\x83\\xa6\\x9c\\x06\\xfdt\\x1av\\xe5h>\\x07\\x19N\\x1az\\xd3P\\xee4\\xa8q\\x1a4\\xe54\\xe8\\xa7\\xd3\\xb0+\\x07c;t\\x1a\\x06\\x10$\\xb5\\xdciP\\xe34h\\xcai\\xd0O\\xa7aW\\x0e\\xd6j\\xb1\\xd3\\xb0g5BO\\x9d\\xcb\\x9d\\x065N\\x83\\xa6\\x9c\\x06\\xfdt\\x1av\\xe5`\\xad\\x06\\x9d\\x86\\x13=\\x8d*w\\x1a\\xd48\\r\\x9ar\\x1a\\xf4\\xd3i\\xd8\\x95\\x83\\xf9\\x1c:\\rg\\xdc\\x9f\\xe1\\xd6r\\xa7A\\x8d\\xd3\\xa0)\\xa7A?\\x9d\\x86]9\\x98\\xcf\\x91\\xd3\\xa0`\\x7f\\xc9\\xad\\xe5N\\x83\\x1a\\xa7ASN\\x83~:\\r|\\xc6\\xdd\\xde.EN\\x83\\xacxL\\xbc\\xb5\\xdciP\\xe34h\\xcai\\xd0O\\xa7aW\\x0e\\xd6j\\xb1\\xd3\\xb0?s\\xf8\\xbc\\xbd\\xdciP\\xe34h\\xcai\\xd0O\\xa7aW\\x0e\\xd6j\\xb1\\xd3\\xb0+?\\xe3\\xaeC\\xb7\\x96;\\rj\\x9c\\x06M9\\r\\xfa\\xe940\\x18\\xaf.\\x8d\\x9d\\x86\\xc7EF\\xcf^\\xcb\\x9d\\x065N\\x83\\xa6\\x9c\\x06\\xfdt\\x1av\\xe5h>G\\xe6=\\xc7g\\x01n-w\\x1a\\x86q\\x1aF\\xcai\\x18\\x9fN\\xc3\\xae<\\x1e\\xdbG\\xec4\\xfc\\x15\\x11z\\x94;\\r\\xc38\\r#\\xe54\\x8cO\\xa7\\x81\\xcf\\xf8\\xc4\\xe15\\x90\\xd3 \\'p\\x97F\\xb9\\xd30\\x8c\\xd30RN\\xc3\\xf8t\\x1av\\xe5\\xf1Zm \\xa7\\xe1T0\\xc2\\x8dr\\xa7a\\x18\\xa7a\\xa4\\x9c\\x86\\xf1\\xe94\\xec\\xca\\xe3\\xf9|\\xc4N\\xc3\\xfe\\xb67\\xd0\\xe3w\\x94;\\r\\xc38\\r#\\xe54\\x8cO\\xa7aW\\x1e\\xcf\\xe7\\x039\\r\\xc4\\xa0\\xeb\\xe9(w\\x1a\\x86q\\x1aF\\xcai\\x18\\x9fN\\xc3\\xae<^\\xb1\\x8c\\xd8i\\xd8\\x95\\x83\\xa4\\x7f\\x8fr\\xa7a\\x18\\xa7a\\xa4\\x9c\\x86\\xf1\\xe940x\\x92z\\r\\xe44\\xec\\xf5y\\x9c\\xe1F\\xb9\\xd30\\x8c\\xd30RN\\xc3\\xf8t\\x1av\\xe5hVC\\xe6=\\xeat;\\xca\\x9d\\x86a\\x9c\\x86\\x91r\\x1a\\xc6\\xa7\\xd3\\xc0\\'\\xe8\\xaa2b\\xa7\\x81\\x9e>\\x13hV\\xab\\xcep\\xc38\\r#\\xe54\\x8cO\\xa7aW\\x8eF8p\\xa6\\xa1I\\xbc\\xa7\\xe8\\x1e\\xe5N\\xc30N\\xc3H9\\r\\xe3\\xd3i\\xd8\\x95\\xc7+\\x96\\x81\\x9c\\x06\\x96\\xf8T\\xe3=\\xca\\x9d\\x86a\\x9c\\x86\\x91r\\x1a\\xc6\\xa7\\xd3\\xb0+\\x8fW,#v\\x1a\\xf8`\\x05B\\xc5(w\\x1a\\x86q\\x1aF\\xcai\\x18\\x9fN\\xc3\\xae<^\\xb1\\x0c\\xe44\\xec\\xa0\\x0f2\\\\\\xb9\\xd30\\x8c\\xd30RN\\xc3\\xf8t\\x1av\\xe5`>GN\\xc3R\\xb0Of\\x94;\\r\\xc38\\r#\\xe54\\x8cO\\xa7\\x81O\\x05c{\\xec4\\xd01\\x17\\xe8\\xfd9\\xca\\x9d\\x86a\\x9c\\x86\\x91r\\x1a\\xc6\\xa7\\xd3\\xb0+\\x07+\\x16\\xe44L\\x89\\xdfA\\xde\\xa3\\xdci\\x18\\xc6i\\x18)\\xa7a|:\\r\\xbbr\\xb0bAN\\x83\\xf6X\\xcf\\xbeG\\xb9\\xd30\\x8c\\xd30RN\\xc3\\xf8t\\x1av\\xe5`>GNCW\\xd0[d\\x94;\\r\\xc38\\r#\\xe54\\x8cO\\xa7aW\\x8e\\xe6s\\xd4\\xe3\\xb7\\xa3\\xb5Z\\xb9\\xd30\\x8c\\xd30RN\\xc3\\xf8t\\x1a\\x18<a\\xb9F\\xec4\\xd0!H+\\x18\\xe5N\\xc30N\\xc3H9\\r\\xe3\\xd3i`p\\x12\\xe9\\x1a\\xc8i\\xe8\\x84\\xbe\\xed\\xe5N\\xc30N\\xc3H9\\r\\xe3\\xd3i\\xd8\\x95\\x83\\xb5Z\\xec4\\xec\\xf4\\xda\\xc1;\\x96Q\\xee4\\x0c\\xe34\\x8c\\x94\\xd30>\\x9d\\x06>AW\\x95\\x11;\\r\\xcf\\x8a\\x05\\xf4\\xfe\\x1c\\xe5N\\xc30N\\xc3H9\\r\\xe3\\xd3i\\xd8\\x95\\x83\\xf9<v\\x1a\\xda\\xb1\\x80\\xbcx\\x8fr\\xa7a\\x18\\xa7a\\xa4\\x9c\\x86\\xf1\\xe94\\xec\\xca\\xc1\\xd8\\x8e\\x9c\\x06\\xea\\xb0\\xf2\\xf2\\x0cg\\x9c\\x86\\x91r\\x1a\\xc6\\xa7\\xd3\\xb0+\\x07k5\\xe444BO\\xa3\\xca\\x9d\\x86a\\x9c\\x86\\x91r\\x1a\\xc6\\xa7\\xd3\\xb0+\\x07k5\\xe44t\\x02\\xfd^G\\xb9\\xd30\\x8c\\xd30RN\\xc3\\xf8t\\x1a\\x18\\x9c,\\xbe\\x06r\\x1a\\xb4\\x83}2\\xa3\\xdci\\x18\\xc6i\\x18)\\xa7a|:\\r\\xbbr4\\x9f\\x83\\x0c\\xd7@\\x9f\\xd4{\\x94;\\r\\xc38\\r#\\xe54\\x8cO\\xa7\\x81\\xcf\\x89\\xc6v\\x90\\xe1\\x88\\xe3\\xdf\\xc7=\\xca\\x9d\\x86a\\x9c\\x86\\x91r\\x1a\\xc6\\xa7\\xd3\\xb0+\\x07k\\xb5\\xd8ix,l\\xf4^\\xad\\xdci\\x18\\xc6i\\x18)\\xa7a|:\\r\\xbbr\\xb0V\\x8b\\x9d\\x86\\xfdmWp\\x9ac\\x94;\\r\\xc38\\r#\\xe54\\x8cO\\xa7aW\\x0e\\xe6\\xf3\\xd8i\\xa0\\xe3Dj\\xe8(w\\x1a\\x86q\\x1aF\\xcai\\x18\\x9fN\\xc3\\xae\\x1c\\xcc\\xe7\\xb1\\xd3\\xf0\\xccj`g\\xff(w\\x1a\\x86q\\x1aF\\xcai\\x18\\x9fN\\xc3\\xae\\x1c\\x8c\\xed\\xb1\\xd3\\xb0?s\\x05\\xb2\\xdc(w\\x1a\\x86q\\x1aF\\xcai\\x18\\x9fN\\xc3\\xae\\x1c\\xac\\xd5b\\xa7aW\\xde\\xc1\\xf9\\xf3Q\\xee4\\x0c\\xe34\\x8c\\x94\\xd30>\\x9d\\x06\\xa4\\x9f^#v\\x1a\\xf6\\xd8\\x0eN\\xac\\xdf\\xa3\\xdci\\x18\\xc6i\\x18)\\xa7a|:\\r\\xbbr0\\x9f\\xc7NC;:\\xb0e\\xefQ\\xee4\\x0c\\xe34\\x8c\\x94\\xd30>\\x9d\\x86]9\\x9a\\xcf\\xc1\\x99\\x06i\\xf1\\x1a\\xe7\\x1e\\xe5N\\xc30N\\xc3H9\\r\\xe3\\xd3i\\xd8\\x95\\xa3\\xb1\\x1d\\x9ci\\xe0\\t+/\\xcfp\\xc6i\\x18)\\xa7a|:\\r\\x0c\\xce\\xd7^#v\\x1a\\xcecup\\x82g\\x94;\\r\\xc38\\r#\\xe54\\x8cO\\xa7aW\\x0e\\xd6j\\xb1\\xd3p\\x1e\\xa3\\xc7\\xcf\\xaf\\xeeQ\\xee4\\x0c\\xe34\\x8c\\x94\\xd30>\\x9d\\x86]9\\x98\\xcfc\\xa7\\xe1\\xd9\\xd9\\x8f2\\\\\\xb9\\xd30\\x8c\\xd30RN\\xc3\\xf8t\\x1av\\xe5`>\\x8f\\x9d\\x86]\\xb9\\x80\\x1e\\xbf\\xa3\\xdci\\x18\\xc6i\\x18)\\xa7a|:\\r\\xdcb!\\xef\\x1a\\xb1\\xd3p>\\xd6\\x16\\xfa\\x9d\\x97g8\\xe34\\x8c\\x94\\xd30>\\x9d\\x86]9\\x98\\xcfc\\xa7\\xe1<fCo\\x97\\xca\\x9d\\x86a\\x9c\\x86\\x91r\\x1a\\xc6\\xa7\\xd3\\xb0+\\x07\\xf3y\\xec4\\xb4\\xe3d\\xf4\\xa6\\xa1\\xdci\\x18\\xc6i\\x18)\\xa7a|:\\r\\xbbr\\xb0>\\x8f\\x9d\\x86\\xfd\\x99\\x0f T\\x8cr\\xa7a\\x18\\xa7a\\xa4\\x9c\\x86\\xf1\\xe94\\xec\\xca\\xd1|\\x0e\\xce4\\xac\\x13\\xed\\x10*w\\x1a\\x86q\\x1aF\\xcai\\x18\\x9fN\\xc3\\xae\\x1c\\xcd\\xe7\\xf0L\\x03z\\xea\\\\\\xee4\\x0c\\xe34\\x8c\\x94\\xd30>\\x9d\\x86]9\\x98\\xcfc\\xa7a\\xff\\xce\\x81op\\x8fr\\xa7a\\x18\\xa7a\\xa4\\x9c\\x86\\xf1\\xe94\\xec\\xca\\xc1|\\x1e;\\r\\xbbrA\\x9fy\\xb9\\xd30\\x8c\\xd30RN\\xc3\\xf8t\\x1a\\xb8\\x81\\x93\\xf7#v\\x1av\\x92\\x19\\xf1\\x19\\xde{\\x94;\\r\\xc38\\r#\\xe54\\x8cO\\xa7aW\\x0e\\xc6\\xf6\\xd8i\\xd8\\x9f\\xf9\\x04\\xe7RG\\xb9\\xd30\\x8c\\xd30RN\\xc3\\xf8t\\x1av\\xe5\\xe0\\xd9k\\xec4\\x9c\\xcf\\xae0\\x90d\\xca\\x9d\\x86a\\x9c\\x86\\x91r\\x1a\\xc6\\xa7\\xd3\\xb0+\\x07\\xeb\\xf3\\xd8ix:\\xe9\\xa0\\x15K\\xb9\\xd30\\x8c\\xd30RN\\xc3\\xf8t\\x1av\\xe5`>\\x8f\\x9d\\x86vPGO\\xa3\\xca\\x9d\\x86a\\x9c\\x86\\x91r\\x1a\\xc6\\xa7\\xd3\\xb0+\\x07\\xf3y\\xec4<\\'x\\xd0\\xce\\x81r\\xa7a\\x18\\xa7a\\xa4\\x9c\\x86\\xf1\\xe94p\\x8b\\xdf\\x92]#v\\x1a\\xda\\xa1\\x1d\\xf4o\\x1f\\xe5N\\xc30N\\xc3H9\\r\\xe3\\xd3i\\xd8\\x95\\x83\\xb5Z\\xec4<=\\x84@\\xff\\xf6Q\\xee4\\x0c\\xe34\\x8c\\x94\\xd30>\\x9d\\x86]9X\\xab\\xc5N\\xc3\\xd3C\\x08t\\xcc\\x1a\\xe5N\\xc30N\\xc3H9\\r\\xe3\\xd3i`\\xa0\\xab\\\\#v\\x1a\\xf6\\xd8\\x0e\\xcf.\\x95;\\r\\xc38\\r#\\xe54|\\xbb\\xfa\\xbdr0\\x9f\\xc7NC\\xfb+o\\x97\\xca\\x9d\\x86a\\x9c\\x86\\x91r\\x1a\\xc6\\xa7\\xd3\\xc0\\xe0\\x0c\\xd65b\\xa7\\xa1\\x1d]\\xd0\\xce\\xfer\\xa7a\\x18\\xa7a\\xa4\\x9c\\x86\\xf1\\xe940x\\xb6t\\r\\xe44\\xf0\\x04\\'\\xefG\\xb9\\xd30\\x8c\\xd30RN\\xc3\\xf8t\\x1av\\xe5`\\xad\\x86\\x9c\\x06\\x82O \\xcb\\x9d\\x86a\\x9c\\x86\\x91r\\x1a\\xc6\\xa7\\xd3\\xc0\\r\\x9d\\xbcGNCWt\\xf2\\xbe\\xdci\\x18\\xc6i\\x18)\\xa7a|:\\r\\xbbr0\\x9f\\xc7N\\x03?\\x9f9\\xfa\\xb6\\x97g8\\xe34\\x8c\\x94\\xd30>\\x9d\\x86]9\\x1a\\xdb\\x81\\x97*\\x14\\xe7\\xdd{\\x94;\\r\\xc38\\r#\\xe54\\x8cO\\xa7aW\\x0e\\xd6j\\xb1\\xd3\\xc0;\\xc9\\xc4\\x1d\\xe5\\xeeQ\\xee4\\x0c\\xe34\\x8c\\x94\\xd30>\\x9d\\x86]9X\\xab\\xc5N\\xc3\\xae\\x1cuU\\x19\\xe5N\\xc30N\\xc3H9\\r\\xe3\\xd3i\\xd8\\x95\\x83\\xf9<v\\x1a\\xf8hz\\x82\\xb1\\xbd\\xdci\\x18\\xc6i\\x18)\\xa7a|:\\r\\xbbr0\\x9f\\xc7N\\x03?\\xdd\\x8d\\xc1\\xef\\xbc\\xdci\\x18\\xc6i\\x18)\\xa7a8\\xa7\\xa1\\xc5+\\xafk\\xc4N\\x03\\x1dSQ\\x9f\\x89r\\xa7a\\x18\\xa7a\\xa4\\x9c\\x86\\xe1\\x9c\\x86\\x16w\\x04\\xbaF\\xec4\\xd01&z\\xea\\\\\\xee4\\x0c\\xe34\\x8c\\x94\\xd30\\x9c\\xd3\\xd0P\\xcf\\x81\\xd8i\\xa0C\\x1bz\\x7f^\\xee4\\x0c\\xe34\\x8c\\x94\\xd30\\x9c\\xd3\\xd0P\\xcf\\x81\\xd8i\\xd8\\xdf\\xf6\\x89N\\xe4\\x96;\\r\\xc38\\r#\\xe54\\x0c\\xe74\\xb4\\x8eF8hm\\xa1\\xf7\\xe7\\xe5N\\xc30N\\xc3H9\\r\\xc39\\r\\xad\\x83\\x15\\x0br\\x1a\\x16\\xea\\x039\\xca\\x9d\\x86a\\x9c\\x86\\x91r\\x1a\\x86s\\x1a\\x1a:y\\x1f;\\r\\xcf\\xef\\x1c\\xf4\\xec\\x1f\\xe5N\\xc30N\\xc3H9\\r\\xc39\\r\\r\\x9d\\xbc\\x8f\\x9d\\x86\\xe7\\xe4=\\xca\\xed\\xe5N\\xc30N\\xc3H9\\r\\xc39\\r\\r\\x9d\\xbc\\x8f\\x9d\\x06\\xde\\xab\\xd4X\\xed\\xb9G\\xb9\\xd30\\x8c\\xd30RN\\xc3pNCS\\xb0b\\x89\\x9d\\x069\\x1a\\x9f`l/w\\x1a\\x86q\\x1aF\\xcai\\x18\\xceih\\xb1\\xa2t\\x8d\\xd8i\\xd8\\xe9u\\xc6O\\xe8\\xefQ\\xee4\\x0c\\xe34\\x8c\\x94\\xd30\\x9c\\xd3\\xd0\\xd0\\xc9\\xfb\\xd8ixV\\xa9\\xf1\\xae\\xc9{\\x94;\\r\\xc38\\r#\\xe54\\x0c\\xe74\\xb4\\xf8$\\xd25b\\xa7\\x81\\x9f^a\\xe0\\xedR\\xb9\\xd30\\x8c\\xd30RN\\xc3pNC\\x8bw:]#v\\x1a\\x9e\\xa7Qh\\xe7@\\xb9\\xd30\\x8c\\xd30RN\\xc3pNCC\\xa7\\xb0c\\xa7\\x81\\x9f\\xfd\\xed`>/w\\x1a\\x86q\\x1aF\\xcai\\x18\\xcei\\x00\\'\\x14\\xae\\x11;\\r|\\x0cB\\x19\\xae\\xdci\\x18\\xc6i\\x18)\\xa7a8\\xa7\\xa1\\xa1S\\xd8\\xb1\\xd3 \\xfb3\\x87\\xb3Zy\\x863N\\xc3H9\\r\\xc39\\r`\\xcdy\\x8d\\xd8i\\xd8\\x95\\x8f\\xf8\\xdd\\xc4=\\xca\\x9d\\x86a\\x9c\\x86\\x91r\\x1a\\x86s\\x1aZ\\xfc\\xdd\\xbdF\\xec4\\xc8A\\xe0\\x99\\xe5=\\xca\\x9d\\x86a\\x9c\\x86\\x91r\\x1a\\x86s\\x1a\\x1a:\\x85\\x1d;\\r\\xf2\\x9cK\\x05O \\xcb\\x9d\\x86a\\x9c\\x86\\x91r\\x1a\\x86s\\x1a\\x1a:\\x85\\x1d;\\r{\\x84\\xd3\\xb8\\xdf\\xd2=\\xca\\x9d\\x86a\\x9c\\x86\\x91r\\x1a\\x86s\\x1a\\x1a:\\x85\\x1d;\\r_#\\x1c\\x18\\xdb\\xcb\\x9d\\x86a\\x9c\\x86\\x91r\\x1a\\x86s\\x1aZ\\xec\\xc4]#v\\x1a\\xf6\\xef\\\\\\xd0Z\\xad\\xdci\\x18\\xc6i\\x18)\\xa7a8\\xa7\\xa1M\\x90\\xdbc\\xa7a\\xaf\\xd5\\x060\\xf5F\\xb9\\xd30\\x8c\\xd30RN\\xc3pNCC\\xa7\\xb0c\\xa7A\\x8e\\x0e\\x9e\\xd0\\xdf\\xa3\\xdci\\x18\\xc6i\\x18)\\xa7a8\\xa7\\xa1\\xa1S\\xd8\\xb1\\xd3\\xb0?\\xf3\\x89\\xfaF\\x95;\\r\\xc38\\r#\\xe54\\x0c\\xe744t\\n;v\\x1a\\xf8X\\xb4\\xd0\\xef\\xbc:\\xc3M\\xe34\\xcc\\x94\\xd30\\x9d\\xd3\\xd0\\xe2S\\xa6\\xd7\\x8c\\x9d\\x06>\\xe6\\x8c\\xd78\\xf7,w\\x1a\\xa6q\\x1af\\xcai\\x98\\xceih\\xf1\\'x\\xcd\\xd8i\\xd8c;8\\xb1~\\xcfr\\xa7a\\x1a\\xa7a\\xa6\\x9c\\x86\\xe9\\x9c\\x86\\x06Na\\xcf\\xd8i\\x90C$\\x9e\\r\\xeeY\\xee4L\\xe34\\xcc\\x94\\xd30\\x9d\\xd3\\x00\\xf4\\xd3k\\xc6N\\xc3\\xcep\\x03$\\x99Y\\xee4L\\xe34\\xcc\\x94\\xd30\\x9d\\xd3\\xd0\\xc0)\\xec\\x19;\\r\\xfbw.`\\x95:\\xcb\\x9d\\x86i\\x9c\\x86\\x99r\\x1a\\xa6s\\x1a\\x80r|\\xcd\\xd8i\\x90C\\x15\\x9ci\\x98\\xe5N\\xc34N\\xc3L9\\r\\xd39\\r\\x14k\\xe6\\xd7\\x8c\\x9d\\x86y\\x10\\x92bg\\xb9\\xd30\\x8d\\xd30SN\\xc3tN\\x03\\x9d\\xf1Zm\\xc6N\\xc3\\xda\\xf3y|\\xce\\xeb\\x9e\\xe5N\\xc34N\\xc3L9\\r\\xd39\\r\\x14\\xef\\xf7\\xb9f\\xec4\\xcc\\xe3\\xec\\xa0g\\xff,w\\x1a\\xa6q\\x1af\\xcai\\x98\\xcei\\xa0x\\xe5u\\xcd\\xd8i\\x18\\xc79A\\x8f\\xdfY\\xee4L\\xe34\\xcc\\x94\\xd30\\x9d\\xd3\\x00v:]3v\\x1a\\xf6g>\\xc1\\x8e\\xdfY\\xee4L\\xe34\\xcc\\x94\\xd30\\x9d\\xd3@\\xf1I\\xa4k\\xc6N\\xc38Z\\x8f\\xcf\\x7f\\xdc\\xb3\\xdci\\x98\\xc6i\\x98)\\xa7a:\\xa7\\x81\\xe2\\xd9\\xf9\\x9a\\xb1\\xd30\\x9e\\xee\\xc6\\xf1Zm\\x96;\\r\\xd38\\r3\\xe54L\\xe74\\x10\\xe8\\xb01c\\xa7A\\x0f]\\xe8w^\\xee4L\\xe34\\xcc\\x94\\xd30\\x9d\\xd3@\\xa0\\xc3\\xc6\\x8c\\x9d\\x86=\\xc2\\x81\\xfd\\xa2\\xf7,w\\x1a\\xa6q\\x1af\\xcai\\x98\\xcei\\xa0\\x06\\xc6\\xf6\\xd8i\\x18O\\x92A\\xbf\\xf3\\xf2\\x0cg\\x9c\\x86\\x99r\\x1a\\xa6s\\x1a\\xa8\\x81\\xb5Z\\xec4\\xeco\\xbb\\x82]a\\xb3\\xdci\\x98\\xc6i\\x98)\\xa7a:\\xa7\\x81@\\x87\\x8d\\x19;\\rzt\\x06\\x1d\\xb3f\\xb9\\xd30\\x8d\\xd30SN\\xc3tN\\x03\\x81\\x0e\\x1b3v\\x1a\\x9eo;\\xe8\\'3\\xcb\\x9d\\x86i\\x9c\\x86\\x99r\\x1a\\xa6s\\x1a\\x08t\\xd8\\x98\\xb1\\xd3\\xb0g\\xb5\\x11\\xab=\\xf7,w\\x1a\\xa6q\\x1af\\xcai\\x98\\xcei \\xd0ac\\xc6N\\x83\\x1e\\x13uI\\x9b\\xe5N\\xc34N\\xc3L9\\r\\xd39\\r\\xa0\\x1b\\xfb5c\\xa7a\\x1cs\\xc5{\\x07\\xefY\\xee4L\\xe34\\xcc\\x94\\xd30\\x9d\\xd3@\\xa0\\xdb\\xc2\\x8c\\x9d\\x86q,\\x8e{r\\xdc\\xb3\\xdci\\x98\\xc6i\\x98)\\xa7a:\\xa7\\x81\\x80y?c\\xa7a\\x1c\\x02\\xba\\x14\\xdc\\xb3\\xdci\\x98\\xc6i\\x98)\\xa7a:\\xa7\\x81\\x80y?c\\xa7a\\x7f\\xdb\\x81cr\\xcfr\\xa7a\\x1a\\xa7a\\xa6\\x9c\\x86\\xe9\\x9c\\x06\\x02=\\x07f\\xec4\\xe8\\xb1Z\\x9c\\xfa\\xeeY\\xee4L\\xe34\\xcc\\x94\\xd30\\x9d\\xd3@\\xa0\\xe7\\xc0\\x8c\\x9d\\x06=D\\x80\\xa97\\xcb\\x9d\\x86i\\x9c\\x86\\x99r\\x1a\\xa6s\\x1a\\x08\\xc8\\xef3v\\x1a\\xf49\\x85\\x8dF\\xb8\\xf2\\x0cg\\x9c\\x86\\x99r\\x1a\\xa6s\\x1a\\x08\\xc8\\xef3v\\x1av\\xe5=\\x96\\x9a\\xeeY\\xee4L\\xe34\\xcc\\x94\\xd30\\x9d\\xd3@\\xa0\\xe7\\xc0\\x8c\\x9d\\x86\\x9d\\xdb\\x058\\x8a\\xb3\\xdci\\x98\\xc6i\\x98)\\xa7a:\\xa7\\x81@\\xcf\\x81\\x19;\\r\\xfdq\\x1a\\xc0\\xacV\\xee4L\\xe34\\xcc\\x94\\xd30\\x9d\\xd3@\\xa0\\xe7\\xc0\\x8c\\x9d\\x86]9\\xc5\\x82\\xcb=\\xcb\\x9d\\x86i\\x9c\\x86\\x99r\\x1a\\xa6s\\x1a\\x08\\xc8\\xef3v\\x1a\\xf4h\\x1d\\xbdK-w\\x1a\\xa6q\\x1af\\xcai\\x98\\xcei  \\xbf\\xcf\\xd8i\\xe8G[\\xa0\\x97\\xf7,w\\x1a\\xa6q\\x1af\\xcai\\x98\\xcei \\xd0s`\\xc6N\\x83\\x1e\\'\\xa3\\xe7\\xed\\xe5N\\xc34N\\xc3L9\\r\\xd39\\r\\x04z\\x0e\\xcc\\xd8i\\xe8\\xc7\\x9a\\xa0\\xc3\\xc6,w\\x1a\\xa6q\\x1af\\xcai\\x98\\xcei \\xd0s`\\xc6N\\xc3\\x9e\\xcf\\x91\\x8b<\\xcb\\x9d\\x86i\\x9c\\x86\\x99r\\x1a\\xa6s\\x1a\\x08\\x98\\xf73v\\x1avn?\\xd1*\\xb5\\xdci\\x98\\xc6i\\x98)\\xa7a:\\xa7\\x81\\x80y?c\\xa7a\\x1c\\xe3D\\xab\\xd4r\\xa7a\\x1a\\xa7a\\xa6\\x9c\\x86\\xe9\\x9c\\x06\\x02=\\x07f\\xec4\\x8cC\\x81\\xc8v\\xcfr\\xa7a\\x1a\\xa7a\\xa6\\x9c\\x86\\xe9\\x9c\\x06\\x02=\\x07f\\xec4\\xeco\\xfb\\x8c\\x9fS\\xdf\\xb3\\xdci\\x98\\xc6i\\x98)\\xa7a:\\xa7\\x81@\\xcf\\x81\\x19;\\r\\xe38O\\xb4>/w\\x1a\\xa6q\\x1af\\xcai\\x98\\xcei `\\xde\\xcf\\xd8ixV,q/\\xbd{\\x96;\\r\\xd38\\r3\\xe54L\\xe74\\x100\\xefg\\xec4\\xe8!\\x0cNg\\xcer\\xa7a\\x1a\\xa7a\\xa6\\x9c\\x86\\xe9\\x9c\\x06\\x02\\xdd\\x16f\\xec4<\\xeb\\xf3\\xf8M\\xdc=\\xcb\\x9d\\x86i\\x9c\\x86\\x99r\\x1a\\xa6s\\x1a\\x08t[\\x98\\xb1\\xd3\\xa0\\x07\\x118\\xc72\\xcb\\x9d\\x86i\\x9c\\x86\\x99r\\x1a\\xa6s\\x1a\\x08t[\\x98\\xb1\\xd30\\x0e>\\xd1\\x93\\x89r\\xa7a\\x1a\\xa7a\\xa6\\x9c\\x86\\xe9\\x9c\\x06\\x02\\xdd\\x16f\\xec4<\\x19.\\xf6\\x07\\xefY\\xee4L\\xe34\\xcc\\x94\\xd30\\x9d\\xd3@\\xa0\\xe7\\xc0\\x8c\\x9d\\x86=\\xab\\x118\\xc72\\xcb\\x9d\\x86i\\x9c\\x86\\x99r\\x1a\\xa6s\\x1a\\x08\\xf4\\x1c\\x98\\xb1\\xd3\\xb0g\\xb5\\x89\\xde\\x9f\\x97;\\r\\xd38\\r3\\xe54L\\xe74\\x10\\xe890c\\xa7A\\x8f\\xd1\\xe37\\xee\\xf7,w\\x1a\\xa6q\\x1af\\xcai\\x98\\xcei  \\xbf\\xcf\\xd8i\\x18\\x87\\xc0}2\\xe5N\\xc34N\\xc3L9\\r\\xd39\\r\\x04\\xe4\\xf7\\x19;\\r\\xf3\\x903\\x9e\\x07\\xefY\\xee4L\\xe34\\xcc\\x94\\xd30\\x9d\\xd3@\\xa0\\xcf\\xc4\\x8c\\x9d\\x86\\xbdJ\\xed\\xe0\\xe4\\xfd,w\\x1a\\xa6q\\x1af\\xcai\\x98\\xcei \\xd0gb\\xc6N\\xc3^\\xa5N\\xf8;/\\xcfp\\xc6i\\x98)\\xa7a:\\xa7\\x81@\\x9f\\x89\\x19;\\r;\\xc9\\xac\\xb87\\xee=\\xcb\\x9d\\x86i\\x9c\\x86\\x99r\\x1a\\xa6s\\x1a\\xc0{\\x83k\\xc6N\\xc3\\x1e\\xe1&8\\x91;\\xcb\\x9d\\x86i\\x9c\\x86\\x99r\\x1a\\xa6s\\x1a\\x08\\xc8\\xef3v\\x1a\\xc6A\\x12g\\x9f{\\x96;\\r\\xd38\\r3\\xe54L\\xe74\\x10\\xe831c\\xa7a\\x1c\\xfdD\\xefX\\xca\\x9d\\x86i\\x9c\\x86\\x99r\\x1a\\xa6s\\x1a@\\x8f\\x94k\\xc6N\\xc3\\xfe\\x9d3\\xfc\\x9d\\x97g8\\xe34\\xcc\\x94\\xd30\\x9d\\xd3@\\xa0\\xcf\\xc4\\x8c\\x9d\\x86g\\x977z\\xc7R\\xee4L\\xe34\\xcc\\x94\\xd30\\x9d\\xd3@@~\\x9f\\xb1\\xd3\\xf0\\xacX\\xe2\\xbd\\x06\\xf7,w\\x1a\\xa6q\\x1af\\xcai\\xf8v\\xf5{\\xe5`\\xad\\x16;\\r\\xcf\\xb3\\xd7xL\\xbc\\xbf\\xddQY\\xb9\\xc9p)\\xa7a:\\xa7\\x01\\xac9\\xaf\\x19;\\r{l\\x07\\xfd\\x13\\xefY\\xee4L\\xe34\\xcc\\x94\\xd30\\x9d\\xd3@\\xa0\\xcf\\xc4\\x8c\\x9d\\x86q\\xb4\\x11\\xbfq\\xbfg\\xb9\\xd30\\x8d\\xd30SN\\xc3tN\\x03\\x81>\\x133v\\x1a\\xf6\\xef\\\\A\\xcf\\x81Y\\xee4L\\xe34\\xcc\\x94\\xd30\\x9d\\xd3@@~\\x9f\\xb1\\xd3\\xa0\\xcf\\x8e_4\\xc2\\x95g8\\xe34\\xcc\\x94\\xd30\\x9d\\xd3@@~\\x9f\\xb1\\xd3\\xa0\\x07\\x9d\\xa0\\xaf\\xf3,w\\x1a\\xa6q\\x1af\\xcai\\x98\\xcei \\xd4g\"v\\x1a\\xfa\\xb1\\xc0\\x93\\xbb{\\x96;\\r\\xd38\\r3\\xe54L\\xe74\\x80N!\\xd7\\x8c\\x9d\\x86~\\xf0D\\xe7\\xcf\\xcb\\x9d\\x86i\\x9c\\x86\\x99r\\x1a\\xa6s\\x1a\\x08\\xf5\\x99\\x88\\x9d\\x86\\xfe\\xacX@n/w\\x1a\\xa6q\\x1af\\xcai\\x98\\xcei  \\xbf\\xcf\\xd8i\\xd8\\x9f\\xb9\\xc6\\xfb\\xc2\\xefY\\xee4L\\xe34\\xcc\\x94\\xd30\\x9d\\xd3@@~\\x9f\\xb1\\xd3\\xd0\\x8f\\xae\\xa03\\xde,w\\x1a\\xa6q\\x1af\\xcai\\x98\\xcei`\\xd4g\"v\\x1a\\xfa\\xa1\\x1d\\xed\\xec/w\\x1a\\xa6q\\x1af\\xcai\\x98\\xcei`\\xd4g\"v\\x1a\\x9e]a\\xe8,r\\xb9\\xd30\\x8d\\xd30SN\\xc3tN\\x03\\xa3>\\x13\\xb1\\xd3\\xf0\\xec\\xecG\\xa7\\xb6\\xca\\x9d\\x86i\\x9c\\x86\\x99r\\x1a\\xa6s\\x1a\\xf8Dc;\\xc8pK\\x80\\x1a:\\xcb\\x9d\\x86i\\x9c\\x86\\x99r\\x1a\\xa6s\\x1a\\x80f~\\xcd\\xd8i\\xd0=\\xc2\\xc5\\xcf2\\xeeY\\xee4L\\xe34\\xcc\\x94\\xd30\\x9d\\xd3\\xc0\\xa8\\xcfD\\xec4\\xe81@\\xd7\\xa1{\\x96;\\r\\xd38\\r3\\xe54L\\xe74\\x00\\xf1\\xf6\\x9a\\xb1\\xd3\\xb0W,\\x1a\\x8f\\x0c\\xf7,w\\x1a\\xa6q\\x1af\\xcai\\x98\\xcei\\x00\\x1d\\xf8\\xaf\\x19;\\r_\\xe7\\xcfA\\xe5\\xe5N\\xc34N\\xc3L9\\r\\xd39\\r\\xdc\\xc0\\xd8\\x1e;\\r\\xfa<u\\x06\\xbf\\xf3r\\xa7a\\x1a\\xa7a\\xa6\\x9c\\x86\\xe9\\x9c\\x06n`\\xad\\x16;\\r\\xcf|\\x8e\\xf6\\xc9\\x94;\\r\\xd38\\r3\\xe54L\\xe740\\xea3\\x11;\\r\\xfd\\x98\\x02:`\\xcer\\xa7a\\x1a\\xa7a\\xa6\\x9c\\x86\\xe9\\x9c\\x06F}&b\\xa7\\xe1\\x99\\xd5\\x80\\xb55\\xcb\\x9d\\x86i\\x9c\\x86\\x99r\\x1a\\xa6s\\x1a\\x18\\xf5\\x99\\x88\\x9d\\x86=\\xb6\\x9f@\\x96\\x9b\\xe5N\\xc34N\\xc3L9\\r\\xd39\\r\\x8cz\\x0e\\xc4N\\xc3\\xf3\\x04\\x12=u.w\\x1a\\xa6q\\x1af\\xcai\\x98\\xcei\\xe0\\xb8\\xdb\\xdb5c\\xa7aW>\\xe2\\xfd\\xa2\\xf7,w\\x1a\\xa6q\\x1af\\xcai\\x98\\xcei`\\x02k\\xb5\\xd8i\\x18\\x072\\xaa\\xeeY\\xee4L\\xe34\\xcc\\x94\\xd30\\x9d\\xd3\\xc0\\xb1~z\\xcd\\xd8iX\\x87\\x0e\\xb4\\xef\\xb5\\xdci\\x98\\xc6i\\x98)\\xa7a:\\xa7\\x01t\\x8d\\xb8f\\xe84\\xe8ypG{\\xa3\\xca\\x9d\\x86i\\x9c\\x86\\x99r\\x1a\\xa6s\\x1a\\x98\\xc0\\xd8\\x1e:\\r\\xda\\x8e\\xd9\\x81\\x7f>\\xcb\\x9d\\x86i\\x9c\\x86\\x99r\\x1a\\xa6s\\x1a8>\\x89t\\xcd\\xd0i\\xd8\\x9f\\xf9\\xb9\\xd0\\xa9\\xadr\\xa7a\\x1a\\xa7a\\xa6\\x9c\\x86\\xe9\\x9c\\x06F\\xbdEb\\xa7a\\xff\\xce\\x05\\xcdj\\xe5N\\xc34N\\xc3L9\\r\\xd39\\r\\x8cz\\x8b\\x84N\\xc3\\xf3;\\x9fqG\\xb9{\\x96;\\r\\xd38\\r3\\xe54L\\xe74\\xece*\\xa8<\\xcap\\xbbr9c\\x85\\xef\\x9e\\xe5N\\xc34N\\xc3L9\\r\\xd39\\r\\x1c\\x9fD\\xbaf\\xe84\\xec\\xcaG\\x03^\\xea,w\\x1a\\xa6q\\x1af\\xcai\\x98\\xcei`\\x06k\\xb5\\xd0i\\xd8\\x95/E;\\xfb\\xcb\\x9d\\x86i\\x9c\\x86\\x99r\\x1a\\xa6s\\x1a\\x18uU\\t\\x9d\\x86=\\xab\\x91\\xc0\\xdfyy\\x863N\\xc3L9\\r\\xd39\\r\\x8c\\xba\\xaa\\x84N\\xc33\\x9f\\x0b:\\xd3P\\xee4,\\xe34\\xac\\x94\\xd3\\xb0\\x9c\\xd3\\xc0\\xa0\\xab\\xca\\n\\x9d\\x86\\xfdm\\x9f\\x03\\xbcQ\\\\\\xe5N\\xc32N\\xc3J9\\r\\xcb9\\r`G\\xe3\\xb5B\\xa7aW\\xae`_\\xf8\\xbd\\xca\\x9d\\x86e\\x9c\\x86\\x95r\\x1a\\x96s\\x1a8\\xee[{\\xad\\xd0ix*W\\xe0(\\xaer\\xa7a\\x19\\xa7a\\xa5\\x9c\\x86\\xe5\\x9c\\x06\\x06]UV\\xe84<#\\x1cRCW\\xb9\\xd3\\xb0\\x8c\\xd3\\xb0RN\\xc3rN\\x03\\x83\\xae*+t\\x1av\\xe5\\'\\xea9\\xb0\\xca\\x9d\\x86e\\x9c\\x86\\x95r\\x1a\\x96s\\x1a\\x18tUY\\xa1\\xd3\\xb0+\\x97\\x01v\\xf6\\xafr\\xa7a\\x19\\xa7a\\xa5\\x9c\\x86\\xe5\\x9c\\x06\\x8e\\xbb4_+t\\x1a\\x9e\\xcf\\x1c\\xd8\\xb2\\xf7*w\\x1a\\x96q\\x1aV\\xcaiX\\xcei`\\x89\\xd7j+t\\x1a\\x9e\\xdf9\\xe8\\xb1u\\xafr\\xa7a\\x19\\xa7a\\xa5\\x9c\\x86\\xe5\\x9c\\x06\\x06]UV\\xe84<\\xdf\\xf6\\x16?\\xcb\\xb8W\\xb9\\xd3\\xb0\\x8c\\xd3\\xb0RN\\xc3rN\\x03\\x83\\xae*+t\\x1av\\xe5\\xdc\\xc0Y\\xe4U\\xee4,\\xe34\\xac\\x94\\xd3\\xb0\\x9c\\xd3\\xc0\\xa0\\xab\\xca\\n\\x9d\\x06\\xa5\\x83;\\xd8\\xd9\\xbf\\xca\\x9d\\x86e\\x9c\\x86\\x95r\\x1a\\x96s\\x1a8~\\xaav\\xad\\xd0i\\xd8\\x95/\\x8aG\\x86{\\x95;\\r\\xcb8\\r+\\xe54,\\xe74p\\xbc\\x97\\xf3Z\\xa1\\xd3\\xb0+\\x1fh\\x95\\xba\\xca\\x9d\\x86e\\x9c\\x86\\x95r\\x1a\\x96s\\x1a\\x18tUY\\xa1\\xd3\\xb0+\\x17\\x02O W\\xb9\\xd3\\xb0\\x8c\\xd3\\xb0RN\\xc3rN\\x03\\x83\\xae*+t\\x1a\\xf6\\x08\\xd7\\x07\\x9a\\xcf\\xcb\\x9d\\x86e\\x9c\\x86\\x95r\\x1a\\x96s\\x1a\\x18tUY\\xa1\\xd3\\xf0$\\x19\\x05=\\x01W\\xb9\\xd3\\xb0\\x8c\\xd3\\xb0RN\\xc3rN\\x03\\x83\\x0e\\x1b+t\\x1a\\x9e\\xa7Q\\xa0\\x97\\xde\\xbd\\xca\\x9d\\x86e\\x9c\\x86\\x95r\\x1a\\x96s\\x1a8~\\x92z\\xad\\xd0i\\xd8\\x95w\\xd0\\xf7\\xfc^\\xe5N\\xc32N\\xc3J9\\r\\xcb9\\r\\x1c\\xf7*\\xbeV\\xec4\\xacC\\xc1\\xae\\xc9{\\x95;\\r\\xcb8\\r+\\xe54,\\xe74p\\xfcf\\xf4Z\\xb1\\xd3\\xb0\\x0ej\\xf1lp\\xafr\\xa7a\\x19\\xa7a\\xa5\\x9c\\x86\\xe5\\x9c\\x06\\x06\\xfddV\\xec4\\xcc=\\x9f\\x83w\\xa9\\xab\\xdciX\\xc6iX)\\xa7a9\\xa7\\x81\\xe3\\xfe\\xd4\\xd7\\x8a\\x9d\\x86]yGO\\xa3\\xca\\x9d\\x86e\\x9c\\x86\\x95r\\x1a\\x96s\\x1a8\\xde\\xa7\\x7f\\xad\\xd8i\\x98\\x07\\xa3\\x1dB\\xab\\xdciX\\xc6iX)\\xa7a9\\xa7\\x81A?\\x99\\x15;\\r\\xf3\\xa0\\x11\\x9f\\xe1\\xbdW\\xb9\\xd3\\xb0\\x8c\\xd3\\xb0RN\\xc3rN\\x03\\x83~2+v\\x1a\\xe6^\\x9f\\x83\\x93\\xf7\\xab\\xdciX\\xc6iX)\\xa7a9\\xa7\\x81A?\\x99\\x15;\\r\\xe3\\xe9\\xe5\\rr{\\xb9\\xd3\\xb0\\x8c\\xd3\\xb0RN\\xc3rN\\x03\\xc7Y\\xf4Z\\xb1\\xd30\\x8e\\xde\\xc0\\x0e\\xa1U\\xee4,\\xe34\\xac\\x94\\xd3\\xb0\\x9c\\xd3\\xc0\\x03\\xac\\xd5b\\xa7\\xe1\\xd1\\x04\\xe1\\x08W\\x9e\\xe1\\x8c\\xd3\\xb0RN\\xc3rN\\x03\\x83~2+v\\x1a\\xc6!\\n\\xba\\'\\xadr\\xa7a\\x19\\xa7a\\xa5\\x9c\\x86\\xe5\\x9c\\x06\\x06\\xfddV\\xec4\\x8cc\\x9d\\xf1\\x9f}\\xafr\\xa7a\\x19\\xa7a\\xa5\\x9c\\x86\\xe5\\x9c\\x06\\x06\\xfddV\\xec4\\xccG\\x96\\x03\\xdf\\xf6r\\xa7a\\x19\\xa7a\\xa5\\x9c\\x86\\xe5\\x9c\\x06\\x9e`l\\x8f\\x9d\\x86y,A\\xf3y\\xb9\\xd3\\xb0\\x8c\\xd3\\xb0RN\\xc3rN\\x03\\xe8\\xc0\\x7f\\xad\\xd8i\\x98\\x87\\x8e\\xf8\\xdf\\xea^\\xe5N\\xc32N\\xc3J9\\r\\xcb9\\r\\x0c\\xfa\\xc9\\xac\\xd8i\\xd8I\\x06y\\xa9\\xab\\xdciX\\xc6iX)\\xa7a9\\xa7\\x81A?\\x99\\x15;\\r\\xeb\\x10\\xf0\\x9c\\xfa^\\xe5N\\xc32N\\xc3J9\\r\\xcb9\\r\\x0c\\xfa\\xc9\\xac\\xd8i\\xd8k5F\\xab\\xd4r\\xa7a\\x19\\xa7a\\xa5\\x9c\\x86\\xe5\\x9c\\x06\\x9ehl\\x07\\xe6\\xfd\\x144\\xab\\x95;\\r\\xcb8\\r+\\xe54,\\xe74\\x00o\\xe2Z\\xb1\\xd3\\xb0\\x7f\\xe7\\xa0\\xdf\\xd2\\xbd\\xca\\x9d\\x86e\\x9c\\x86\\x95r\\x1a\\x96s\\x1a\\x18\\xf4\\x93Y\\xb1\\xd3\\xb0W\\xa9\\n\\xb4\\x82U\\xee4,\\xe34\\xac\\x94\\xd3\\xb0\\x9c\\xd3\\xc0\\xa0\\x9f\\xcc\\x8a\\x9d\\x86y\\xec\\x00\\x80f\\xb5\\xf2\\x0cg\\x9c\\x86\\x95r\\x1a\\x96s\\x1a\\x80\\xf5{\\xad\\xd8i\\xd8\\x19N\\xd0\\x13\\xc8r\\xa7a\\x19\\xa7a\\xa5\\x9c\\x86\\xe5\\x9c\\x06^`lGN\\xc3\"4\\x9f\\x97;\\r\\xcb8\\r+\\xe54,\\xe74\\x80\\x14~\\xad\\xd8i\\x98G\\xeb\\xa0c\\xd6*w\\x1a\\x96q\\x1aV\\xcaiX\\xcei\\x00\\xea\\xc2\\xb5b\\xa7a\\xff\\xce\\x05\\xf4\\x10Z\\xe5N\\xc32N\\xc3J9\\r\\xcb9\\r\\x0c\\xfa\\xc9\\xac\\xd8ix\\xd6j\\xe8\\xfdy\\xb9\\xd3\\xb0\\x8c\\xd3\\xb0RN\\xc3rN\\x03\\xc8%\\xd7\\x8a\\x9d\\x86]\\xf9\\x8c\\x15\\xbe{\\x95;\\r\\xcb8\\r+\\xe54,\\xe74\\xc8\\x89\\xc6v\\x90\\xe1\\xc6B;\\x01\\xcb\\x9d\\x86e\\x9c\\x86\\x95r\\x1a\\x96s\\x1a$\\xae\\xe3Z\\xb1\\xd3\\xb0\\x93\\xcc\\x8cO\\xb2\\xde\\xab\\xdciX\\xc6iX)\\xa7a9\\xa7A@?\\x99\\x85\\x9c\\x86\\xb5\\xc0\\x89\\xdcU\\xee4,\\xe34\\xac\\x94\\xd3\\xb0\\x9c\\xd3 \\xa0\\x9f\\xcc\\x8a\\x9d\\x86gVCO \\xcb\\x9d\\x86e\\x9c\\x86\\x95r\\x1a\\x96s\\x1a\\x04\\xf4\\x93Y\\xb1\\xd30\\x8f\\x13\\x9d\\xc8]\\xe5N\\xc32N\\xc3J9\\r\\xcb9\\r\\xe0<\\xce\\xb5b\\xa7a\\xff\\xce\\x05\\xed\\x10*w\\x1a\\x96q\\x1aV\\xcaiX\\xcei\\x10\\xd0Ue!\\xa7a/kAz-w\\x1a\\x96q\\x1aV\\xcaiX\\xcei\\x10\\xd0Ue\\xc5N\\xc3\\xfe\\xccA\\xcf\\xcc{\\x95;\\r\\xcb8\\r+\\xe54,\\xe74\\x08\\xe8\\xaa\\xb2b\\xa7\\xe1y\\x1a\\x85F\\xb8r\\xa7a\\x19\\xa7a\\xa5\\x9c\\x86\\xe5\\x9c\\x06\\x89\\xbd\\x89k\\xc5N\\xc3:\\x9a\\x82\\xae\\xa7\\xab\\xdciX\\xc6iX)\\xa7a9\\xa7A\\x1aX\\xb1\\xc4N\\xc3:\\xb8\\xa1\\x1d\\xbf\\xe5N\\xc32N\\xc3J9\\r\\xcb9\\r\\x02\\xba\\xaa\\xac\\xd8iX\\xc78\\xe1\\xd8^\\x9e\\xe1\\x8c\\xd3\\xb0RN\\xc3rN\\x83\\x80\\xae*+v\\x1a\\xf6\\xef\\xbc\\xc5;e\\xefU\\xee4,\\xe34\\xac\\x94\\xd3\\xb0\\x9c\\xd3 \\xa0\\xab\\xca\\x8a\\x9d\\x86\\xe7\\td\\xdc\\x1b\\xf7^\\xe5N\\xc32N\\xc3J9\\r\\xcb9\\rB`l\\x8f\\x9d\\x86\\xbdJ\\x05\\x7f\\xf6\\xbd\\xca\\x9d\\x86e\\x9c\\x86\\x95r\\x1a\\x96s\\x1a$\\xde\\xc5z\\xad\\xd8i\\xd8I\\x86\\xd0\\x1b\\xc5r\\xa7a\\x19\\xa7a\\xa5\\x9c\\x86oW\\xbfW\\x0eV,\\xb1\\xd3\\xf0\\xf5\\xa6\\x01\\xfc\\xce\\xcb\\x9d\\x86e\\x9c\\x86\\x95r\\x1a\\x96s\\x1a\\x04tUY\\xb1\\xd3\\xf0\\xacX@\\xbf\\xd7U\\xee4,\\xe34\\xac\\x94\\xd3\\xb0\\x9c\\xd3 \\xa0\\xab\\xca\\x8a\\x9d\\x86\\xbdJ\\x9d(\\xc9\\x94;\\r\\xcb8\\r+\\xe54,\\xe74\\x08\\x83\\xb1=v\\x1a\\xe6\\xa1\\xa8\\x93\\xce*w\\x1a\\x96q\\x1aV\\xcaiX\\xcei\\x90\\xb8\\x93\\xe7\\xb5b\\xa7a\\xe2\\xcex\\xab\\xdciX\\xc6iX)\\xa7a9\\xa7\\x01\\xf8\\xce\\xd7\\x8a\\x9d\\x86\\xe7\\t$\\xcap\\xe5N\\xc32N\\xc3J9\\r\\xcb9\\r\\x02\\xba\\xaa\\xac\\xd8i\\xd8\\x9f9\\x10\\xd3\\xefU\\xee4,\\xe34\\xac\\x94\\xd3\\xb0\\x9c\\xd3 \\xa0\\xab\\xca\\x8a\\x9d\\x86\\xfd;\\xef\\xf1\\xbf\\xd5\\xbd\\xca\\x9d\\x86e\\x9c\\x86\\x95r\\x1a\\x96s\\x1a$>S}\\xad\\xd8ix\\xecL\\xb4\\x1f\\xae\\xdciX\\xc6iX)\\xa7a9\\xa7A\\xe27&\\xd7\\x8a\\x9d\\x86\\xf9WNg\\x96;\\r\\xcb8\\r+\\xe54,\\xe74\\x08\\xea\\xaa\\x12;\\r\\xebh\\rt7^\\xe5N\\xc32N\\xc3J9\\r\\xcb9\\r\\x82\\xba\\xaa\\xc4N\\xc3:N\\x89O\\xbe\\xdc\\xab\\xdciX\\xc6iX)\\xa7a9\\xa7APW\\x95\\xd8iX\\x07\\x12\\xd3\\xefU\\xee4,\\xe34\\xac\\x94\\xd3\\xb0\\x9c\\xd3 \\xf1Y\\xcbk\\xc5N\\xc3\\x9e\\xd5\\x90\\xaf\\xb6\\xca\\x9d\\x86e\\x9c\\x86\\x95r\\x1a\\x96s\\x1a$\\xd6U\\xae\\x15;\\rO\\xe5hoT\\xb9\\xd3\\xb0\\x8c\\xd3\\xb0RN\\xc3rN\\x83\\xa0\\xae*\\xb1\\xd3\\xf0\\xb5C\\x08$\\x99r\\xa7a\\x19\\xa7a\\xa5\\x9c\\x86\\xe5\\x9c\\x06A]Ub\\xa7a\\x1e<\\xe2=E\\xf7*w\\x1a\\x96q\\x1aV\\xcaiX\\xcei\\x10\\xd4U%v\\x1av\\x92\\x99pV+\\xcfp\\xc6iX)\\xa7a9\\xa7\\x01|w\\xaf\\x15;\\r\\xcf\\xe9L\\xd0\\x13p\\x95;\\r\\xcb8\\r+\\xe54,\\xe74H\\x07k\\xb5\\xd8i\\xd8\\xb3\\x1axfy\\xafr\\xa7a\\x19\\xa7a\\xa5\\x9c\\x86\\xe5\\x9c\\x06A]Ub\\xa7a\\x1d\\x83\\x808\\xb5\\xca\\x9d\\x86e\\x9c\\x86\\x95r\\x1a\\x96s\\x1a\\xc0\\xee\\xb6k\\x85N\\x83\\x9e\\x07\\x01\\xbb\\xe6^\\xe5N\\xc32N\\xc3J9\\r\\xcb9\\r`\\x17\\xeb\\xb5B\\xa7\\xe1\\xabc\\x16\\xda!T\\xee4,\\xe34\\xac\\x94\\xd3\\xb0\\x9c\\xd3 \\xf1\\t\\x85k\\x85N\\xc3\\xae\\\\\\x15\\xa8$\\xab\\xdciX\\xc6iX)\\xa7a9\\xa7A\\xe2\\x14~\\xad\\xd0ix\\xfaF1\\xea\\x92V\\xee4,\\xe34\\xac\\x94\\xd3\\xb0\\x9c\\xd3\\x00:s_+t\\x1a\\xbe*\\x07^\\xea*w\\x1a\\x96q\\x1aV\\xcaiX\\xcei\\x10\\xd4U%t\\x1av\\xe5\\xe7Do\\x1a\\xca\\x9d\\x86e\\x9c\\x86\\x95r\\x1a\\x96s\\x1a\\x04uU\\t\\x9d\\x86\\xa7W\\x18\\xe84u\\xafr\\xa7a\\x19\\xa7a\\xa5\\x9c\\x86\\xe5\\x9c\\x06A]Ub\\xa7aW\\xbe\\xe2s\\xdb\\xf7*w\\x1a\\x96q\\x1aV\\xcaiX\\xcei\\x10t\\xf2\\x1e9\\rz\\xa27\\x8a\\xe5N\\xc32N\\xc3J9\\r\\xcb9\\r\\x82N\\xde\\xc7NC;VGc{\\xb9\\xd3\\xb0\\x8c\\xd3\\xb0RN\\xc3rN\\x83\\xa0\\x93\\xf7\\xa1\\xd3\\xb0+\\x1f\\x13\\x9d\\xce,w\\x1a\\x96q\\x1aV\\xcaiX\\xcei\\x90xw\\xdb\\xb5b\\xa7\\x81\\x8eFh\\x9fL\\xb9\\xd3\\xb0\\x8c\\xd3\\xb0RN\\xc3rN\\x83\\xc4\\xab\\xedk\\xc5N\\xc3\\xfe\\xcc\\xc13\\xcb{\\x95;\\r\\xcb8\\r+\\xe54,\\xe74\\x08:y\\x1f;\\r\\xed\\x90\\x89\\xde.\\x95;\\r\\xcb8\\r+\\xe54,\\xe74\\x08:y\\x1f;\\rm\\'\\x19\\xb4\\xef\\xb5\\xdciX\\xc6iX)\\xa7a9\\xa7A\\xd0\\xc9\\xfb\\xd8i8\\xf7\\xac\\xa6h>/\\xcfp\\xc6iX)\\xa7a9\\xa7A\\xe2\\xd9\\xf9Z\\xb1\\xd3\\xf0\\xf4\\x04\\x84#\\\\u\\x86\\xdbU\\xbd\\x87\\xb8\\xaf\\xff\\xf8o\\xaf\\xfdu\\xf9{\\xf1\\xf1\\xe3\\xd7\\xd7\\xa5\\xae\\xfa\\xfdS\\x8f\\xf7\\xca\\xbcn)-\\xbf\\xd9\\xf23Q\\xeeu\\xf9{\\xf9\\xf1:\\xfdu\\xa9\\xff\\xf0\\x01\\x9d~\\xbfn)-\\x9fl\\xf9\\x99<\\xf7\\xba\\xfc\\xad|p\\x0c\\xffu\\xa9+\\xbf\\xcd\\xf8M\\xc5\\xfd\\xba\\xa5\\xb4|\\xb6\\xe5gB\\xdd\\xeb\\xf2\\xf7\\xf2\\xe3\\x19\\xfeu\\xa9+\\xff\\x04\\xcd$\\xef\\xd7-\\xa5\\xe5\\x8b-?\\x93\\xec^\\x97\\xbf\\x97\\x1f\\x0f\\xf9\\xafK\\xfd\\x93I\\x05\\xbb\\xc5^\\xb7\\x94\\x96\\xdfm\\xf9\\x99x\\xf7\\xba\\xfc\\xbd\\xfcx\\x1d\\xf7\\xba\\xd4\\x95?$\\x86m\\xee\\xd7-\\xa5\\xe5\\xab-?\\x93\\xf1^\\x97\\xbf\\x97\\x1f/\\xe6^\\x97\\xba\\xf2E\\xe3\\xa7\\x1d\\xf7\\xeb\\x96\\xd2\\xf2\\x87-?\\x13\\xf4^\\x97\\xbf\\x97\\x1f\\xcf\\xfa\\xafK\\xfd\\xd0\\x07\\x8e}\\xde\\xaf[J\\xcb\\x9f\\xb6\\xfcL\\xda{]\\xfe^>\\x9c\\xf7A\\xde#\\xe4\\xf5\\xbcn)-\\x7f\\xd9\\xf23\\x91\\xefu\\xf9\\xbf\\x96\\xdf\\xe3sz\\xd7\\xebR\\xdf\\x0ey\\xc5\\x07\\xc3\\xee\\xd7-\\x95\\xe57\\x9b\\xfaR\\xb6\\xc3\\xeb\\xf2\\xf7\\xf2\\xe3\\x05\\xde\\xebR_~\\x8f\\xc5\\x9b\\xfbuKi\\xf96\\xf5\\xa5\\x80\\x87\\xd7\\xe5\\xef\\xe5\\xc7\\xab\\xbc\\xd7\\xa5\\xae\\xfc\\x89\\xf0\\xc9\\xd7-\\xa5\\xe5\\xdb\\xd4\\x97R\\x1e^\\x97\\xbf\\x97\\x8f\\xe6\\xfd\\xd0y\\xd8\\xe5\\xef\\x85\\r\\n\\xbd\\xe5\\xd0\\xc3\\xfe+l\\xeaKQ\\x0f\\xaf\\xcb\\xdf\\xcbG\\xf3~\\x8c=\\xec\\x91\\x7f\\xc0\\xd0[\\xae=\\xec\\xbf\\xc2\\xa6\\xbe\\x94\\xf7\\xf0\\xba\\xfc\\xbd|4\\xf2\\x87\\xe2\\xc3\\x97-\\r\\xf6\\x1a\\xbdn)-\\xdf\\xa6\\xbe\\x14\\xfa\\xf0\\xba\\xfc\\xbd|\\xb4\\xe2\\x0b\\xd9\\x87\\xafF{\\xe0\\x80\\xef\\xeb\\x96\\xd2\\xf2m\\xeaK\\xc9\\x0f\\xaf\\xcb\\xdf\\xcaoh\\xc5\\x17\\xda\\x0f_\\xfb*\\xc1;\\xf9\\xd7-\\xa5\\xe5\\xdb\\xd4\\x97\\xe2\\x1f^\\x97\\xbf\\x97\\x8f\\xe6\\xfd\\x10\\x80x\\x86\\xbe\\x13l\\xbaz\\xddRZ\\xbeM})\\x03\\xe2u\\xf9{\\xf9p\\xde\\x07\\xa9O&\\\\\\xf2\\x943\\x10\\xfb\\xaf\\xb0\\xa9/\\x05A\\xbc.\\x7f/\\x1f\\x8e\\xfc \\xf5\\xcd\\x153X\\xf7\\xeb\\x96\\xca\\xf2\\xc9\\xa6\\xbe\\x94\\x06\\xf1\\xba\\xfc\\xbd|\\xb4\\xe2\\x8b=\\x88u\\x8c\\x05v\\x9f\\xbdn)-\\xdf\\xa6\\xbe\\x14\\t\\xf1\\xba\\xfc\\xbd|\\xb4\\xe2\\x8bQ\\x88=\\xf4-\\xd0,\\xfeuKi\\xf96\\xf5\\xa5\\\\\\x88\\xd7\\xe5\\xef\\xe5\\xa3y?\\x96!\\xd6\\x8e=\\xa0S\\xd5\\xeb\\x96\\xd2\\xf2m\\xeaK\\xe1\\x10\\xaf\\xcb\\xdf\\xcbG\\xf3~\\xccC\\xec\\xf2{\\x0c\\xb5\\xdf\\xaf[J\\xcb\\xb7\\xa9/%D\\xbc.\\x7f+?n\\xa5y\\xbd.u{n\\xd7\\x8c{\\xae\\xdf\\xaf[J\\xcb\\xb7\\xa9/\\xc5D\\xbc.\\x7f/\\x1f\\xad\\xf8b(\\xe2A\\x80\\xc0\\xcb\\xdc\\xd7-\\xa5\\xe5\\xdb\\xd4\\x97\\xb2\"^\\x97\\xbf\\x97\\x8fV|\\xb1\\x16\\xb1\\x8e\\x8e\\xd7\\xfb\\xe5\\\\\\xc4\\xfe+l\\xeaK\\x81\\x11\\xaf\\xcb\\xdf\\xcbG\\xf3~LF\\xec\\xcc\\xbf@{\\xc2\\xd7-\\xa5\\xe5\\xdb\\xd4\\x97R#^\\x97\\xbf\\x97\\x0f\\xe7}tN\\xb6\\xc5\\'\\xe8\\xef\\xd7-\\xa5\\xe5\\xdb\\xd4\\x97\\xa2#^\\x97\\xbf\\x97\\x0fG~p\\xd0b,\\xb0\\x01\\xfbuKe\\xf9lS_\\xca\\x8fx]\\xfeV~<\\x8b]\\xafK\\xa3\\x93\\xf1h\\xe8+\\'$\\xf6_aS_\\n\\x91x]\\xfe^>Z\\xf1!Fb\\x0e8\\xf1\\x95;\\x12\\xfb\\xaf\\xb0\\xa9/%I\\xbc.\\x7f/\\x1f\\xcd\\xfb\\xb1%\\xb1\\x8e]$\\x1a\\xf9\\xcb1\\x89\\xfdW\\xd8\\xd4\\x97\\xe2$^\\x97\\xbf\\x97\\x8f\\x86\\xbe\\x18\\x94\\xf8\\xca\\xfch\\xc5W.J\\xec\\xbf\\xc2\\xa6\\xbe\\x94)\\xf1\\xba\\xfc\\xbd|\\xb4\\xe4A\\xaa\\xc4\\t\\x1e\\x0e\\xdf\\xaf[J\\xcb\\xb7\\xa9/\\x05K\\xbc.\\x7f/\\x1f-y\\x10-\\xb1\\xd7\\xfb\\xe8%W\\xb9-\\xb1\\xff\\n\\x9b\\xfaR\\xba\\xc4\\xeb\\xf2\\xf7\\xf2\\xd1\\xc4\\x87|\\x89\\x0e\\xf6\\xc3\\xdc\\xaf[J\\xcb\\xb7\\xa9/EL\\xbc.\\x7f+\\x1ft\\rx]\\xea\\xcbW\\xf8\\xb4\\xa7\\\\\\x99\\xd8\\x7f\\x85M})g\\xe2u\\xf9{\\xf9h\\xc9\\x13K\\x13O\\x97\\xe2\\xf8\\t\\xc9\\xfd\\xba\\xa5\\xb4|\\x9b\\xfaR\\xd8\\xc4\\xeb\\xf2\\xf7\\xf2\\xd1\\x92\\'\\xe6&\\xc6\\x8e=\\x1d\\xad\\xf7\\xcb\\xbd\\x89v\\x8aM})q\\xe2u\\xf9{\\xf9h\\xc9\\x13\\x9b\\x13\\xe3\\xd0\\x06\\xce[\\xben)-\\xdf\\xa6\\xbe\\x14;\\xf1\\xba\\xfc\\xbd|4\\xef#xb\\xcc\\xf8\\xf9\\xd8\\xfd\\xba\\xa5\\xb4|\\x9b\\xfaR\\xf6\\xc4\\xeb\\xf2\\xf7\\xf2\\xd1\\xbc\\x1f\\xeb\\x13c\\xaf\\xf7AO\\xa8\\xd7-\\xa5\\xe5\\xdb\\xd4\\x97\\x02(^\\x97\\xbf\\x95\\x1f\\xff\\x90\\xaf\\xd7\\xa5~\\xe4G\\r\\xda_\\xb7\\x94\\x96oS_J\\xa1x]\\xfe^>Z\\xf2 \\x87\\x82:8\\xad\\xf2\\xba\\xa5\\xb4|\\x9b\\xfaR\\x14\\xc5\\xeb\\xf2\\xf7\\xf2\\xd1\\x92\\x07a\\x14r\\xc6\\xbb\\xa1\\xee\\xd7-\\xa5\\xe5\\xdb\\xd4\\x97\\xf2(^\\x97\\xbf\\x97\\x8f\\xe6}$R\\xcc\\x0e\\xce0\\xbcn)-\\xdf\\xa6\\xbe\\x14J\\xf1\\xba\\xfc\\xbd|4\\xef#\\x96B\\x184m\\x7f\\xddRZ\\xbeM})\\x99\\xe2u\\xf9{\\xf9p\\xe4\\x07\\xcf\\xfa\\xd6\\x19\\xef\\x86\\xba_\\xb7\\x94\\x96oS_\\x8a\\xa7x]\\xfe^>Z\\xf1!\\xa0bLp\\x98\\xe3uKe\\xf9\\xdd\\xa6\\xbe\\x94Q\\xf1\\xba\\xfc\\xbd|\\xb4\\xe2CJ\\x854\\xe0m\\xbdn)-\\xdf\\xa6\\xbe\\x14T\\xf1\\xba\\xfc\\xad|\\xd0{\\xe0u\\xa9o\\x8b\\x88\\xe8\\xa9\\xd7-\\xa5\\xe5\\xdb\\xd4\\x97\\xd2*^\\x97\\xbf\\x97\\x8f\\xe6}\\xe4U\\xec\\xb9\\x02\\x96_\\x9f\\xfa\\xbaM})\\xb2\\xe2u\\xf9{\\xf9h\\xe4Gh\\x85\\x12|\\xcdQ\\xaeV\\xec\\xbf\\xc2\\xa6\\xbe\\x94[\\xf1\\xba\\xfc\\xbd|\\xb4\\xe2Cr\\x05\\xb5\\xf8\\xb4\\xe3\\xfd\\xba\\xa5\\xb4|\\x9b\\xfaRx\\xc5\\xeb\\xf2\\xf7\\xf2\\xd1\\x8a/\\xe6+\\x1e\\xa6\\x06f\\xfer\\xbfb\\xff\\x156\\xf5\\xa5\\x04\\x8b\\xd7\\xe5\\xef\\xe5\\xa3y?6,\\xc6\\xb1$\\xde\\ru\\xbfn)-\\xdf\\xa6\\xbe\\x14c\\xf1\\xba\\xfc\\xbd|4\\xef\\xc7\\x90\\xc58\\x14\\xef\\xea,\\x97,\\xf6_aS_\\xca\\xb2x]\\xfeV~\\xfc\\xce\\xe2z]\\xea\\xca\\x97\\x13>\\xed)\\xe7,\\xf6_aS_\\n\\xb4x]\\xfe^>Z\\xf1\\xc5\\xa4\\xc5x\\xde\\xf2\\xc0/\\x7f}\\xeaS\\x9b\\xfaR\\xaa\\xc5\\xeb\\xf2\\xf7\\xf2\\xd1\\x8a/v-\\xc6q\\xcex\\x1b\\xf0\\xfd\\xba\\xa5\\xb4|\\x9b\\xfaR\\xb4\\xc5\\xeb\\xf2\\xf7\\xf2\\xd1\\xbc\\x1f\\xe3\\x16\\xe3\\xa0\\x11\\xb7L\\xbf_\\xb7\\x94\\x96oS_\\xca\\xb7x]\\xfe^>\\x9a\\xf7c\\xe1b\\x1c\\rt\\xb6\\xb8_\\xb7\\x94\\x96oS_\\n\\xb9x]\\xfe^>\\x1a\\xf9c\\xe6B\\x1f\\x8c\\x11~\\xf9\\xebS\\x9f\\xda\\xd4\\x97\\x92.^\\x97\\xbf\\x97\\x8fV|\\xb1u\\xb1\\x7f\\xfb\\x0c\\xec\\xaa\\xd7-\\xa5\\xe5\\xdb\\xd4\\x97\\xe2.^\\x97\\xbf\\x95\\x0f\\xba\\xd3\\xbc.\\xf5\\xbf}\\xbc\\xaf\\xaf\\\\\\xbc\\xd8\\x7f\\x85M})\\xf3\\xe2u\\xf9{\\xf9h\\xde\\x8f\\xd5\\x8bq\\xcc\\x16\\xbf\\x15\\xbd_\\xb7\\x94\\x96oS_\\n\\xbex]\\xfe^>\\x9a\\xf7c\\xfab\\x87^\\xd4H\\xf6uKi\\xf96\\xf5\\xa5\\xf4\\x8b\\xd7\\xe5\\xef\\xe5\\xc3\\x91\\x1f\\xa4\\xbe\\x89\\xb4\\x97\\xd7-\\xa5\\xe5\\xdb\\xd4\\x97\"0^\\x97\\xbf\\x97\\x8fV|\\x08\\xc1\\xd8\\xd9\\x0e~\\xfa\\xf5\\xa9o\\xd8\\xd4\\x97r0^\\x97\\xbf\\x95\\xbf\\xd0\\x97?\\x960\\xd6q\\xb6x\\x0f\\xfc\\xfd\\xba\\xa5\\xb4|\\x9b\\xfaR\\x18\\xc6\\xeb\\xf2\\xf7\\xf2Q\\xe8E\\x1c\\xc6b\\xb8\\xe4)\\xf70\\xf6_aS_J\\xc4x]\\xfe^>\\n\\xbd\\xc8\\xc4 \\x8a\\x0f~\\xde\\xaf[J\\xcb\\xb7\\xa9/\\xc5b\\xbc.\\x7f/\\x1f\\xc5\\x1e\\x04c\\x0c\\xfc\\x9a\\xa3\\\\\\xc6\\xd8\\x7f\\x85M})\\x1b\\xe3u\\xf9\\xbf\\x96\\xaf\\xf1\\xa5\\xd7\\xebR\\xbf\\x9f_\\x81\\x0b\\xf2\\xba\\xa5\\xb4|\\x9b\\xfaR@\\xc6\\xeb\\xf2\\xf7\\xf2Q\\xec\\x89\\x89\\x8c\\xe74\\x07\\x1e\\xfa\\xeaS\\xdf\\xb0\\xa9/\\xa5d\\xbc.\\x7f/\\x1f\\x8e\\xfc\\xe0\\r\\xef^\\xf1\\xc4\\xbd\\xda^\\xb7\\x94\\x96oS_\\x8a\\xcax]\\xfe^>\\x1c\\xf9\\xc1\\x1b\\xde\\x85@\\xf2\\xd7-\\xa5\\xe5\\xdb\\xd4\\x97\\xf22^\\x97\\xbf\\x97\\x8fb\\x0f\\x123z\\x07b\\xc6\\xeb\\x96\\xd2\\xf2m\\xeaK\\xa1\\x19\\xaf\\xcb\\xdf\\xcbG\\x0f\\xba\\x11\\x9b\\xd1\\x17|\\xcdQ\\xeef\\xb4s\\xda\\xd4\\x97\\x923^\\x97\\xbf\\x97\\x8f\\x1ew ;\\x83\\t\\xf6\\xee(\\xc73\\xf6_aS_\\x8a\\xcfx]\\xfe^>\\x9a\\xf7c@\\xe3\\xff\\xaf\\xed^V\\xa5In-\\x00\\xbfQQK\\xaa\\x8a\\xcb\\xc4\\x93\\xc8\\x17\\xf1\\xc0`\\xf0\\xc0p\\x8e\\xe1\\xbc\\xfe\\xc9\\xdc\\xc6b\\xeb\\x97\\x96A\\x03\\x8d\\x9an\\x14\\xbd\\x11U\\x95\\xa9\\xbc\\xc4\\xfa\\x1e\\xc2\\x97>\\xe0n\\x174\\xee?\\xe1\\xa7\\xbe\\x92\\xa1a\\xe5\\xbf\\xda\\xa7\\xe9\\r\\xb9\\xa2\\xb1\\x9ewz\\xd9o\\xbf\\x9d\\xd1\\xb8\\xff\\x84\\x9f\\xfaJ\\x90\\x86\\x95\\xffn\\x9f\\x1d\\xf9SJ\\xe3\\xe7\\xd5\\xa6\\x1c\\xbb\\xbelIk\\xfb~\\xea+i\\x1aV\\xfe\\xbb}6\\xf3\\xa7\\x9e\\xc6\\xbfws\\xd0O\\xbf\\x7f\\xea[~\\xea+\\x91\\x1aV\\xfe\\xbb}v\\xbb#E5\\x9e]\\x9c\\xe4\\xff~\\xd9\\x92\\xd6\\xf6\\xfd\\xd4Wr5\\xac\\xfcw\\xfb\\xec\\xbc\\x9f\\xca\\x1a\\xcf\\xd0\\xbb\\xf9\\x97\\xbf\\x7f\\xea[~\\xea+\\xe1\\x1aV\\xfe\\xbb}v\\xde\\xcfy\\x8d\\xf7\\xeb\\x9e\\xec\\xd9\\x9b]\\xed\\xbe\\xc6\\xfd\\'\\xfc\\xd4W\\x126\\xac\\xfcW\\xfby\\x08\\xcf\\xb1\\xd2\\x18TK\\x0e\\x17\\x97-im\\xdfO}%f\\xc3\\xca\\x7f\\xb7\\xcf\\xae\\xf8rh\\xe3\\xfd\\xd2w\\x1e\\xefy\\xd9\\x92\\xce\\xf6\\xb7\\x9f\\xfaJ\\xd6\\x86\\x95\\xffn\\x9f]\\xf1\\xe5\\xda\\xc6\\xfb\\x05ro\\xfc\\xb2%\\xad\\xed\\xfb\\xa9\\xaf\\x04nX\\xf9\\xef\\xf6\\xd9y?\\'7\\xde/\\xe1\\xbb9\\xda\\xcd\\x8d\\xfbO\\xf8\\xa9\\xaf\\xa4nX\\xf9\\xef\\xf6\\xd9y?u7\\x9e\\xd0\\xaa\\x0f\\xf1ulIk\\xfb~\\xea+\\xd1\\x1bV\\xfe\\xbb}v\\xe4O\\xf1\\x8d\\'\\xb0NiPm\\xbb\\xbeq\\xff\\t?\\xf5\\x95\\xfc\\r+\\xff\\xdd>\\xbb\\xe2K\\x05\\x8eg\\x0b\\xf3\"*\\xaa-im\\xdfO}%\\x84\\xc3\\xca\\x7f\\xb5O\\xe3\\x0bR\\x86\\xe3\\xf9\\xf4?t\\x17g\\xbb\\xc3q\\xff\\t?\\xf5\\x95$\\x0e+\\xff\\xdd>;\\xf1\\xa5\\x16\\xc7s\\xa7\\xf7\\x93_%]\\xb6\\xa4\\xb5}?\\xf5\\x958\\x0e+\\xff\\xdd>=\\xf4\\x91\\xe4\\x16\\x11\\xfa^_\\xbb\\xc8q\\xff\\t?\\xf5\\x95L\\x0e+\\xff\\xdd>\\xbb\\xe4IU\\x8e\\x9f\\xf8\\x02\\x1aP\\xdf\\xcer\\xdc\\x7f\\xc2O}%\\x98\\xc3\\xca\\x7f\\xb7\\xcf.yR\\x9a\\xe3\\x87?\\xa7\\x17\\xbc\\xfd6\\x07\\xbc\\xcd\\x81\\x9a\\xcd\\x81`s\\x0c\\x96\\xde\\x80\\xd4\\xe6xnw|\\xd8\\x15\\x1f\\xfam\\x0ex\\x9b\\x035\\x9b\\x03\\xc1\\xe6\\x18,\\xbd\\x01\\xa9\\xcd\\xf1\\x93\\xdb\\xc3\\xb63\\xa0\\xdf\\xe6\\x80\\xb79P\\xb39\\x10l\\x8e\\x91\\xdf\\xb7<V\\x1aou\\xce\\xfc2\\xe1\\xb2%\\xad\\xed\\xabo\\xbf4\\xf5!\\xd8\\x1c#\\x7fM\\xebXi\\xb2\\x95\\x89\\xdd\\xe8F\\xbf\\xcd\\x01os\\xa0fs \\xd8\\x1c\\x84\\x83=V\\x1a\\xdb\\'wH.[\\xd2\\xda\\xfe\\xd7\\xb7_\\x9a\\xfa\\x10l\\x8e\\xc1\\xd2\\x1b\\x90\\xda\\x1c?,<\\xc1TmIk\\xfb\\xc3\\xb7_\\x9a\\xfa\\x10l\\x8e\\xc1\\xd2\\x1b\\x90\\xda\\x1c\\xcfo\\x9f\\xa65\\xa2\\xdf\\xe6\\x80\\xb79P\\xb39\\x10l\\x8e\\x91\\xbf\\xa1z\\xac4\\xee\\xe5Q6\\xf3\\xa3\\xdf\\xe6\\x80\\xb79P\\xb39\\x10l\\x8e\\xf1!\\x0f\\xb9\\x90\\xda\\x1c?\\x87\\xbe|\\xe3\\xe7eKZ\\xdb\\xdf\\xbe\\xfd\\xd2\\xd4\\x87`s\\x0c\\x96\\xde\\x80\\xdc\\xe6\\xf8y\\xb3\\x8b\\x0c\\xbd\\xe8\\xb79\\xe0m\\x0e\\xd4l\\x0e\\x04\\x9b\\x83d\\x10\\x1d+M\\xd2\\x1a\\xd9K\\xad\\xe8\\xb79\\xe0m\\x0e\\xd4l\\x0e\\x04\\x9bc\\xb0\\xf4\\x06\\xe46\\xc7\\x93\\xd7\\xc7nt\\xa3\\xdf\\xe6\\x80\\xb79P\\xb39\\x10l\\x8e\\x91\\xefG>V\\x9a\\xbd\\xdb\\xc3\\x86\\xde~\\x9b\\x03\\xde\\xe6@\\xcd\\xe6@\\xb09F\\xaec\\x1f+M\\x86^:\\xf3\\xf7\\xdb\\x1c\\xf06\\x07j6\\x07\\x82\\xcd1Xz\\x03r\\x9b\\xe3i?\\xdf\\xf8y\\xd9\\x92\\xd6\\xf6\\xfd\\xd4W\\xb39\\x10l\\x8e\\xc1\\xd2\\x1b\\x90\\xdb\\x1c\\xf7\\xd4\\xf7f9\\xbd\\xe8\\xb79\\xe0m\\x0e\\xd4l\\x0e\\x04\\x9bc\\xb0\\xf4\\x06\\xe46\\xc7za\\xe5\\xc9\\xc6\\x97-im\\xdfO}5\\x9b\\x03\\xc1\\xe6\\x18\\x83\\x1e\\xf9\\xd9\\xd4\\xc7\\xc0e[\\xd2\\xda\\xbe\\x9f\\xfaj6\\x07\\x82\\xcdAp\\xbdc\\xa5\\xf1\\xd3\\xa7wz\\xd1os\\xc0\\xdb\\x1c\\xa8\\xd9\\x1c\\x086\\xc7`\\xe9\\r\\xc8m\\x8e\\xbb}e\\xa9M\\xe8\\xb79\\xe0m\\x0e\\xd4l\\x0e\\x04\\x9bc\\xb0\\xf4\\x06\\xe46\\xc7}\\xe8\\x03{\\xca\\x83~\\x9b\\x03\\xde\\xe6@\\xcd\\xe6@\\xb09\\x06Ko@ns\\xdc\\xed/\\x96\\xdd\\x81~\\x9b\\x03\\xde\\xe6@\\xcd\\xe6@\\xb09F\\xbe3\\xe5Xil\\x9f\\xde\\xe7G\\xbf\\xcd\\x01os\\xa0fs \\xd8\\x1c#\\x7fZ}\\xac4\\xb9\\xdb\\xc3x\\x02\\xf4\\xdb\\x1c\\xf06\\x07j6\\x07\\x82\\xcd1Xz\\x03\\x98\\xcd\\xf1\\x01\\xb1\\xd7mIk\\xfb~\\xea\\xab\\xd9\\x1c\\x086\\xc7`\\xe9\\r\\xc8m\\x8e\\xbb}a\\xe9\\r\\xe8\\xb79\\xe0m\\x0e\\xd4l\\x0e\\x04\\x9bc\\xb0\\xf4\\x06\\xe46\\xc7z\\xbd7\\x8b/@\\xbf\\xcd\\x01os\\xa0fs \\xd8\\x1cc\\xd2#?\\xcb\\xeb\\xa3\\x11\\xe5\\xe8\\xb79\\xe0m\\x0e\\xd4l\\x0e\\x04\\x9bc\\xe4\\'\\xf1c\\xa5\\xc9\\xa1/\\x7f\\x07\\xfe\\xb2%\\xad\\xed\\xfb\\xa9\\xaffs \\xd8\\x1c\\x83\\xa57\\x80\\xd9\\x1c\\x1f\\xba\\x81\\x1d\\xfd6\\x07\\xbc\\xcd\\x81\\x9a\\xcd\\x81`s\\x0c\\x96\\xde\\x00fs|\\xf9\\xd4\\xd7os\\xc0\\xdb\\x1c\\xa8\\xd9\\x1c\\x086\\xc7`\\xe9\\rHm\\x8e\\x87#\\xd4\\xc5\\xa6\\xbe~\\x9b\\x03\\xde\\xe6@\\xcd\\xe6@\\xb09F\\xbe/\\xe9X\\xe9\\x1f\\xed\\xe3\\x9e\\xfa\\xd8V&\\xf4\\xdb\\x1c\\xf06\\x07j6\\x07\\x82\\xcd1\\x16\\xbb\\xe2Km\\x8e\\xbb}Q\\xfa\\x90\\xab\\xdf\\xe6\\x80\\xb79P\\xb39\\x10l\\x8e\\xc1\\xd2\\x1b\\x90\\xda\\x1cO\\xfbdP\\xbclIk\\xfb~\\xea\\xab\\xd9\\x1c\\x086\\xc7`\\xe9\\rHm\\x8e\\x9f/?\\xdb\\xc9\\x85~\\x9b\\x03\\xde\\xe6@\\xcd\\xe6@\\xb09\\xc6b\\xe7\\xfd\\xd4\\xe6\\xb8\\xdb\\xffN\\x96\\xda\\x84~\\x9b\\x03\\xde\\xe6@\\xcd\\xe6@\\xb09F\\xfe\\xaa\\xc6\\xb1\\xd2?\\xda\\x97\\xd7\\xfd\\x19\\xb3\\x99\\xbf\\xdf\\xe6\\x80\\xb79P\\xb39\\x10l\\x8e\\x91\\xe7\\x90\\x1c+\\r\\xed\\xab\\xf2#\\x7f\\xff\\xd4\\xe7m\\x0e\\xd4l\\x0e\\x04\\x9bc\\xb0\\xe8\\x12\\xa46\\xc7s\\xe8[\\xfc\\xb7\\xdf?\\xf5y\\x9b\\x035\\x9b\\x03\\xc1\\xe6\\x18,\\xba\\x04\\xa9\\xcdq\\x7f\\xfaoe\\x02;\\xfam\\x0ex\\x9b\\x035\\x9b\\x03\\xc1\\xe6\\x18,\\xba\\x04\\xa9\\xcd\\xf1\\xfc\\xf6\\x07\\xdb\\xc0\\x8e~\\x9b\\x03\\xde\\xe6@\\xcd\\xe6@\\xb09\\xc6fG\\xfe\\xd4\\xe6\\xb8\\xdb\\xffl\\x06\\xd1\\xa2\\xdf\\xe6\\x80\\xb79P\\xb39\\x10l\\x8e\\x91\\xdf\\xb4?V\\x1a\\xda\\x9f\\x1f\\xb6\\x9b\\x03\\xfd6\\x07\\xbc\\xcd\\x81\\x9a\\xcd\\x81`s\\x0c\\x16\\\\\\x83\\xd4\\xe6\\xb8\\xdb\\x977}\\xca\\xd3os\\xc0\\xdb\\x1c\\xa8\\xd9\\x1c\\x086\\xc7d\\xc15Hm\\x8e\\xfb\\xc8?\\xc8\\xef\\xe5\\xb2%\\xad\\xed\\xfb\\xa9\\xaffs \\xd8\\x1c\\x93\\x05\\xd7 \\xb59\\x9e\\xa9O\\xe9\\x89\\xaf\\xdf\\xe6\\x80\\xb79P\\xb39\\x10l\\x0e\\xe2\\x89\\x1f+M\\xc6\\x9e\\xfc\\xa1\\xf0eKZ\\xdb\\xf7S_\\xcd\\xe6@\\xb09f\\xfe\\xa2\\xce\\xb1\\xd2\\xd0\\xfe\\x00\\xdb\\xc4\\x8a~\\x9b\\x03\\xde\\xe6@\\xcd\\xe6@\\xb09&\\x0b\\xaeAjs<G\\xfe\\xc5B\\xab\\xd0os\\xc0\\xdb\\x1c\\xa8\\xd9\\x1c\\x086\\xc7d\\xc15Hm\\x8e\\xbb\\xfd\\xf5\\xa5\\xf7\\xf9\\xfbm\\x0ex\\x9b\\x035\\x9b\\x03\\xc1\\xe6\\x98,\\xb8\\x06\\xa9\\xcd\\xf1\\x8c=+\\x0fv\\xbelIk\\xfb~\\xea\\xab\\xd9\\x1c\\x086\\xc7\\xcc_\\xd1<V\\x1a\\x7f\\xfb\\x8b\\x9e\\xf8\\xfam\\x0ex\\x9b\\x035\\x9b\\x03\\xc1\\xe6\\x98`W|\\xa9\\xcd1\\xf4\\x89(\\xa7_\\xfe\\xfe\\xa9\\xcf\\xdb\\x1c\\xa8\\xd9\\x1c\\x086\\xc7d\\xc15Hm\\x8e\\xe7\\xd3\\x7f\\xd3\\xcd,\\xfd6\\x07\\xbc\\xcd\\x81\\x9a\\xcd\\x81`s\\x90\\x17t\\x8f\\x95&\\x17\\xbc9\\xe5s\\xd9\\x92\\xd6\\xf6\\xfd\\xd4W\\xb39\\x10l\\x8e\\xc9\\x82k\\x90\\xda\\x1c?C/\\x0b\\xabD\\xbf\\xcd\\x01os\\xa0fs \\xd8\\x1c3\\x8fb8V\\x1a\\xef\\xf4R\\x80\\x1e\\xfd6\\x07\\xbc\\xcd\\x81\\x9a\\xcd\\x81`s\\xcc<y\\xf2Xih\\xff\\xfd\\xa6\\xf7\\xf9\\xfbm\\x0ex\\x9b\\x035\\x9b\\x03\\xc1\\xe6\\x98,\\xb8\\x06\\xa9\\xcd1\\xde\\xaf\\xfbT\\xc9\\xa6\\xbe~\\x9b\\x03\\xde\\xe6@\\xcd\\xe6@\\xb09&\\x0b\\xaeAjs\\xfc<\\xe2\\xa4/\\xb7\\xf4\\xdb\\x1c\\xf06\\x07j6\\x07\\x82\\xcdAv\\xa4\\x1e+\\x8d\\xe9\\r;\\x8f\\xfb\\xb8lIk\\xfb~\\xea\\xab\\xd9\\x1c\\xff)\\xff\\xdd>;\\xf2\\xe76\\xc7~\\x81HF\\x97-im\\xdfO}5\\x9b\\x03\\xc1\\xe6\\x98\\xc2\\xae\\xf8r\\x9bc\\xbfd\\xd2\\xc7\\x1c\\xfd6\\x07\\xbc\\xcd\\x81\\x9a\\xcd\\x81`sL\\x16\\\\\\x83\\xdc\\xe6x\\xb2;\\xe8\\xd4\\xd7os\\xc0\\xdb\\x1c\\xa8\\xd9\\x1c\\x086\\xc7d\\xc15\\xc8m\\x8e\\xfd\\xbc\\xdd\\xc1N|\\xfd6\\x07\\xbc\\xcd\\x81\\x9a\\xcd\\x81`sLa\\xe7\\xfd\\xdc\\xe6\\xb8\\x7f\\xfb\\x9f<\\xf1\\xe0\\xb2%\\xad\\xed\\xfb\\xa9\\xaffs \\xd8\\x1cS\\xe9\\x91\\x9f$\\xb7|h^\\x1f\\xfam\\x0ex\\x9b\\x035\\x9b\\x03\\xc1\\xe6 \\xc2\\xd4\\xb1\\xd2\\xf8\\xe9/\\x96\\xd4\\x8a~\\x9b\\x03\\xde\\xe6@\\xcd\\xe6@\\xb09&\\xcb\\xedAns\\xec\\xd7\\xdc\\xb9[}\\xd9\\x92\\xce\\xf6\\xbd\\xcd\\x81\\x9a\\xcd\\x81`s\\x90=\\x89\\xc7Jc\\xfb\\x92\\xbf\\x0et\\xd9\\x92\\xd6\\xf6\\xfd\\xd4W\\xb39\\x10l\\x8e\\xc9r{\\x90\\xdb\\x1c\\x8f\\xce@_k\\xec\\xb79\\xe0m\\x0e\\xd4l\\x0e\\x04\\x9bc\\xe6{\\x12\\x8f\\x95\\xc6\\xbc>0\\x98\\x06\\xfd6\\x07\\xbc\\xcd\\x81\\x9a\\xcd\\x81`s\\xcc\\xfc\\x05\\xddc\\xa51\\xa9U\\xf3\\x93\\xc5eKZ\\xdb\\xf7S_\\xcd\\xe6@\\xb09&\\xcd\\xedIm\\x8e\\xe7\\x82\\x97D\\xfd\\\\\\xb6\\xa4\\xb5}?\\xf5\\xd5l\\x0e\\x04\\x9bc\\xd2\\xdc\\x9e\\xd4\\xe6x\\xda\\xff|\\xd9}\\xfe~\\x9b\\x03\\xde\\xe6@\\xcd\\xe6@\\xb09&\\xcd\\xedIm\\x8e\\xbb\\xfd\\xb5\\xe9\\xd0\\xdbos\\xc0\\xdb\\x1c\\xa8\\xd9\\x1c\\x086\\xc7\\xfc\\xd0#?Ii\\x1e\\xe42\\xe1\\xb2%\\xad\\xed\\xfb\\xa9\\xaffs \\xd8\\x1c\\xf3\\xc3\\xae\\xf8R\\x9b\\xe3Ii\\x06}\\xc6\\xd7os\\xc0\\xdb\\x1c\\xa8\\xd9\\x1c\\x086\\xc7\\xa4\\xb9=\\xa9\\xcd\\xf1\\xf3\\xe9\\xd3\\xa1\\xb7\\xdf\\xe6\\x80\\xb79P\\xb39\\x10l\\x8eIs{R\\x9b\\xe3\\x89)\\xfe\\xd0m\\x8c\\xfd6\\x07\\xbc\\xcd\\x81\\x9a\\xcd\\x81`sL\\x9a\\xdb\\x93\\xdb\\x1c\\xf7\\x15\\xdf\\xce\\x1f\\x0b^\\xb6\\xa4\\xb5}?\\xf5\\xd5l\\x0e\\x04\\x9bc\\xe6\\xd7/\\xc7Jc\\xfb\\x83\\xa67\\xf4\\xdb\\x1c\\xf06\\x07j6\\x07\\x82\\xcd1\\xf3\\x93\\xf8\\xb1\\xd2x\\xafo\\xd1\\xdb\\x1d\\xfd6\\x07\\xbc\\xcd\\x81\\x9a\\xcd\\x81`sL\\x9a\\xdb\\xc3l\\x0eA~\\xae\\xbclIk\\xfb~\\xea\\xab\\xd9\\x1c\\x086\\xc7\\xa4\\xb9=\\xb9\\xcd\\xf1\\x13UJ\\x7f\\xfb\\xfdS\\x9f\\xb79P\\xb39\\x10l\\x0er\\xe7\\xeaXil\\x7f\\xe4\\xf7\\xc6/[\\xd2\\xda\\xbe\\x9f\\xfaj6\\x07\\x82\\xcd1\\xf3\\x87\\xf5\\xc7JC\\xfbc\\xd1G\\x9c\\xfd6\\x07\\xbc\\xcd\\x81\\x9a\\xcd\\x81`s\\xcc\\xc1\\xae\\xf8R\\x9b\\xe3i\\xffC\\xb70\\xf7\\xdb\\x1c\\xf06\\x07j6\\x07\\x82\\xcd1inOjs\\xfc|\\xf9\\xf3-\\x00\\x97-\\xe9l\\xdf\\xdb\\x1c\\xa8\\xd9\\x1c\\x086\\xc7\\xa4\\xb9=\\xa9\\xcd\\xf1\\xc4\\x14\\x7f\\xe9\\x9b]\\xfd6\\x07\\xbc\\xcd\\x81\\x9a\\xcd\\x81`sL\\x9a\\xdb\\x93\\xda\\x1cO`\\x9d\\xb0\\x8cn\\xf4\\xdb\\x1c\\xf06\\x07j6\\x07\\x82\\xcdA\\xe2\\xd7\\x8e\\x95\\xc6O_\\xe9\\xbd\\xbe~\\x9b\\x03\\xde\\xe6@\\xcd\\xe6@\\xb09f\\xfe\\xb4\\xfaXi<\\xf4\\xf1\\x17\\xda\\xfbm\\x0ex\\x9b\\x035\\x9b\\x03\\xc1\\xe6\\x984\\xb7\\'\\xb79\\x9e\\x13_\\xfeX\\xf0\\xb2%\\xad\\xed\\xfb\\xa9\\xaffs \\xd8\\x1c\\x93\\xe6\\xf6\\xe46\\xc7z\\xde\\xeda\\x0f\\xb8\\xfbm\\x0ex\\x9b\\x035\\x9b\\x03\\xc1\\xe6\\x984\\xb7\\x87\\xd9\\x1c\\n\\x9a\\xd5\\xd9os\\xc0\\xdb\\x1c\\xa8\\xd9\\x1c\\x086\\xc7\\xcc\\xdfS:V\\x1a\\x13\\xdb\\xde\\xf4\\xed\\x8e~\\x9b\\x03\\xde\\xe6@\\xcd\\xe6@\\xb09&\\r\\xae\\xc9m\\x8e\\'\\xb1m\\xd1\\xdf~\\xff\\xd4\\xe7m\\x0e\\xd4l\\x0e\\x04\\x9bc\\xd2\\xe0\\x9a\\xdc\\xe6X\\xaf\\xcf\\xca\\xb7\\xfd^\\xb6\\xa4\\xb1}\\xf16\\x87\\xd4l\\x0e\\t6\\xc7d\\xc15\\xc2l\\x0eE~\\x7f\\xec\\xb2%\\xad\\xed\\xc3\\xb7_\\x9a\\xfa$\\xd8\\x1c$\\x8b\\xe0Xir\\xde\\xe7\\xed\\xb7O}\\xe2m\\x0e\\xa9\\xd9\\x1c\\x12l\\x8e\\x99\\xe3z\\xc7J\\x93\\xd0\\xaa\\xfc\\xd1\\xc0eKZ\\xdbW\\xdf~i\\xea\\x93`s\\x90\\x97\\xf4\\x8e\\x95\\xc6+>a7\\xba\\xa5\\xdf\\xe6\\x10osH\\xcd\\xe6\\x90`sL\\x16\\\\#\\xb9\\xcd\\xb1_\\xef\\xc9f~\\xe9\\xb79\\xc4\\xdb\\x1cR\\xb39$\\xd8\\x1c\\x93\\x05\\xd7\\x08\\xb39\\x16}\\xc0-\\xfd6\\x87x\\x9bCj6\\x87\\x04\\x9bc\\xe6\\tT\\xc7Jcf\\xd7\\x9b\\x9d\\xf7\\xa5\\xdf\\xe6\\x10osH\\xcd\\xe6\\x90`s\\xcc\\xbc\\x97c\\xa5\\xf1\\xc8O\\xf6\\xbf\\\\\\xb6\\xa4\\xb5\\xfd\\xe5\\xdb/M}\\x12l\\x8e\\xc9\\x82k$\\xb79\\x1e\\x83\\x9b\\xbd\\xcf/\\xfd6\\x87x\\x9bCj6\\x87\\x04\\x9b\\x83\\x1c\\xc7\\x8e\\x95&G~\\xe6\\xf2H\\xbf\\xcd!\\xde\\xe6\\x90\\x9a\\xcd!\\xc1\\xe6\\x98,\\xb8F\\x98\\xcd1\\x84\\x85TK\\xbf\\xcd!\\xde\\xe6\\x90\\x9a\\xcd!\\xc1\\xe6\\x98\\xf9n\\xf4c\\xa5\\xf1\\xd0Gv>^\\xb6\\xa4\\xb5}?\\xf5\\xd5l\\x0e\\t6\\xc7\\xccSh\\x8e\\x95\\xc6\\xdb\\x1d\\x93a\\x94\\xd2os\\x88\\xb79\\xa4fsH\\xb09&\\x0b\\xae\\x11fs\\x8c7\\x93Y\\xa4\\xdf\\xe6\\x10osH\\xcd\\xe6\\x90`sL\\x16\\\\#\\xd4\\xe6\\xd8,\\xb2L\\xfam\\x0e\\xf16\\x87\\xd4l\\x0e\\t6\\xc7d\\xc15\\xc2l\\x8e\\xef;\\x7f\\t\\xfc\\xb2%\\xad\\xed\\xfb\\xa9\\xaffsH\\xb09V\\xbe#\\xf5Xir\\x9f\\x9f\\xbd\\xd1-\\xfd6\\x87x\\x9bCj6\\x87\\x04\\x9bc\\xe5\\xfb\\x91\\x8f\\x95\\xc6\\xf6\\x17\\x1d{\\xfam\\x0e\\xf16\\x87\\xd4l\\x0e\\t6\\xc7b\\xc15\\x92\\xdb\\x1c\\xfb\\x05\\xf2\\x12\\xf8eKZ\\xdb\\xf7S_\\xcd\\xe6\\x90`s,\\x16\\\\#\\xcc\\xe6\\x18`\\x18\\xa5\\xf4\\xdb\\x1c\\xe2m\\x0e\\xa9\\xd9\\x1c\\x12l\\x8e\\xc5\\x82k\\x84\\xd9\\x1c\\xe3K\\xaf\\xf7\\xfbm\\x0e\\xf16\\x87\\xd4l\\x0e\\t6\\xc7\\xca\\xf3\\xc6\\x8f\\x95\\xc6\\xdf\\xfe\\x9b\\xe5\\xf4J\\xbf\\xcd!\\xde\\xe6\\x90\\x9a\\xcd!\\xc1\\xe6X\\xf9\\x13\\xabc\\xa5IF7\\x9d\\xf9\\xfbm\\x0e\\xf16\\x87\\xd4l\\x0e\\t6\\xc7b\\xc15\\xc2l\\x8e\\xcf\\'\\xbf;z\\xd9\\x92\\xd6\\xf6\\xfd\\xd4W\\xb39$\\xd8\\x1c\\x8b\\x05\\xd7\\x08\\xb39\\xee\\xabz\\xda~\\xff\\xd4\\xe7m\\x0e\\xa9\\xd9\\x1c\\x12l\\x0e\\x12\\xc2s\\xac\\xf4\\x8f\\xf6\\xe7\\xeb\\xfdeY\\x9d\\xd2os\\x88\\xb79\\xa4fsH\\xb09\\xc8\\x96\\xccc\\xa5\\xa1}\\xfd\\xe6\\xcf\\xc4/[\\xd2\\xda\\xbe\\x9f\\xfaj6\\x87\\x04\\x9bc\\xe5\\'\\xf1c\\xa5\\xf1\\xd3\\'\\x99\\xf6\\x97-im\\xdfO}5\\x9bC\\x82\\xcd\\xb1Xp\\x8d\\xe46\\xc7|a\\xd3\\x9b]\\xfd6\\x87x\\x9bCj6\\x87\\x04\\x9bc\\xb1\\xe0\\x1a\\xc9m\\x8e\\xe7\\xd3\\xa7Oy\\xfam\\x0e\\xf16\\x87\\xd4l\\x0e\\t6\\xc7b\\xc15\\x92\\xdb\\x1c?_~\\xd6~\\xbf\\xcd!\\xde\\xe6\\x90\\x9a\\xcd!\\xc1\\xe6X\\xc2\\x8e\\xfc\\xa9\\xcd\\xf1\\x1d\\xaf-\\xec\\x85v\\xe9\\xb79\\xc4\\xdb\\x1cR\\xb39$\\xd8\\x1cK\\xd8\\x15_js\\xdc\\xed/e.\\x8f\\xf4\\xdb\\x1c\\xe2m\\x0e\\xa9\\xd9\\x1c\\x12l\\x0e\\xe2\\x8a\\x1e+\\r\\xed\\x7f\\xde9\\xdez\\xd9\\x92\\xd6\\xf6\\xfd\\xd4W\\xb39$\\xd8\\x1c\\x8b\\x05\\xd7Hjs\\xdc\\xed\\xb3[\\x04\\x97-im\\xdfO}5\\x9bC\\x82\\xcd\\xb1Xp\\x8d\\xa46\\xc7\\xdd\\xfe\\xe0\\x0f\\xb9\\xfam\\x0e\\xf16\\x87\\xd4l\\x0e\\t6\\xc7\\xca\\xe3\\xd6\\x8f\\x95\\x86\\xf6\\xe7\\x9bm`\\x97~\\x9bC\\xbc\\xcd!5\\x9bC\\x82\\xcd\\xb1\\x94]\\xf1\\xa56\\xc7s\\xe4\\'\\xdb~/[\\xd2\\xda\\xbe\\x9f\\xfaj6\\x87\\x04\\x9bc\\xb1\\xf8\\x02Im\\x8e\\xbb\\xfd7\\xf2\\r \\x97-im\\xdfO}5\\x9bC\\x82\\xcdA\\xa0\\x8dc\\xa5\\x7f\\xb4\\xff}\\xed7\\xbd\\xdd\\xd1os\\x88\\xb79\\xa4fsH\\xb09V>\\xc1\\x1e+\\r\\xed\\x7f\\xc9\\r\\xa2\\xcb\\x96\\xb4\\xb6\\xef\\xa7\\xbe\\x9a\\xcd!\\xc1\\xe6X\\x1fv\\xdeOm\\x8e\\xbb\\xfd\\xb5\\xf2\\xc4\\x83\\xcb\\x96\\xb4\\xb6\\xef\\xa7\\xbe\\x9a\\xcd!\\xc1\\xe6X,\\xbe@R\\x9b\\xe3\\xa7\\xfd<\\xeb\\xe6\\xb2%\\xad\\xed\\xfb\\xa9\\xaffsH\\xb09\\x16\\x8b/\\x90\\xd4\\xe6x~\\xfb\\xfc)O\\xbf\\xcd!\\xde\\xe6\\x90\\x9a\\xcd!\\xc1\\xe6X,\\xbe@R\\x9b\\xe3\\xf9\\xf4\\x95\\x05\\xd5J\\xbf\\xcd!\\xde\\xe6\\x90\\x9a\\xcd!\\xc1\\xe6X_v\\xe4Om\\x8e\\xa7\\xfd7c\\x88\\xa5\\xdf\\xe6\\x10osH\\xcd\\xe6\\x90`s\\xac\\x9cX:V\\x1a\\xce\\xfb\\xf2\\xc9\\x9f\\x89_\\xb6\\xa4\\xb5}?\\xf5\\xd5l\\x0e\\t6\\xc7b\\xf1\\x05\\x92\\xda\\x1cO\\xfb`,\\x91\\xf4\\xdb\\x1c\\xe2m\\x0e\\xa9\\xd9\\x1c\\x12l\\x8e\\xc5\\xe2\\x0b$\\xb59\\xee\\xf6\\xbf\\x1f\\x16W(\\xfd6\\x87x\\x9bCj6\\x87\\x04\\x9bc\\xb1\\xf8\\x02Im\\x8e\\x9f\\x0b^\\xb6\\x83[\\xfam\\x0e\\xf16\\x87\\xd4l\\x0e\\t6\\xc7\\xca\\xef]\\x1c+\\x8dwz\\x85\\xc5\\x15J\\xbf\\xcd!\\xde\\xe6\\x90\\x9a\\xcd!\\xc1\\xe6X_v\\xa77\\xb59\\xee\\xf6\\xc7\\x97\\xb7\\xdf?\\xf5y\\x9bCj6\\x87\\x04\\x9bc\\xb1\\xf8\\x02Im\\x8e\\xe7\\xd3\\x1fy\\xde\\xc5eKZ\\xdb\\xf7S_\\xcd\\xe6\\x90`s,\\x16_ \\xa9\\xcdq\\xb7\\xbf\\xdf,\\xb3K\\xfam\\x0e\\xf16\\x87\\xd4l\\x0e\\t6\\xc7b\\xf1\\x05\\x92\\xda\\x1cO\\xfb\\xc8\\x9f\\x8c\\\\\\xb6\\xa4\\xb5}?\\xf5\\xd5l\\x0e\\t6\\xc7\\x1a\\xec\\xc8\\x9f\\xda\\x1c\\xcf\\x1b\\xdd\\x9b^\\xf1\\xf5\\xdb\\x1c\\xe2m\\x0e\\xa9\\xd9\\x1c\\x12l\\x8e\\x95O\\xb0\\xc7J\\xe3&V\\x12\\xea~\\xd9\\x92\\xd6\\xf6\\xfd\\xd4W\\xb39$\\xd8\\x1c\\x8b\\xc5\\x17Hjs\\xdc_\\xfe\\xa9l\\x03\\xbb\\xf4\\xdb\\x1c\\xe2m\\x0e\\xa9\\xd9\\x1c\\x12l\\x0e\\xe2\\x8b\\x1d+M\\xce\\xfb,\\xb7G\\xfam\\x0e\\xf16\\x87\\xd4l\\x0e\\t6\\xc7b\\xf1\\x05\\x92\\xda\\x1c\\xcf\\xa7?Xj\\x93\\xf4\\xdb\\x1c\\xe2m\\x0e\\xa9\\xd9\\x1c\\x12l\\x8e5\\xd9\\x91?\\xb59\\xee\\xdf\\xfe{\\xe7OE/[\\xd2\\xda\\xbe\\x9f\\xfaj6\\x87\\x04\\x9bcMv\\xc5\\x97\\xdb\\x1c\\xf7\\xa1\\x8f?\\xe4\\xea\\xb79\\xc4\\xdb\\x1cR\\xb39\\xfeS\\xfe\\xbb}v\\xc5\\x97\\xdb\\x1c\\xf3\\xa5\\x9f\\x1cn\\xbelIk\\xfb~\\xea\\xab\\xd9\\x1c\\x12l\\x0er\\xe3\\xeeXi\\x1c{>\\xb9Y\\x7f\\xd9\\x92\\xd6\\xf6\\xfd\\xd4W\\xb39$\\xd8\\x1c\\x8b\\xa57Hns\\xdc\\x87>\\x9a\\xd3+\\xfd6\\x87x\\x9bCj6\\x87\\x04\\x9bc\\xe5\\xef)\\x1d+\\x8dW|\\x92\\x0f\\x8a\\x97-im\\xdfO}5\\x9bC\\x82\\xcd\\xb1\\xf2mY\\xc7J\\xe3\\xa1O\\x95~\\xf9\\xfb\\xa7>osH\\xcd\\xe6\\x90`s,\\x9a\\xde\\x90\\xdb\\x1c\\xf3\\xb5>\\xf9\\xef\\xe5\\xb2%\\xad\\xed\\xfb\\xa9\\xaffsH\\xb09\\x16Mo\\xc8m\\x8ey\\x9f\\xf7YD\\xb9\\xf4\\xdb\\x1c\\xe2m\\x0e\\xa9\\xd9\\x1c\\x12l\\x8eE\\xd3\\x1br\\x9bc\\xbe\\xbe\\x9bng\\xe8\\xb79\\xc4\\xdb\\x1cR\\xb39$\\xd8\\x1c+?\\x8b\\x1d+\\x8d\\xbb96=\\xf4\\xf5\\xdb\\x1c\\xe2m\\x0e\\xa9\\xd9\\x1c\\x12l\\x8eE\\xe3\\x0b\\x98\\xcd\\xa1_\\x96\\xd3+\\xfd6\\x87x\\x9bCj6\\x87\\x04\\x9bc\\xd1\\xf8\\x02fs\\x8c\\x0f\\xbd\\xde\\xef\\xb79\\xc4\\xdb\\x1cR\\xb39$\\xd8\\x1c\\x8b\\xc6\\x17\\xe46\\x07^\\xdf\\x0f\\xdd\\xc3\\xdbos\\x88\\xb79\\xa4fsH\\xb09V>\\xc0\\x1f+\\r\\xed\\xcb\\xa6\\x17\\xbc\\xfd6\\x87x\\x9bCj6\\x87\\x04\\x9bc\\xe5\\xb1\\xab\\xc7J\\xe3\\xa7\\x0f\\xba\\x87\\xb7\\xdf\\xe6\\x10osH\\xcd\\xe6\\x90`s,\\x1a_\\x90\\xdb\\x1cO\\xfb,\\xa0^\\xfam\\x0e\\xf16\\x87\\xd4l\\x0e\\t6\\xc7\\xa2\\xf1\\x05\\xb9\\xcd\\x81\\xd7|3\\x8bS\\xfam\\x0e\\xf16\\x87\\xd4l\\x0e\\t6\\x07\\xe1\\xd4\\x8f\\x95\\xfe\\xd1\\xbe\\xbe&\\xc9\\xb7\\xbclIk\\xfb~\\xea\\xab\\xd9\\x1c\\x12l\\x8e\\xfdf3\\x7fns<\\xa1U\\xf9\\xfb0\\x97-\\xe9l\\xdf\\xdb\\x1cR\\xb39$\\xd8\\x1c\\x9b\\xee\\xdf\\xcfm\\x8e\\'\\xac2\\x97\\x8c.[\\xd2\\xda\\xbe\\x9f\\xfaj6\\x87\\x04\\x9bc\\xd3\\xfd\\xfb\\xa9\\xcd1\\xf1\\xfaH\\xfe\\x1e\\xeceKZ\\xdb\\xf7S_\\xcd\\xe6\\x90`sl\\xba\\x7f?\\xb59\\x9e/\\xbf\\xb0\\xb0J\\xe9\\xb79\\xc4\\xdb\\x1cR\\xb39$\\xd8\\x1c\\xfb\\xcd\\x0e}\\xa9\\xcdq\\xb7?\\xc9e\\xc2eKZ\\xdb\\xf7S_\\xcd\\xe6\\x90`s\\xec7\\xbb\\xe4Im\\x8e\\xbb}\\x91\\xfc\\xd1\\xc0eKZ\\xdb\\xf7S_\\xcd\\xe6\\x90`sl\\xba\\x7f?\\xb59\\xee\\xdf\\xfeV\\xfa^_\\xbf\\xcd!\\xde\\xe6\\x90\\x9a\\xcd!\\xc1\\xe6\\xd8t\\xff~jsL}\\xde\\xecb\\xf7\\xf9\\xfbm\\x0e\\xf16\\x87\\xd4l\\x0e\\t6\\xc7\\xa6\\xfb\\xf7S\\x9b\\xe3\\xfe\\xf4\\xdf#\\xdf\\xfbv\\xd9\\x92\\xd6\\xf6\\xfd\\xd4W\\xb39$\\xd8\\x1c;\\xbfz=V\\x1a>}\\x96oy\\xd9\\x92\\xd6\\xf6\\xfd\\xd4W\\xb39$\\xd8\\x1c;\\x8f^<V\\x1a>}y\\xd3[\\x9d\\xfd6\\x87x\\x9bCj6\\x87\\x04\\x9bc\\xd3\\xfd\\xfb\\xa9\\xcd\\xf1\\x9c\\xf8\\xbe\\xf4>\\x7f\\xbf\\xcd!\\xde\\xe6\\x90\\x9a\\xcd!\\xc1\\xe6\\xd8t\\xff~js\\xdc\\x9f\\xbe\\xf2\\xd7\\x1b\\xfam\\x0e\\xf16\\x87\\xd4l\\x0e\\t6\\xc7\\xa6\\xfb\\xf7S\\x9b\\xe3\\x19z\\xf9\\x05o\\xbf\\xcd!\\xde\\xe6\\x90\\x9a\\xcd!\\xc1\\xe6\\xd8\\xf9Kz\\xc7J\\xffh\\xff}\\x0f\\xbd4\\xa4\\xba\\xdf\\xe6\\x10osH\\xcd\\xe6\\x90`s\\xec\\xfc=\\xa5c\\xa5\\xe1\\xb7\\xaf`0\\x8d\\xf4\\xdb\\x1c\\xe2m\\x0e\\xa9\\xd9\\x1c\\x12l\\x8eM7\\xb1\\xa66\\xc7\\xdd\\xfe\\xa00\\x8d\\xf4\\xdb\\x1c\\xe2m\\x0e\\xa9\\xd9\\x1c\\x12l\\x8eM7\\xb1\\xa66\\xc7x\\xe2\\n\\xf9\\x97\\xbf\\x7f\\xea\\xf36\\x87\\xd4l\\x0e\\t6\\xc7\\xce\\xf7#\\x1f+\\r\\xed\\xbf?\\xf9K\\xe0\\x97-im\\xdfO}5\\x9bC\\x82\\xcd\\xb1\\x95\\x8d=\\xa9\\xcd\\xf1\\xb4\\xbf\\x18@/\\xfd6\\x87x\\x9bCj6\\x87\\x04\\x9bc\\xe7{\\x12\\x8f\\x95\\xc6\\x9b]\\x1f\\xba\\x97\\xa7\\xdf\\xe6Posh\\xcd\\xe6\\xd0`s\\xec|\\x84;V\\x1a\\xda\\x1f\\x83\\xdd\\xeb\\xd3~\\x9bC\\xbd\\xcd\\xa15\\x9bC\\x83\\xcd\\xb1\\xf3\\xc7\\xb5\\xc7J\\xe3\\x89O\\xd8%\\x8f\\xf6\\xdb\\x1c\\xeam\\x0e\\xad\\xd9\\x1c\\x1al\\x8e\\x9d\\x07o\\x1e+\\x8dG\\xfe/\\xbb\\xd9\\xa5\\xfd6\\x87z\\x9bCk6\\x87\\x06\\x9bc\\xe7\\xdf\\xe4c\\xa5\\xf1f\\x17y&~\\xd9\\x92\\xd6\\xf6?\\xbe\\xfd\\xd2\\xd4\\xa7\\xc1\\xe6 {\\x13\\x8e\\x95\\xc6\\xdb\\x1dXd\\xea\\xd3~\\x9bC\\xbd\\xcd\\xa15\\x9bC\\x83\\xcd\\xb1Y|\\x81\\xa66\\xc7\\xdd\\xfe\\xf7\\x9b\\xbf\\x03\\x7f\\xd9\\x92\\xd6\\xf6\\x87o\\xbf4\\xf5i\\xb096\\x8b/\\xd0\\xd4\\xe6\\xb8\\xbf\\xfc\\xeb\\x9d\\xf3\\x9d\\x97-im\\x7f\\xfa\\xf6KS\\x9f\\x06\\x9bc\\xb3\\xf8\\x02Mm\\x8e\\xbb\\xfd\\xcf;\\x9f\\x94.[\\xd2\\xda\\xfe\\xf2\\xed\\x97\\xa6>\\r6\\xc7\\xfe\\xd0#\\x7f:\\xf5\\xdd\\xed\\x13\\xbc\\xf5\\xb2%\\xad\\xedo\\xdf~i\\xea\\xd3`s\\xec\\x1c\\xd8:V\\x1a\\xaf\\xf8\\x06\\xdb\\xcb\\xa3\\xfd6\\x87z\\x9bCk6\\x87\\x06\\x9bc\\xb3\\xf8\\x02Mm\\x8e\\xf1#\\xb0\\x93\\x99_\\xfbm\\x0e\\xf56\\x87\\xd6l\\x0e\\r6\\xc7f\\xf1\\x05\\x9a\\xda\\x1c\\xcf\\xcc\\xbf\\x19N\\xa1\\xfd6\\x87z\\x9bCk6\\x87\\x06\\x9bc\\xb3\\x1d\\xdc\\x9a\\xda\\x1c\\xf7\\xa7\\xffU\\xb6\\x97G\\xfbm\\x0e\\xf56\\x87\\xd6l\\x0e\\r6\\xc7f;\\xb85\\xb59\\x9e\\xdf\\xfe\\x97\\xed\\xe6\\xd0~\\x9bC\\xbd\\xcd\\xa15\\x9bC\\x83\\xcd\\xb1\\xd9\\x0enMm\\x8e\\xe7\\xc8O\\x92\\x8d/[\\xd2\\xda\\xbe\\x9f\\xfaj6\\x87\\x06\\x9bc3\\x83[S\\x9bc<\\x18%\\xbb\\xcf\\xaf\\xfd6\\x87z\\x9bCk6\\x87\\x06\\x9b\\x83\\xbc\\x9e}\\xac4\\xb4?\\xbf\\xf4\\x82\\xb7\\xdf\\xe6Posh\\xcd\\xe6\\xd0`sl\\xb6\\x85YS\\x9b\\xe3\\xfe\\xf2\\x83\\xdc\\x1f\\xbblIk\\xfb~\\xea\\xab\\xd9\\x1c\\x1al\\x8e\\xcd\\xb60kjs<_\\xfe\\xff\\xf2\\xdb\\xef\\x9f\\xfa\\xbc\\xcd\\xa15\\x9bC\\x83\\xcd\\xb1\\x99\\xc1\\xad\\xa9\\xcd\\xf1s\\xa77?\\\\\\\\\\xb6\\xa4\\xb3}osh\\xcd\\xe6\\xd0`slfpkjs\\x8c\\xf9\\xfa\\x80\\x05\\xd4k\\xbf\\xcd\\xa1\\xde\\xe6\\xd0\\x9a\\xcd\\xa1\\xc1\\xe6\\xd8l\\x0b\\xb3\\xa66\\xc7x\\xa2K\\xf2\\x97\\xc0/[\\xd2\\xda\\xbe\\x9f\\xfaj6\\x87\\x06\\x9bc\\xb3-\\xcc\\x9a\\xda\\x1c\\xe3Il\\xa3Co\\xbf\\xcd\\xa1\\xde\\xe6\\xd0\\x9a\\xcd\\xa1\\xc1\\xe6\\xd8l\\x0b\\xb3\\xa66\\xc7\\x18\\xafE\\xdf\\xe9\\xd5~\\x9bC\\xbd\\xcd\\xa15\\x9bC\\x83\\xcd\\xb1\\x19A\\xae\\xa9\\xcdq\\xb7\\xff\\xf9\\xb2\\xe0\\x1a\\xed\\xb79\\xd4\\xdb\\x1cZ\\xb394\\xd8\\x1c\\x9b\\x11\\xe4\\x9a\\xda\\x1c\\xe3\\'\\xad\\x91=\\xe6\\xe8\\xb79\\xd4\\xdb\\x1cZ\\xb394\\xd8\\x1c\\x84Z8V\\x1a>\\xfd7\\xc9\\xb6\\xbdlIk\\xfb~\\xea\\xab\\xd9\\x1c\\x1al\\x0er\\xf1~\\xac4~\\xfa\\x1f:\\xf6\\xf4\\xdb\\x1c\\xeam\\x0e\\xad\\xd9\\x1c\\x1al\\x0e\\xb2\\x19\\xffXil\\xff\\xcbD6\\xed\\xb79\\xd4\\xdb\\x1cZ\\xb394\\xd8\\x1c\\x9b\\x11\\xe4\\x9a\\xda\\x1c\\xe3\\xf3Z4\\xa6X\\xfbm\\x0e\\xf56\\x87\\xd6l\\x0e\\r6\\xc7f\\x04\\xb9\\xa66\\xc7\\xdd\\xfe[Yt\\x89\\xf6\\xdb\\x1c\\xeam\\x0e\\xad\\xd9\\x1c\\x1al\\x8e\\x9d?\\xb1:V\\xfaG\\xfbr\\x8f=\\xf9\\xee\\xa7\\xcb\\x96\\xb4\\xb6\\xef\\xa7\\xbe\\x9a\\xcd\\xa1\\xc1\\xe6\\xd8l\\x07\\xb7\\xa66\\xc7\\xd0\\x97(\\xdb\\xc3\\xab\\xfd6\\x87z\\x9bCk6\\x87\\x06\\x9bc\\xb3\\x1d\\xdc\\x9a\\xda\\x1c\\xf7\\xa7?\\xc9\\xbd\\xf1\\xcb\\x96\\xb4\\xb6\\xef\\xa7\\xbe\\x9a\\xcd\\xa1\\xc1\\xe6 Y\\x04\\xc7JC\\xfb:XR\\xab\\xf6\\xdb\\x1c\\xeam\\x0e\\xad\\xd9\\x1c\\x1al\\x8e\\xcd\\x08rMm\\x8e\\xfb\\xcb?\\xc0b\\x8a\\xb5\\xdf\\xe6Posh\\xcd\\xe6\\xd0`sl\\xb6\\x83[S\\x9b\\xe3n\\x7f\\x7f\\xe9C\\xae~\\x9bC\\xbd\\xcd\\xa15\\x9bC\\x83\\xcd\\xb1\\xd9\\x0enMm\\x8e\\xfb\\xc47\\xde\\xf9\\x96\\xff\\xcb\\x96\\xb4\\xb6\\xef\\xa7\\xbe\\x9a\\xcd\\xa1\\xc1\\xe6\\xd8\\xcc\\xe0\\xd6\\xd4\\xe6\\xb8\\xa7\\xbe\\xef`/\\xb5j\\x97\\xcdq\\xff\\xf3\\x7f\\xff\\xfe\\xb7\\xbf\\xfd\\xeb\\xfa\\xeb\\xbf\\xfe\\xfa\\xf3o\\xff\\xf7\\xcf\\xff\\xf9\\xc7\\xcf\\x7f\\xf9\\xcb\\xff\\x03PK\\x03\\x04\\n\\x00\\x00\\x00\\x00\\x00\\xc5N\\xd1PO\\x0f\\xbf;\"\\x02\\x00\\x00\"\\x02\\x00\\x00Q\\x00\\x1c\\x00package/services/metadata/core-properties/b1b0d0a3750f40b7852755863480818c.psmdcp \\xa2\\x18\\x00(\\xa0\\x14\\x00\\x00\\x00\\x00\\x00\\x00\\x00\\x00\\x00\\x00\\x00\\x00\\x00\\x00\\x00\\x00\\x00\\x00\\x00\\x00\\x00\\xef\\xbb\\xbf<?xml version=\"1.0\" encoding=\"utf-8\"?><coreProperties xmlns:dc=\"http://purl.org/dc/elements/1.1/\" xmlns:dcterms=\"http://purl.org/dc/terms/\" xmlns:xsi=\"http://www.w3.org/2001/XMLSchema-instance\" xmlns=\"http://schemas.openxmlformats.org/package/2006/metadata/core-properties\"><dc:title>\\xd0\\x98\\xd0\\xbd\\xd1\\x84\\xd0\\xbe\\xd1\\x80\\xd0\\xbc\\xd0\\xb0\\xd1\\x86\\xd0\\xb8\\xd1\\x8f</dc:title><dc:creator>cbr.ru</dc:creator><dcterms:created xsi:type=\"dcterms:W3CDTF\">2020-06-17T06:54:11.1034167Z</dcterms:created><dcterms:modified xsi:type=\"dcterms:W3CDTF\">2020-06-17T06:54:11.1034167Z</dcterms:modified></coreProperties>PK\\x03\\x04\\n\\x00\\x00\\x00\\x00\\x00\\xc5N\\xd1P[\\xd2\\xbd\\xba\\xbf\\x02\\x00\\x00\\xbf\\x02\\x00\\x00\\x13\\x00\\x1c\\x00[Content_Types].xml \\xa2\\x18\\x00(\\xa0\\x14\\x00\\x00\\x00\\x00\\x00\\x00\\x00\\x00\\x00\\x00\\x00\\x00\\x00\\x00\\x00\\x00\\x00\\x00\\x00\\x00\\x00\\xef\\xbb\\xbf<?xml version=\"1.0\" encoding=\"utf-8\"?><Types xmlns=\"http://schemas.openxmlformats.org/package/2006/content-types\"><Default Extension=\"xml\" ContentType=\"application/vnd.openxmlformats-officedocument.spreadsheetml.sheet.main+xml\" /><Default Extension=\"rels\" ContentType=\"application/vnd.openxmlformats-package.relationships+xml\" /><Default Extension=\"psmdcp\" ContentType=\"application/vnd.openxmlformats-package.core-properties+xml\" /><Override PartName=\"/xl/styles.xml\" ContentType=\"application/vnd.openxmlformats-officedocument.spreadsheetml.styles+xml\" /><Override PartName=\"/xl/worksheets/sheet1.xml\" ContentType=\"application/vnd.openxmlformats-officedocument.spreadsheetml.worksheet+xml\" /></Types>PK\\x01\\x02-\\x00\\x14\\x00\\x00\\x00\\x08\\x00\\xc5N\\xd1P\\x12\\xf8\\x15\\xe8\\xcd\\x00\\x00\\x00E\\x01\\x00\\x00\\x0f\\x00\\x00\\x00\\x00\\x00\\x00\\x00\\x00\\x00\\x00\\x00\\x00\\x00\\x00\\x00\\x00\\x00xl/workbook.xmlPK\\x01\\x02-\\x00\\n\\x00\\x00\\x00\\x00\\x00\\xc5N\\xd1P\\xb8)\\n\\xea\\x08\\x02\\x00\\x00\\x08\\x02\\x00\\x00\\x0b\\x00\\x00\\x00\\x00\\x00\\x00\\x00\\x00\\x00\\x00\\x00\\x00\\x00\\x16\\x01\\x00\\x00_rels/.relsPK\\x01\\x02-\\x00\\x14\\x00\\x00\\x00\\x08\\x00\\xc5N\\xd1PU\\x02e\\xday\\x01\\x00\\x00*\\x04\\x00\\x00\\r\\x00\\x00\\x00\\x00\\x00\\x00\\x00\\x00\\x00\\x00\\x00\\x00\\x00c\\x03\\x00\\x00xl/styles.xmlPK\\x01\\x02-\\x00\\x14\\x00\\x00\\x00\\x08\\x00\\xc5N\\xd1P\\x02BsN\\xd1\\x00\\x00\\x00\\xb0\\x01\\x00\\x00\\x1a\\x00\\x00\\x00\\x00\\x00\\x00\\x00\\x00\\x00\\x00\\x00\\x00\\x00#\\x05\\x00\\x00xl/_rels/workbook.xml.relsPK\\x01\\x02-\\x00\\x14\\x00\\x00\\x00\\x08\\x00\\xc5N\\xd1P\\xa8\\x05\\x80\\xacC\\x7f\\x00\\x00\\xa1 \\x05\\x00\\x18\\x00\\x00\\x00\\x00\\x00\\x00\\x00\\x00\\x00\\x00\\x00\\x00\\x00H\\x06\\x00\\x00xl/worksheets/sheet1.xmlPK\\x01\\x02-\\x00\\n\\x00\\x00\\x00\\x00\\x00\\xc5N\\xd1PO\\x0f\\xbf;\"\\x02\\x00\\x00\"\\x02\\x00\\x00Q\\x00\\x00\\x00\\x00\\x00\\x00\\x00\\x00\\x00\\x00\\x00\\x00\\x00\\xdd\\x85\\x00\\x00package/services/metadata/core-properties/b1b0d0a3750f40b7852755863480818c.psmdcpPK\\x01\\x02-\\x00\\n\\x00\\x00\\x00\\x00\\x00\\xc5N\\xd1P[\\xd2\\xbd\\xba\\xbf\\x02\\x00\\x00\\xbf\\x02\\x00\\x00\\x13\\x00\\x00\\x00\\x00\\x00\\x00\\x00\\x00\\x00\\x00\\x00\\x00\\x00\\x8a\\x88\\x00\\x00[Content_Types].xmlPK\\x05\\x06\\x00\\x00\\x00\\x00\\x07\\x00\\x07\\x00\\xff\\x01\\x00\\x00\\x96\\x8b\\x00\\x00\\x00\\x00'}"
            ]
          },
          "metadata": {
            "tags": []
          },
          "execution_count": 2
        }
      ]
    },
    {
      "cell_type": "code",
      "metadata": {
        "id": "WXh_lE_AEUQP",
        "colab_type": "code",
        "colab": {}
      },
      "source": [
        "rates = pd.read_excel('RC_F01_01_2015_T16_06_2020.xlsx') #Чтение Excel таблицы"
      ],
      "execution_count": null,
      "outputs": []
    },
    {
      "cell_type": "code",
      "metadata": {
        "id": "hFg1SFOoE_dV",
        "colab_type": "code",
        "colab": {
          "base_uri": "https://localhost:8080/",
          "height": 419
        },
        "outputId": "000f35ac-c297-4d30-8b28-ba5c9623da90"
      },
      "source": [
        "rates"
      ],
      "execution_count": null,
      "outputs": [
        {
          "output_type": "execute_result",
          "data": {
            "text/html": [
              "<div>\n",
              "<style scoped>\n",
              "    .dataframe tbody tr th:only-of-type {\n",
              "        vertical-align: middle;\n",
              "    }\n",
              "\n",
              "    .dataframe tbody tr th {\n",
              "        vertical-align: top;\n",
              "    }\n",
              "\n",
              "    .dataframe thead th {\n",
              "        text-align: right;\n",
              "    }\n",
              "</style>\n",
              "<table border=\"1\" class=\"dataframe\">\n",
              "  <thead>\n",
              "    <tr style=\"text-align: right;\">\n",
              "      <th></th>\n",
              "      <th>nominal</th>\n",
              "      <th>data</th>\n",
              "      <th>curs</th>\n",
              "      <th>cdx</th>\n",
              "    </tr>\n",
              "  </thead>\n",
              "  <tbody>\n",
              "    <tr>\n",
              "      <th>0</th>\n",
              "      <td>100</td>\n",
              "      <td>2015-01-01</td>\n",
              "      <td>46.9998</td>\n",
              "      <td>Японская иена</td>\n",
              "    </tr>\n",
              "    <tr>\n",
              "      <th>1</th>\n",
              "      <td>100</td>\n",
              "      <td>2015-01-13</td>\n",
              "      <td>52.8550</td>\n",
              "      <td>Японская иена</td>\n",
              "    </tr>\n",
              "    <tr>\n",
              "      <th>2</th>\n",
              "      <td>100</td>\n",
              "      <td>2015-01-14</td>\n",
              "      <td>54.7587</td>\n",
              "      <td>Японская иена</td>\n",
              "    </tr>\n",
              "    <tr>\n",
              "      <th>3</th>\n",
              "      <td>100</td>\n",
              "      <td>2015-01-15</td>\n",
              "      <td>56.5934</td>\n",
              "      <td>Японская иена</td>\n",
              "    </tr>\n",
              "    <tr>\n",
              "      <th>4</th>\n",
              "      <td>100</td>\n",
              "      <td>2015-01-16</td>\n",
              "      <td>55.1073</td>\n",
              "      <td>Японская иена</td>\n",
              "    </tr>\n",
              "    <tr>\n",
              "      <th>...</th>\n",
              "      <td>...</td>\n",
              "      <td>...</td>\n",
              "      <td>...</td>\n",
              "      <td>...</td>\n",
              "    </tr>\n",
              "    <tr>\n",
              "      <th>1332</th>\n",
              "      <td>100</td>\n",
              "      <td>2020-06-09</td>\n",
              "      <td>62.3657</td>\n",
              "      <td>Японская иена</td>\n",
              "    </tr>\n",
              "    <tr>\n",
              "      <th>1333</th>\n",
              "      <td>100</td>\n",
              "      <td>2020-06-10</td>\n",
              "      <td>63.6199</td>\n",
              "      <td>Японская иена</td>\n",
              "    </tr>\n",
              "    <tr>\n",
              "      <th>1334</th>\n",
              "      <td>100</td>\n",
              "      <td>2020-06-11</td>\n",
              "      <td>63.9529</td>\n",
              "      <td>Японская иена</td>\n",
              "    </tr>\n",
              "    <tr>\n",
              "      <th>1335</th>\n",
              "      <td>100</td>\n",
              "      <td>2020-06-12</td>\n",
              "      <td>64.6090</td>\n",
              "      <td>Японская иена</td>\n",
              "    </tr>\n",
              "    <tr>\n",
              "      <th>1336</th>\n",
              "      <td>100</td>\n",
              "      <td>2020-06-16</td>\n",
              "      <td>65.5691</td>\n",
              "      <td>Японская иена</td>\n",
              "    </tr>\n",
              "  </tbody>\n",
              "</table>\n",
              "<p>1337 rows × 4 columns</p>\n",
              "</div>"
            ],
            "text/plain": [
              "      nominal       data     curs            cdx\n",
              "0         100 2015-01-01  46.9998  Японская иена\n",
              "1         100 2015-01-13  52.8550  Японская иена\n",
              "2         100 2015-01-14  54.7587  Японская иена\n",
              "3         100 2015-01-15  56.5934  Японская иена\n",
              "4         100 2015-01-16  55.1073  Японская иена\n",
              "...       ...        ...      ...            ...\n",
              "1332      100 2020-06-09  62.3657  Японская иена\n",
              "1333      100 2020-06-10  63.6199  Японская иена\n",
              "1334      100 2020-06-11  63.9529  Японская иена\n",
              "1335      100 2020-06-12  64.6090  Японская иена\n",
              "1336      100 2020-06-16  65.5691  Японская иена\n",
              "\n",
              "[1337 rows x 4 columns]"
            ]
          },
          "metadata": {
            "tags": []
          },
          "execution_count": 12
        }
      ]
    },
    {
      "cell_type": "code",
      "metadata": {
        "id": "90MLzBOSFAZI",
        "colab_type": "code",
        "colab": {
          "base_uri": "https://localhost:8080/",
          "height": 268
        },
        "outputId": "b883cbdd-517b-4d83-e6ef-f6128037b9c7"
      },
      "source": [
        "rates.curs.plot() #График курса японской йены за 5 лет\n",
        "plt.show()"
      ],
      "execution_count": null,
      "outputs": [
        {
          "output_type": "display_data",
          "data": {
            "image/png": "[encoded data removed]",
            "text/plain": [
              "<Figure size 432x288 with 1 Axes>"
            ]
          },
          "metadata": {
            "tags": [],
            "needs_background": "light"
          }
        }
      ]
    },
    {
      "cell_type": "markdown",
      "metadata": {
        "id": "Qrq9lFatVRTy",
        "colab_type": "text"
      },
      "source": [
        "Поставнока задачи: спрогнозировать курс йены на 7 дней вперед. <br>\n",
        "Разобью датасет курса йены за 5 лет на куски по 28 дней для входных данных и на 7 последующих дней для обучения предсказания модели."
      ]
    },
    {
      "cell_type": "code",
      "metadata": {
        "id": "UgJ10NvqHxJx",
        "colab_type": "code",
        "colab": {
          "base_uri": "https://localhost:8080/",
          "height": 510
        },
        "outputId": "384e9017-e339-4c12-99b6-e209e206601d"
      },
      "source": [
        "rates.curs[100:128] #Пример обучающих данных 28 дней"
      ],
      "execution_count": null,
      "outputs": [
        {
          "output_type": "execute_result",
          "data": {
            "text/plain": [
              "100    45.0854\n",
              "101    44.6793\n",
              "102    44.9329\n",
              "103    44.5906\n",
              "104    44.1526\n",
              "105    44.7513\n",
              "106    43.7454\n",
              "107    43.5572\n",
              "108    43.4567\n",
              "109    43.6853\n",
              "110    43.5051\n",
              "111    43.8240\n",
              "112    43.6455\n",
              "113    44.1144\n",
              "114    44.4276\n",
              "115    45.2021\n",
              "116    45.7228\n",
              "117    45.2179\n",
              "118    45.0488\n",
              "119    45.1797\n",
              "120    46.0255\n",
              "121    46.5973\n",
              "122    47.0422\n",
              "123    46.9553\n",
              "124    46.3963\n",
              "125    45.8642\n",
              "126    46.2085\n",
              "127    45.8356\n",
              "Name: curs, dtype: float64"
            ]
          },
          "metadata": {
            "tags": []
          },
          "execution_count": 12
        }
      ]
    },
    {
      "cell_type": "code",
      "metadata": {
        "id": "54rd4q78IMzC",
        "colab_type": "code",
        "colab": {
          "base_uri": "https://localhost:8080/",
          "height": 153
        },
        "outputId": "2830bfda-8ab0-40c0-901d-35259b0ecf79"
      },
      "source": [
        "rates.curs[128:135] #Пример курса японской йены на 7 дней вперед"
      ],
      "execution_count": null,
      "outputs": [
        {
          "output_type": "execute_result",
          "data": {
            "text/plain": [
              "128    45.9611\n",
              "129    45.8424\n",
              "130    45.7284\n",
              "131    45.8385\n",
              "132    46.0756\n",
              "133    46.3329\n",
              "134    46.8044\n",
              "Name: curs, dtype: float64"
            ]
          },
          "metadata": {
            "tags": []
          },
          "execution_count": 13
        }
      ]
    },
    {
      "cell_type": "code",
      "metadata": {
        "id": "t8gwRaiAIa1e",
        "colab_type": "code",
        "colab": {}
      },
      "source": [
        " past = 28 #28 примеров курс валют прошлых 28 дней\n",
        " future = 7 #7 примеров того что модель должна предсказать"
      ],
      "execution_count": null,
      "outputs": []
    },
    {
      "cell_type": "code",
      "metadata": {
        "id": "S-Q9HrN7X_zT",
        "colab_type": "code",
        "colab": {}
      },
      "source": [
        "start = past #начнем обучение с 28 дня\n",
        "end = len(rates.curs) - future # Заканчиваем рассмотрение данных на 7 дне с конца"
      ],
      "execution_count": null,
      "outputs": []
    },
    {
      "cell_type": "markdown",
      "metadata": {
        "id": "N9L1h21IXyv_",
        "colab_type": "text"
      },
      "source": [
        "Соберу лист с данными для обучающией выборки (куски данных по 28 дням и куски с данными по 7 дням)"
      ]
    },
    {
      "cell_type": "code",
      "metadata": {
        "id": "8aguJa9GYOa3",
        "colab_type": "code",
        "colab": {}
      },
      "source": [
        "dataframe = []\n",
        "for day in range(start, end):\n",
        "  past_data = list(rates.curs[(day-past):day]) #Куски 28 дней в прошлом\n",
        "  future_data = list(rates.curs[day:(day + future)]) #Куски 7 дней в будущем\n",
        "  dataframe.append(past_data + future_data) #Оба куска складываю в 1 лист \"dataframe\"  "
      ],
      "execution_count": null,
      "outputs": []
    },
    {
      "cell_type": "code",
      "metadata": {
        "id": "5RuYoNdQa_B4",
        "colab_type": "code",
        "colab": {
          "base_uri": "https://localhost:8080/",
          "height": 612
        },
        "outputId": "6e2ea58c-60f8-41f0-e36b-02c6c952eb08"
      },
      "source": [
        "dataframe[0] #28 значений в прошлом + 7 значений для будущего предсказания"
      ],
      "execution_count": null,
      "outputs": [
        {
          "output_type": "execute_result",
          "data": {
            "text/plain": [
              "[46.9998,\n",
              " 52.855,\n",
              " 54.7587,\n",
              " 56.5934,\n",
              " 55.1073,\n",
              " 55.8928,\n",
              " 55.4332,\n",
              " 54.9636,\n",
              " 55.7092,\n",
              " 55.4472,\n",
              " 53.6274,\n",
              " 55.4844,\n",
              " 57.3928,\n",
              " 56.9218,\n",
              " 58.3078,\n",
              " 58.4888,\n",
              " 59.1802,\n",
              " 57.8117,\n",
              " 55.7494,\n",
              " 58.4672,\n",
              " 56.3028,\n",
              " 55.4208,\n",
              " 55.1155,\n",
              " 55.1568,\n",
              " 55.4409,\n",
              " 54.7104,\n",
              " 52.838,\n",
              " 52.9898,\n",
              " 52.3732,\n",
              " 52.3823,\n",
              " 52.0193,\n",
              " 53.2274,\n",
              " 52.6746,\n",
              " 51.1314,\n",
              " 51.3487]"
            ]
          },
          "metadata": {
            "tags": []
          },
          "execution_count": 28
        }
      ]
    },
    {
      "cell_type": "code",
      "metadata": {
        "id": "jk-vY4jdbAgO",
        "colab_type": "code",
        "colab": {}
      },
      "source": [
        "#Создание колонок для 28 дней обучающих данных \"учебника\" для формирования датасета\n",
        "past_columns = []\n",
        "for i in range(past):\n",
        "  past_columns.append(f'past_{i}')\n",
        "past_columns"
      ],
      "execution_count": null,
      "outputs": []
    },
    {
      "cell_type": "code",
      "metadata": {
        "id": "z7Sd5MFXbBHU",
        "colab_type": "code",
        "colab": {
          "base_uri": "https://localhost:8080/",
          "height": 136
        },
        "outputId": "29234d51-689c-42c6-ddaa-1f0883a64f66"
      },
      "source": [
        "#Создание колонок для 7 дней обучающей выборки \"ответы учебника\" для формирования датасета\n",
        "future_columns = []\n",
        "for i in range(future):\n",
        "  future_columns.append(f'future_{i}')\n",
        "future_columns"
      ],
      "execution_count": null,
      "outputs": [
        {
          "output_type": "execute_result",
          "data": {
            "text/plain": [
              "['future_0',\n",
              " 'future_1',\n",
              " 'future_2',\n",
              " 'future_3',\n",
              " 'future_4',\n",
              " 'future_5',\n",
              " 'future_6']"
            ]
          },
          "metadata": {
            "tags": []
          },
          "execution_count": 31
        }
      ]
    },
    {
      "cell_type": "code",
      "metadata": {
        "id": "RMSnO7pEcbaU",
        "colab_type": "code",
        "colab": {}
      },
      "source": [
        "jpy = pd.DataFrame(dataframe, columns=past_columns + future_columns) #Сбор датасета "
      ],
      "execution_count": null,
      "outputs": []
    },
    {
      "cell_type": "code",
      "metadata": {
        "id": "6T7d43-caHLb",
        "colab_type": "code",
        "colab": {
          "base_uri": "https://localhost:8080/",
          "height": 255
        },
        "outputId": "35dea9ab-a1a4-4443-e7f5-7705585717dc"
      },
      "source": [
        "jpy.head #Как выглядит собранный датасет"
      ],
      "execution_count": null,
      "outputs": [
        {
          "output_type": "execute_result",
          "data": {
            "text/plain": [
              "<bound method NDFrame.head of        past_0   past_1   past_2  ...  future_4  future_5  future_6\n",
              "0     46.9998  52.8550  54.7587  ...   52.6746   51.1314   51.3487\n",
              "1     52.8550  54.7587  56.5934  ...   51.1314   51.3487   51.8972\n",
              "2     54.7587  56.5934  55.1073  ...   51.3487   51.8972   52.0706\n",
              "3     56.5934  55.1073  55.8928  ...   51.8972   52.0706   51.6676\n",
              "4     55.1073  55.8928  55.4332  ...   52.0706   51.6676   51.6134\n",
              "...       ...      ...      ...  ...       ...       ...       ...\n",
              "1297  68.1430  68.6642  69.3285  ...   62.8397   63.2325   62.7951\n",
              "1298  68.6642  69.3285  68.5588  ...   63.2325   62.7951   62.3657\n",
              "1299  69.3285  68.5588  69.2889  ...   62.7951   62.3657   63.6199\n",
              "1300  68.5588  69.2889  71.0186  ...   62.3657   63.6199   63.9529\n",
              "1301  69.2889  71.0186  71.5568  ...   63.6199   63.9529   64.6090\n",
              "\n",
              "[1302 rows x 35 columns]>"
            ]
          },
          "metadata": {
            "tags": []
          },
          "execution_count": 37
        }
      ]
    },
    {
      "cell_type": "code",
      "metadata": {
        "id": "Xu_OUuMYdMPK",
        "colab_type": "code",
        "colab": {}
      },
      "source": [
        "x = jpy[past_columns] #Входные данные"
      ],
      "execution_count": null,
      "outputs": []
    },
    {
      "cell_type": "code",
      "metadata": {
        "id": "KWorHN4IdNLM",
        "colab_type": "code",
        "colab": {}
      },
      "source": [
        "y = jpy[future_columns] #Выходные данные"
      ],
      "execution_count": null,
      "outputs": []
    },
    {
      "cell_type": "code",
      "metadata": {
        "id": "wdM9QqKNdnUX",
        "colab_type": "code",
        "colab": {}
      },
      "source": [
        "#Тренировочная выборка, это та, на которой мы тренируем модель, \"Учебник\"\n",
        "x_train = x[:-10] # Задачи учебника\n",
        "y_train = y[:-10] # Ответы на задачи учебника"
      ],
      "execution_count": null,
      "outputs": []
    },
    {
      "cell_type": "code",
      "metadata": {
        "id": "qznloLL7e4Uh",
        "colab_type": "code",
        "colab": {}
      },
      "source": [
        "#Проверочная выборка, это та на которой мы проверим качество обучения модели \"Экзамен\"\n",
        "x_test = x[-10:] # Задачи экзамена\n",
        "y_test = y[-10:] # Ответы на задачи экзамена"
      ],
      "execution_count": null,
      "outputs": []
    },
    {
      "cell_type": "code",
      "metadata": {
        "id": "-z3FRRE0eW7-",
        "colab_type": "code",
        "colab": {}
      },
      "source": [
        "from sklearn.linear_model import LinearRegression #Для обучения возьму модель LinearRegression из библиотеки \"sklearn\""
      ],
      "execution_count": null,
      "outputs": []
    },
    {
      "cell_type": "code",
      "metadata": {
        "id": "Zgza87lBeYVX",
        "colab_type": "code",
        "colab": {}
      },
      "source": [
        "linreg = LinearRegression()"
      ],
      "execution_count": null,
      "outputs": []
    },
    {
      "cell_type": "code",
      "metadata": {
        "id": "Ttmd1uXQw73L",
        "colab_type": "code",
        "colab": {
          "base_uri": "https://localhost:8080/",
          "height": 34
        },
        "outputId": "f8fa53db-5ea1-4408-8298-02278aeaa161"
      },
      "source": [
        "linreg.fit(x_train, y_train) #Обучение модели LinearRegression на выходных и выходных данных"
      ],
      "execution_count": null,
      "outputs": [
        {
          "output_type": "execute_result",
          "data": {
            "text/plain": [
              "LinearRegression(copy_X=True, fit_intercept=True, n_jobs=None, normalize=False)"
            ]
          },
          "metadata": {
            "tags": []
          },
          "execution_count": 45
        }
      ]
    },
    {
      "cell_type": "code",
      "metadata": {
        "id": "3GSjmaNqxNIH",
        "colab_type": "code",
        "colab": {
          "base_uri": "https://localhost:8080/",
          "height": 100
        },
        "outputId": "34fc875f-662d-48db-b109-291060e602dc"
      },
      "source": [
        "x_test.head(1)"
      ],
      "execution_count": null,
      "outputs": [
        {
          "output_type": "execute_result",
          "data": {
            "text/html": [
              "<div>\n",
              "<style scoped>\n",
              "    .dataframe tbody tr th:only-of-type {\n",
              "        vertical-align: middle;\n",
              "    }\n",
              "\n",
              "    .dataframe tbody tr th {\n",
              "        vertical-align: top;\n",
              "    }\n",
              "\n",
              "    .dataframe thead th {\n",
              "        text-align: right;\n",
              "    }\n",
              "</style>\n",
              "<table border=\"1\" class=\"dataframe\">\n",
              "  <thead>\n",
              "    <tr style=\"text-align: right;\">\n",
              "      <th></th>\n",
              "      <th>past_0</th>\n",
              "      <th>past_1</th>\n",
              "      <th>past_2</th>\n",
              "      <th>past_3</th>\n",
              "      <th>past_4</th>\n",
              "      <th>past_5</th>\n",
              "      <th>past_6</th>\n",
              "      <th>past_7</th>\n",
              "      <th>past_8</th>\n",
              "      <th>past_9</th>\n",
              "      <th>past_10</th>\n",
              "      <th>past_11</th>\n",
              "      <th>past_12</th>\n",
              "      <th>past_13</th>\n",
              "      <th>past_14</th>\n",
              "      <th>past_15</th>\n",
              "      <th>past_16</th>\n",
              "      <th>past_17</th>\n",
              "      <th>past_18</th>\n",
              "      <th>past_19</th>\n",
              "      <th>past_20</th>\n",
              "      <th>past_21</th>\n",
              "      <th>past_22</th>\n",
              "      <th>past_23</th>\n",
              "      <th>past_24</th>\n",
              "      <th>past_25</th>\n",
              "      <th>past_26</th>\n",
              "      <th>past_27</th>\n",
              "    </tr>\n",
              "  </thead>\n",
              "  <tbody>\n",
              "    <tr>\n",
              "      <th>1292</th>\n",
              "      <td>69.3106</td>\n",
              "      <td>69.6391</td>\n",
              "      <td>68.5047</td>\n",
              "      <td>68.0459</td>\n",
              "      <td>68.0877</td>\n",
              "      <td>68.143</td>\n",
              "      <td>68.6642</td>\n",
              "      <td>69.3285</td>\n",
              "      <td>68.5588</td>\n",
              "      <td>69.2889</td>\n",
              "      <td>71.0186</td>\n",
              "      <td>71.5568</td>\n",
              "      <td>69.8063</td>\n",
              "      <td>69.4035</td>\n",
              "      <td>69.4763</td>\n",
              "      <td>69.6629</td>\n",
              "      <td>69.2147</td>\n",
              "      <td>68.198</td>\n",
              "      <td>69.5323</td>\n",
              "      <td>69.6587</td>\n",
              "      <td>69.4813</td>\n",
              "      <td>68.3126</td>\n",
              "      <td>68.7585</td>\n",
              "      <td>69.1935</td>\n",
              "      <td>68.3813</td>\n",
              "      <td>68.0464</td>\n",
              "      <td>67.4196</td>\n",
              "      <td>67.1694</td>\n",
              "    </tr>\n",
              "  </tbody>\n",
              "</table>\n",
              "</div>"
            ],
            "text/plain": [
              "       past_0   past_1   past_2   past_3  ...  past_24  past_25  past_26  past_27\n",
              "1292  69.3106  69.6391  68.5047  68.0459  ...  68.3813  68.0464  67.4196  67.1694\n",
              "\n",
              "[1 rows x 28 columns]"
            ]
          },
          "metadata": {
            "tags": []
          },
          "execution_count": 46
        }
      ]
    },
    {
      "cell_type": "code",
      "metadata": {
        "id": "STN968h4y-es",
        "colab_type": "code",
        "colab": {}
      },
      "source": [
        "firstDay = x_test.head(1) #Тестовые данные для предсказания модели в определенный день"
      ],
      "execution_count": null,
      "outputs": []
    },
    {
      "cell_type": "code",
      "metadata": {
        "id": "mUFrxniezLKS",
        "colab_type": "code",
        "colab": {}
      },
      "source": [
        "firstDayReal = y_test.head(1) #Реальные значения в определенный день"
      ],
      "execution_count": null,
      "outputs": []
    },
    {
      "cell_type": "code",
      "metadata": {
        "id": "coVAyW5kxpmb",
        "colab_type": "code",
        "colab": {}
      },
      "source": [
        "prediction = linreg.predict(firstDay) #Данные предсказания мождели "
      ],
      "execution_count": null,
      "outputs": []
    },
    {
      "cell_type": "code",
      "metadata": {
        "id": "VBXhPwPYbwgk",
        "colab_type": "code",
        "colab": {
          "base_uri": "https://localhost:8080/",
          "height": 51
        },
        "outputId": "d2404c9d-8bd3-4c5d-9cc4-713ebaf19510"
      },
      "source": [
        "prediction #Данные которые предсказала модель"
      ],
      "execution_count": null,
      "outputs": [
        {
          "output_type": "execute_result",
          "data": {
            "text/plain": [
              "array([[66.94089812, 66.84511025, 66.95791925, 66.85572977, 66.67417993,\n",
              "        66.51954322, 66.4352194 ]])"
            ]
          },
          "metadata": {
            "tags": []
          },
          "execution_count": 63
        }
      ]
    },
    {
      "cell_type": "code",
      "metadata": {
        "id": "oyJEQiC-y4LL",
        "colab_type": "code",
        "colab": {
          "base_uri": "https://localhost:8080/",
          "height": 80
        },
        "outputId": "831e739b-2000-4db7-cb4e-9926f21e88ca"
      },
      "source": [
        "firstDayReal #Реальные данные "
      ],
      "execution_count": null,
      "outputs": [
        {
          "output_type": "execute_result",
          "data": {
            "text/html": [
              "<div>\n",
              "<style scoped>\n",
              "    .dataframe tbody tr th:only-of-type {\n",
              "        vertical-align: middle;\n",
              "    }\n",
              "\n",
              "    .dataframe tbody tr th {\n",
              "        vertical-align: top;\n",
              "    }\n",
              "\n",
              "    .dataframe thead th {\n",
              "        text-align: right;\n",
              "    }\n",
              "</style>\n",
              "<table border=\"1\" class=\"dataframe\">\n",
              "  <thead>\n",
              "    <tr style=\"text-align: right;\">\n",
              "      <th></th>\n",
              "      <th>future_0</th>\n",
              "      <th>future_1</th>\n",
              "      <th>future_2</th>\n",
              "      <th>future_3</th>\n",
              "      <th>future_4</th>\n",
              "      <th>future_5</th>\n",
              "      <th>future_6</th>\n",
              "    </tr>\n",
              "  </thead>\n",
              "  <tbody>\n",
              "    <tr>\n",
              "      <th>1292</th>\n",
              "      <td>65.838</td>\n",
              "      <td>66.8748</td>\n",
              "      <td>66.4528</td>\n",
              "      <td>65.9872</td>\n",
              "      <td>66.0841</td>\n",
              "      <td>65.9413</td>\n",
              "      <td>65.9539</td>\n",
              "    </tr>\n",
              "  </tbody>\n",
              "</table>\n",
              "</div>"
            ],
            "text/plain": [
              "      future_0  future_1  future_2  future_3  future_4  future_5  future_6\n",
              "1292    65.838   66.8748   66.4528   65.9872   66.0841   65.9413   65.9539"
            ]
          },
          "metadata": {
            "tags": []
          },
          "execution_count": 50
        }
      ]
    },
    {
      "cell_type": "code",
      "metadata": {
        "id": "mXVniqpozUV0",
        "colab_type": "code",
        "colab": {}
      },
      "source": [
        "from sklearn.metrics import mean_absolute_error #Метрика для определения абсолютной ошибки предсказания"
      ],
      "execution_count": null,
      "outputs": []
    },
    {
      "cell_type": "code",
      "metadata": {
        "id": "V-jYFe7Szncg",
        "colab_type": "code",
        "colab": {
          "base_uri": "https://localhost:8080/",
          "height": 34
        },
        "outputId": "6ae8760f-3260-4fa6-ba91-8483627447e0"
      },
      "source": [
        "mean_absolute_error(prediction[0], firstDayReal.iloc[0]) #Абсолютная ошибка модели в копейках"
      ],
      "execution_count": null,
      "outputs": [
        {
          "output_type": "execute_result",
          "data": {
            "text/plain": [
              "0.5936970623515399"
            ]
          },
          "metadata": {
            "tags": []
          },
          "execution_count": 65
        }
      ]
    },
    {
      "cell_type": "code",
      "metadata": {
        "id": "vHszv-P-0T1l",
        "colab_type": "code",
        "colab": {
          "base_uri": "https://localhost:8080/",
          "height": 268
        },
        "outputId": "07c89574-b36d-4ecd-df10-e48837d580bd"
      },
      "source": [
        "#График предсказания модели и реальных значений за тот же день\n",
        "plt.plot(prediction[0], label = 'Prediction')\n",
        "plt.plot(firstDayReal.iloc[0], label = 'real')\n",
        "plt.legend()\n",
        "plt.show()"
      ],
      "execution_count": null,
      "outputs": [
        {
          "output_type": "display_data",
          "data": {
            "image/png": "[encoded data removed]",
            "text/plain": [
              "<Figure size 432x288 with 1 Axes>"
            ]
          },
          "metadata": {
            "tags": [],
            "needs_background": "light"
          }
        }
      ]
    },
    {
      "cell_type": "code",
      "metadata": {
        "id": "XNuKqB7A0n5B",
        "colab_type": "code",
        "colab": {
          "base_uri": "https://localhost:8080/",
          "height": 300
        },
        "outputId": "f2acef17-0b4c-48c0-ab90-cdbef085f30f"
      },
      "source": [
        "prediction = linreg.predict([x_test.iloc[1]])\n",
        "real = y_test.iloc[1]\n",
        "mae = mean_absolute_error(prediction[0], real)\n",
        "print(f'MAE = {mae}')\n",
        "plt.plot(prediction[0], label = 'Prediction')\n",
        "plt.plot(real, label = 'real')\n",
        "plt.legend()\n",
        "plt.show()"
      ],
      "execution_count": null,
      "outputs": [
        {
          "output_type": "stream",
          "text": [
            "MAE = 0.5107929403069623\n"
          ],
          "name": "stdout"
        },
        {
          "output_type": "execute_result",
          "data": {
            "text/plain": [
              "<matplotlib.legend.Legend at 0x7f363bfe6dd8>"
            ]
          },
          "metadata": {
            "tags": []
          },
          "execution_count": 37
        },
        {
          "output_type": "display_data",
          "data": {
            "image/png": "[encoded data removed]",
            "text/plain": [
              "<Figure size 432x288 with 1 Axes>"
            ]
          },
          "metadata": {
            "tags": [],
            "needs_background": "light"
          }
        }
      ]
    },
    {
      "cell_type": "code",
      "metadata": {
        "id": "CeOHxOMM1Kib",
        "colab_type": "code",
        "colab": {}
      },
      "source": [
        "#Загрузка модели KNeighborsRegressor из sklearn\n",
        "from sklearn.neighbors import KNeighborsRegressor \n"
      ],
      "execution_count": null,
      "outputs": []
    },
    {
      "cell_type": "code",
      "metadata": {
        "id": "mjKGSZYm2yHQ",
        "colab_type": "code",
        "colab": {
          "base_uri": "https://localhost:8080/",
          "height": 68
        },
        "outputId": "ff5eedaf-bedd-4425-a821-40187ca5a539"
      },
      "source": [
        "#Обучение модели KNeighborsRegressor as knn\n",
        "knn = KNeighborsRegressor(n_neighbors=2)\n",
        "knn.fit(x_train, y_train)"
      ],
      "execution_count": null,
      "outputs": [
        {
          "output_type": "execute_result",
          "data": {
            "text/plain": [
              "KNeighborsRegressor(algorithm='auto', leaf_size=30, metric='minkowski',\n",
              "                    metric_params=None, n_jobs=None, n_neighbors=2, p=2,\n",
              "                    weights='uniform')"
            ]
          },
          "metadata": {
            "tags": []
          },
          "execution_count": 39
        }
      ]
    },
    {
      "cell_type": "code",
      "metadata": {
        "id": "mGPCfHVO20yg",
        "colab_type": "code",
        "colab": {
          "base_uri": "https://localhost:8080/",
          "height": 300
        },
        "outputId": "17185dac-f112-4364-ebe0-759ba1f25cdd"
      },
      "source": [
        "#График предсказания и реальных значениях + абсолютная ошибка между ними\n",
        "prediction = knn.predict([x_test.iloc[1]])\n",
        "real = y_test.iloc[1]\n",
        "mae = mean_absolute_error(prediction[0], real)\n",
        "print(f'MAE = {mae}')\n",
        "plt.plot(prediction[0], label = 'Prediction')\n",
        "plt.plot(real, label = 'real')\n",
        "plt.legend()\n",
        "plt.show()"
      ],
      "execution_count": null,
      "outputs": [
        {
          "output_type": "stream",
          "text": [
            "MAE = 0.4159499999999972\n"
          ],
          "name": "stdout"
        },
        {
          "output_type": "execute_result",
          "data": {
            "text/plain": [
              "<matplotlib.legend.Legend at 0x7f363b14a940>"
            ]
          },
          "metadata": {
            "tags": []
          },
          "execution_count": 40
        },
        {
          "output_type": "display_data",
          "data": {
            "image/png": "[encoded data removed]",
            "text/plain": [
              "<Figure size 432x288 with 1 Axes>"
            ]
          },
          "metadata": {
            "tags": [],
            "needs_background": "light"
          }
        }
      ]
    },
    {
      "cell_type": "code",
      "metadata": {
        "id": "ZOmtGLcV3fVb",
        "colab_type": "code",
        "colab": {}
      },
      "source": [
        "#Загрузка модели НС для глубокого обучения MLPRegressor из библиотеки sklearn\n",
        "from sklearn.neural_network import MLPRegressor"
      ],
      "execution_count": null,
      "outputs": []
    },
    {
      "cell_type": "code",
      "metadata": {
        "id": "N5priw144SX6",
        "colab_type": "code",
        "colab": {
          "base_uri": "https://localhost:8080/",
          "height": 153
        },
        "outputId": "0b953e45-08b9-48d1-e416-6aa767535ad2"
      },
      "source": [
        "#Задание параметров для модели, max_iter - сколько итерация обучения проводить\n",
        "#Сколько использовать скрытых слоев hidden_layer_sizes (глубина обучения НС)\n",
        "mlp = MLPRegressor(max_iter=1000, hidden_layer_sizes=(300,300,300))\n",
        "mlp.fit(x_train, y_train)"
      ],
      "execution_count": null,
      "outputs": [
        {
          "output_type": "execute_result",
          "data": {
            "text/plain": [
              "MLPRegressor(activation='relu', alpha=0.0001, batch_size='auto', beta_1=0.9,\n",
              "             beta_2=0.999, early_stopping=False, epsilon=1e-08,\n",
              "             hidden_layer_sizes=(300, 300, 300), learning_rate='constant',\n",
              "             learning_rate_init=0.001, max_fun=15000, max_iter=1000,\n",
              "             momentum=0.9, n_iter_no_change=10, nesterovs_momentum=True,\n",
              "             power_t=0.5, random_state=None, shuffle=True, solver='adam',\n",
              "             tol=0.0001, validation_fraction=0.1, verbose=False,\n",
              "             warm_start=False)"
            ]
          },
          "metadata": {
            "tags": []
          },
          "execution_count": 42
        }
      ]
    },
    {
      "cell_type": "code",
      "metadata": {
        "id": "3xAM3xsD4goT",
        "colab_type": "code",
        "colab": {
          "base_uri": "https://localhost:8080/",
          "height": 300
        },
        "outputId": "9b58bacf-3955-4a85-dd54-110f0e7058b1"
      },
      "source": [
        "prediction = mlp.predict([x_test.iloc[1]])\n",
        "real = y_test.iloc[1]\n",
        "mae = mean_absolute_error(prediction[0], real)\n",
        "print(f'MAE = {mae}')\n",
        "plt.plot(prediction[0], label = 'Prediction')\n",
        "plt.plot(real, label = 'real')\n",
        "plt.legend()"
      ],
      "execution_count": null,
      "outputs": [
        {
          "output_type": "stream",
          "text": [
            "MAE = 1.5884998311614769\n"
          ],
          "name": "stdout"
        },
        {
          "output_type": "execute_result",
          "data": {
            "text/plain": [
              "<matplotlib.legend.Legend at 0x7f363b0d98d0>"
            ]
          },
          "metadata": {
            "tags": []
          },
          "execution_count": 43
        },
        {
          "output_type": "display_data",
          "data": {
            "image/png": "[encoded data removed]",
            "text/plain": [
              "<Figure size 432x288 with 1 Axes>"
            ]
          },
          "metadata": {
            "tags": [],
            "needs_background": "light"
          }
        }
      ]
    },
    {
      "cell_type": "markdown",
      "metadata": {
        "id": "AByIcHwmPZ2V",
        "colab_type": "text"
      },
      "source": [
        "Вывод: Модель MLPRegressor предсказала хуже, чем KNeighborsRegressor и LinearRegression, необходимо подбирать параметры НС. Создадим сетку параметров для НС при помощи модуля GridSearchCV"
      ]
    },
    {
      "cell_type": "code",
      "metadata": {
        "id": "q_4Ry_6X4qGo",
        "colab_type": "code",
        "colab": {}
      },
      "source": [
        "# GridSearchCV\n",
        "# Поиск по сетке параметров\n",
        "max_iter: 100, 500, 1000, 3000 #Кол-во итераций\n",
        "hidden_layer_sizes: (100,), (50, 50, 50), (200, 200,) #Скрытые слои\n",
        "# CV - cross validation - обучение модели с разными стартовыми значениями"
      ],
      "execution_count": null,
      "outputs": []
    },
    {
      "cell_type": "code",
      "metadata": {
        "id": "kOF8vD7yl6uI",
        "colab_type": "code",
        "colab": {}
      },
      "source": [
        "#Загрузка GridSearchCV из библиотеки sklearn\n",
        "from sklearn.model_selection import GridSearchCV "
      ],
      "execution_count": null,
      "outputs": []
    },
    {
      "cell_type": "code",
      "metadata": {
        "id": "CBe4Qjgsl9-9",
        "colab_type": "code",
        "colab": {}
      },
      "source": [
        "#Задаю статичный выбор данных для обучения модели, чтобы нивелировать вероятность лучших стартовых данных для обучения\n",
        "mlp = MLPRegressor(random_state = 42)"
      ],
      "execution_count": null,
      "outputs": []
    },
    {
      "cell_type": "code",
      "metadata": {
        "id": "U5t848NimHOE",
        "colab_type": "code",
        "colab": {}
      },
      "source": [
        "#Настройка сетки параметров для перебора\n",
        "grid = {\n",
        "    'max_iter': [100, 250, 500, 1000],\n",
        "    'hidden_layer_sizes': [(100,), (50, 50, 50), (200, 200,)],\n",
        "    'activation': ['tanh', 'relu'],\n",
        "}"
      ],
      "execution_count": null,
      "outputs": []
    },
    {
      "cell_type": "code",
      "metadata": {
        "id": "sDmU5H64nG8T",
        "colab_type": "code",
        "colab": {}
      },
      "source": [
        "#Настройка GridSearchCV\n",
        "#mlp - модель, которая будет использоваться в GridSearchCV\n",
        "#grid - сетка параметров в виде dict - словаря\n",
        "#cv - кросс валидация, сколько раз будет начинаться обучение с разных стартовых позиций\n",
        "#n_jobs - сколько ядер будет использоваться для параллельных вычислений (значение -1 значит все доступные ядра)\n",
        "gs = GridSearchCV(\n",
        "    mlp, grid, scoring='neg_mean_absolute_error', cv=3, n_jobs=-1\n",
        "    )"
      ],
      "execution_count": null,
      "outputs": []
    },
    {
      "cell_type": "code",
      "metadata": {
        "id": "Ae22vCxVn-rK",
        "colab_type": "code",
        "colab": {
          "base_uri": "https://localhost:8080/",
          "height": 374
        },
        "outputId": "a07c2ecc-0e03-4e0d-bab2-72d6f7c6bfbc"
      },
      "source": [
        "#Перебор параметров в GridSearchCV и обучение на входных и выходных данных\n",
        "gs.fit(x_train, y_train)"
      ],
      "execution_count": null,
      "outputs": [
        {
          "output_type": "execute_result",
          "data": {
            "text/plain": [
              "GridSearchCV(cv=3, error_score=nan,\n",
              "             estimator=MLPRegressor(activation='relu', alpha=0.0001,\n",
              "                                    batch_size='auto', beta_1=0.9, beta_2=0.999,\n",
              "                                    early_stopping=False, epsilon=1e-08,\n",
              "                                    hidden_layer_sizes=(100,),\n",
              "                                    learning_rate='constant',\n",
              "                                    learning_rate_init=0.001, max_fun=15000,\n",
              "                                    max_iter=200, momentum=0.9,\n",
              "                                    n_iter_no_change=10,\n",
              "                                    nesterovs_momentum=True, power_t=0.5,\n",
              "                                    random_state=42, shuffle=True,\n",
              "                                    solver='adam', tol=0.0001,\n",
              "                                    validation_fraction=0.1, verbose=False,\n",
              "                                    warm_start=False),\n",
              "             iid='deprecated', n_jobs=-1,\n",
              "             param_grid={'activation': ['tanh', 'relu'],\n",
              "                         'hidden_layer_sizes': [(100,), (50, 50, 50),\n",
              "                                                (200, 200)],\n",
              "                         'max_iter': [100, 250, 500, 1000]},\n",
              "             pre_dispatch='2*n_jobs', refit=True, return_train_score=False,\n",
              "             scoring='neg_mean_absolute_error', verbose=0)"
            ]
          },
          "metadata": {
            "tags": []
          },
          "execution_count": 48
        }
      ]
    },
    {
      "cell_type": "code",
      "metadata": {
        "id": "W5N-kEGipB91",
        "colab_type": "code",
        "colab": {
          "base_uri": "https://localhost:8080/",
          "height": 34
        },
        "outputId": "2e8f5a39-9da8-431e-83d2-92fc4fd61ea8"
      },
      "source": [
        "#Лучший результат\n",
        "gs.best_score_"
      ],
      "execution_count": null,
      "outputs": [
        {
          "output_type": "execute_result",
          "data": {
            "text/plain": [
              "-1.1321154880437618"
            ]
          },
          "metadata": {
            "tags": []
          },
          "execution_count": 52
        }
      ]
    },
    {
      "cell_type": "code",
      "metadata": {
        "id": "trG3-i_BrfZI",
        "colab_type": "code",
        "colab": {
          "base_uri": "https://localhost:8080/",
          "height": 34
        },
        "outputId": "b96743af-b1b3-4893-ed6a-ee8602999cfd"
      },
      "source": [
        "#Лучшие параметры из предоставленной сетки парметров\n",
        "gs.best_params_"
      ],
      "execution_count": null,
      "outputs": [
        {
          "output_type": "execute_result",
          "data": {
            "text/plain": [
              "{'activation': 'relu', 'hidden_layer_sizes': (100,), 'max_iter': 250}"
            ]
          },
          "metadata": {
            "tags": []
          },
          "execution_count": 53
        }
      ]
    },
    {
      "cell_type": "code",
      "metadata": {
        "id": "Ba34cmxcrsDg",
        "colab_type": "code",
        "colab": {
          "base_uri": "https://localhost:8080/",
          "height": 153
        },
        "outputId": "a15282a7-6c4d-4a8d-c52b-95f22081e8d8"
      },
      "source": [
        "#Лучшие настройки\n",
        "gs.best_estimator_"
      ],
      "execution_count": null,
      "outputs": [
        {
          "output_type": "execute_result",
          "data": {
            "text/plain": [
              "MLPRegressor(activation='relu', alpha=0.0001, batch_size='auto', beta_1=0.9,\n",
              "             beta_2=0.999, early_stopping=False, epsilon=1e-08,\n",
              "             hidden_layer_sizes=(100,), learning_rate='constant',\n",
              "             learning_rate_init=0.001, max_fun=15000, max_iter=250,\n",
              "             momentum=0.9, n_iter_no_change=10, nesterovs_momentum=True,\n",
              "             power_t=0.5, random_state=42, shuffle=True, solver='adam',\n",
              "             tol=0.0001, validation_fraction=0.1, verbose=False,\n",
              "             warm_start=False)"
            ]
          },
          "metadata": {
            "tags": []
          },
          "execution_count": 54
        }
      ]
    }
  ]
}